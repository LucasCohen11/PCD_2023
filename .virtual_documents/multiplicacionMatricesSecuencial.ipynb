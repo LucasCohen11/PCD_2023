


import random as r


def generate_matrix(n,m):
    mat=[[0]*m]*n
    for i in range(n):
        for j in range(m):
            mat[i][0]=r.randint(1,222)
    return mat


import numpy as np


def generate_matrix_np(n,m):
    return np.random.randint(1,222,size=(n,m))


%%timeit
generate_matrix(300,300)


%%timeit
generate_matrix_np(300,300)


def multMat(a,b):
    if(len(a[0])==len(b) and type(a)==type(b) and type(a[0][0])==type(b[0][0])):
        out=[[0]*len(b[0])]*len(a)
        
        print("dimensiones out: ",len(out),"x",len(out[0]))
        for i in range(len(a)):
        # iterate through columns of Y
           for j in range(len(b[0])):
               # iterate through rows of Y
               for k in range(len(b)):
                   out[i][j] += a[i][k] * b[k][j]
        return out
    else:
        print("no se pueden multiplicar")
        return null



nA,mA,nB,mB=input("ingrese las filas de a:"),input("ingrese las columnas de a:"),input("ingrese las filas de b:"),input("ingrese las columnas de b:")
a,b= generate_matrix(int(nA),int(mA)),generate_matrix(int(nB),int(mB))
multMat(a,b)



