{
 "cells": [
  {
   "attachments": {},
   "cell_type": "markdown",
   "id": "c482e96d-80a9-4ec4-aa72-1bd10b9f8fda",
   "metadata": {},
   "source": [
    "# crear una matriz 300x300\n",
    "## con numeros aleatorios del 1 al 222 (primeros 3 digitos del expediente)"
   ]
  },
  {
   "cell_type": "code",
   "execution_count": 1,
   "id": "2eb1654c-e24b-4759-8d95-d71ed55fb729",
   "metadata": {},
   "outputs": [],
   "source": [
    "import random as r"
   ]
  },
  {
   "cell_type": "code",
   "execution_count": 2,
   "id": "4919e4d9-e06b-4c76-9a0d-b5dedbca1533",
   "metadata": {},
   "outputs": [],
   "source": [
    "def generate_matrix(n,m):\n",
    "    mat=[[0]*m]*n\n",
    "    for i in range(n):\n",
    "        for j in range(m):\n",
    "            mat[i][j]=r.randint(1,222)\n",
    "    return mat"
   ]
  },
  {
   "cell_type": "code",
   "execution_count": 3,
   "id": "d8745583-1059-4c1b-b4b9-92d5ea3a7792",
   "metadata": {},
   "outputs": [],
   "source": [
    "import numpy as np"
   ]
  },
  {
   "cell_type": "code",
   "execution_count": 4,
   "id": "566424f1-27b5-450d-b68d-8b7bbc60ecfb",
   "metadata": {},
   "outputs": [],
   "source": [
    "def generate_matrix_np(n,m):\n",
    "    return np.random.randint(1,222,size=(n,m))"
   ]
  },
  {
   "cell_type": "code",
   "execution_count": 5,
   "id": "5e33dd40-7173-4507-a3a3-0fdf0fedbd07",
   "metadata": {},
   "outputs": [
    {
     "name": "stdout",
     "output_type": "stream",
     "text": [
      "21.4 ms ± 94 µs per loop (mean ± std. dev. of 7 runs, 10 loops each)\n"
     ]
    }
   ],
   "source": [
    "%%timeit\n",
    "generate_matrix(300,300)"
   ]
  },
  {
   "cell_type": "code",
   "execution_count": 6,
   "id": "64a7796d-f6a8-4ab9-8e7c-2a3c1d50000d",
   "metadata": {},
   "outputs": [
    {
     "name": "stdout",
     "output_type": "stream",
     "text": [
      "421 µs ± 14.4 µs per loop (mean ± std. dev. of 7 runs, 1,000 loops each)\n"
     ]
    }
   ],
   "source": [
    "%%timeit\n",
    "generate_matrix_np(300,300)"
   ]
  },
  {
   "cell_type": "code",
   "execution_count": 7,
   "id": "d6aa36ca-8a8d-4350-bf10-8409a3505ace",
   "metadata": {},
   "outputs": [],
   "source": [
    "def multMat(a,b):\n",
    "    if(len(a[0])==len(b) and type(a)==type(b) and type(a[0][0])==type(b[0][0])):\n",
    "        out=[[0]*len(b[0])]*len(a)\n",
    "        \n",
    "        print(\"dimensiones out: \",len(out),\"x\",len(out[0]))\n",
    "        for i in range(len(a)):\n",
    "        # iterate through columns of Y\n",
    "           for j in range(len(b[0])):\n",
    "               # iterate through rows of Y\n",
    "               for k in range(len(b)):\n",
    "                   out[i][j] += a[i][k] * b[k][j]\n",
    "        return out\n",
    "    else:\n",
    "        print(\"no se pueden multiplicar\")\n",
    "        return None\n"
   ]
  },
  {
   "cell_type": "code",
   "execution_count": 8,
   "id": "e78c0f7d-ec74-4605-a719-c325f41f7386",
   "metadata": {},
   "outputs": [
    {
     "name": "stdout",
     "output_type": "stream",
     "text": [
      "dimensiones out:  2 x 2\n"
     ]
    },
    {
     "data": {
      "text/plain": [
       "[[2366, 24674], [2366, 24674]]"
      ]
     },
     "execution_count": 8,
     "metadata": {},
     "output_type": "execute_result"
    }
   ],
   "source": [
    "nA,mA,nB,mB=input(\"ingrese las filas de a:\"),input(\"ingrese las columnas de a:\"),input(\"ingrese las filas de b:\"),input(\"ingrese las columnas de b:\")\n",
    "a,b= generate_matrix(int(nA),int(mA)),generate_matrix(int(nB),int(mB))\n",
    "multMat(a,b)"
   ]
  },
  {
   "attachments": {},
   "cell_type": "markdown",
   "id": "7c4e24f2",
   "metadata": {},
   "source": [
    "## Multiplicacion paralela, usando todos los cores"
   ]
  },
  {
   "cell_type": "code",
   "execution_count": 9,
   "id": "17c27015",
   "metadata": {},
   "outputs": [],
   "source": [
    "import multiprocessing as mp"
   ]
  },
  {
   "cell_type": "code",
   "execution_count": 15,
   "id": "19e7f1c0",
   "metadata": {},
   "outputs": [],
   "source": [
    "def par_mult(a,b):\n",
    "    coreCount = mp.cpu_count()"
   ]
  },
  {
   "cell_type": "code",
   "execution_count": null,
   "id": "a28474ec",
   "metadata": {},
   "outputs": [],
   "source": []
  }
 ],
 "metadata": {
  "kernelspec": {
   "display_name": "Python 3 (ipykernel)",
   "language": "python",
   "name": "python3"
  },
  "language_info": {
   "codemirror_mode": {
    "name": "ipython",
    "version": 3
   },
   "file_extension": ".py",
   "mimetype": "text/x-python",
   "name": "python",
   "nbconvert_exporter": "python",
   "pygments_lexer": "ipython3",
   "version": "3.11.5"
  }
 },
 "nbformat": 4,
 "nbformat_minor": 5
}
