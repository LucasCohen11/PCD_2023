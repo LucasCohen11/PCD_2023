{
 "cells": [
  {
   "cell_type": "code",
   "execution_count": 25,
   "id": "5499a6d6-55bb-4612-9fc5-cc01bb5c4f5b",
   "metadata": {},
   "outputs": [],
   "source": [
    "import threading as th,time\n",
    "import urllib.request as rq\n",
    "import IPython as ip\n",
    "import os"
   ]
  },
  {
   "cell_type": "code",
   "execution_count": 59,
   "id": "49900767-7a77-491c-ace7-7564b37600b9",
   "metadata": {},
   "outputs": [],
   "source": [
    "count=0\n",
    "#os.chdir(\"Documents/Code/PCD_2023/\")\n",
    "def getImg(num):\n",
    "    #get imagen from api\n",
    "    response = rq.urlretrieve(\"https://picsum.photos/id/\"+str(num)+\"/200/300\")\n",
    "    #download archivo\n",
    "    #\"https://picsum.photos/id/\"+num+\"/200/300\"\n",
    "    #'https://storage.googleapis.com/christian_vladimir_sucuzhanay_bucket/pictures_videos/pic00'+str(num)+'.jpeg'\n",
    "\n",
    "    print(response)\n",
    "    "
   ]
  },
  {
   "cell_type": "code",
   "execution_count": 60,
   "id": "22fae908-be8d-47f2-86b4-b7ebb8aaf4b9",
   "metadata": {},
   "outputs": [
    {
     "name": "stdout",
     "output_type": "stream",
     "text": [
      "/Users/lucas/Documents/Code/PCD_2023/imgs\n"
     ]
    }
   ],
   "source": [
    "!pwd"
   ]
  },
  {
   "cell_type": "code",
   "execution_count": 61,
   "id": "820fa86f-c778-4c7d-8738-6d7582f652d8",
   "metadata": {
    "scrolled": true
   },
   "outputs": [
    {
     "name": "stdout",
     "output_type": "stream",
     "text": [
      "('/var/folders/48/fcd1h7cj4s3g5_47h1bp4r440000gn/T/tmp2bu7fshn', <http.client.HTTPMessage object at 0x10a877810>)\n",
      "('/var/folders/48/fcd1h7cj4s3g5_47h1bp4r440000gn/T/tmpjafsz6au', <http.client.HTTPMessage object at 0x10a8769d0>)\n",
      "('/var/folders/48/fcd1h7cj4s3g5_47h1bp4r440000gn/T/tmpp3_alw34', <http.client.HTTPMessage object at 0x10a876350>)\n",
      "('/var/folders/48/fcd1h7cj4s3g5_47h1bp4r440000gn/T/tmpibwj_tl7', <http.client.HTTPMessage object at 0x10a877d50>)\n",
      "('/var/folders/48/fcd1h7cj4s3g5_47h1bp4r440000gn/T/tmp8dzi01a3', <http.client.HTTPMessage object at 0x10a876350>)\n",
      "('/var/folders/48/fcd1h7cj4s3g5_47h1bp4r440000gn/T/tmp7ne5xiaf', <http.client.HTTPMessage object at 0x10a874a10>)\n",
      "('/var/folders/48/fcd1h7cj4s3g5_47h1bp4r440000gn/T/tmphew78jh3', <http.client.HTTPMessage object at 0x10a9b0a50>)\n",
      "('/var/folders/48/fcd1h7cj4s3g5_47h1bp4r440000gn/T/tmplnpxhblo', <http.client.HTTPMessage object at 0x10a9b1f90>)\n",
      "('/var/folders/48/fcd1h7cj4s3g5_47h1bp4r440000gn/T/tmpx42r58np', <http.client.HTTPMessage object at 0x10a9b1510>)\n",
      "('/var/folders/48/fcd1h7cj4s3g5_47h1bp4r440000gn/T/tmpeov2qktp', <http.client.HTTPMessage object at 0x10a9b19d0>)\n"
     ]
    }
   ],
   "source": [
    "for i in range(10):\n",
    "    th.Thread(target=getImg(i)).start()"
   ]
  },
  {
   "cell_type": "code",
   "execution_count": null,
   "id": "2e547ffb-24a0-4ab2-95e9-29b5af4f3440",
   "metadata": {},
   "outputs": [],
   "source": []
  },
  {
   "cell_type": "code",
   "execution_count": null,
   "id": "41e642f7-08b7-49f5-a28f-8c69b57d0510",
   "metadata": {},
   "outputs": [],
   "source": []
  }
 ],
 "metadata": {
  "kernelspec": {
   "display_name": "Python 3 (ipykernel)",
   "language": "python",
   "name": "python3"
  },
  "language_info": {
   "codemirror_mode": {
    "name": "ipython",
    "version": 3
   },
   "file_extension": ".py",
   "mimetype": "text/x-python",
   "name": "python",
   "nbconvert_exporter": "python",
   "pygments_lexer": "ipython3",
   "version": "3.11.5"
  }
 },
 "nbformat": 4,
 "nbformat_minor": 5
}
