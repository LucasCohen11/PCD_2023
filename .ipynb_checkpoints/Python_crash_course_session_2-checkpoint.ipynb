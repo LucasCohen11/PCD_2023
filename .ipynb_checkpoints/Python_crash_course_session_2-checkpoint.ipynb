{
 "cells": [
  {
   "cell_type": "markdown",
   "id": "62cb9dea-1f9a-4914-a191-c4e09a341829",
   "metadata": {},
   "source": [
    "<!-- PROFILE LINK -->\n",
    "<h1 style = \"text-align:center; font-size: 30px\">PROGRAMACIÓN CONCURRENTE Y DISTRIBUIDA</h1>\n",
    "<a href =\"https://github.com/LucasCohen11\">\n",
    "<img src=\"https://avatars.githubusercontent.com/u/79107902?v=4\" style=\"float:left;vertical-align:centre\" width=\"110\" height=\"110\" title = \"Lucas Martin Cohen\">\n",
    "<a href =\"https://github.com/lucascohen11?tab=repositories\">\n",
    "<img src=\"https://media-exp1.licdn.com/dms/image/C4D0BAQEu_Aa76fcmPw/company-logo_200_200/0/1630998679429?e=2159024400&v=beta&t=2feC9GG7RWCWizTqsK5HzDWB1TL2DOQuAVwnMf6FFvk\" title = \"M41\" alt=\"UE\" width=\"110\" height=\"110\" style=\"float:right;vertical-align:centre\">"
   ]
  },
  {
   "cell_type": "markdown",
   "id": "b5aae5fa",
   "metadata": {},
   "source": [
    "# Python crash course\n",
    "## *Session 2*"
   ]
  },
  {
   "cell_type": "markdown",
   "id": "08131300",
   "metadata": {},
   "source": [
    "En sesión anterior vimos que tenemos disponibles una serie de tipos básicos:\n",
    "* Cadenas de texto.\n",
    "* Booleanos.\n",
    "* Numéricos: entero, decimal, complejo.\n",
    "* Colecciones: listas, tuplas, conjuntos, diccionarios.\n",
    "Y como asignar valores a objetos (variables) para crearlos con el operador `=`.\n",
    "\n",
    "Adicionalmente tenemos funciones que nos permiten cambiar de tipo a los objetos:"
   ]
  },
  {
   "cell_type": "code",
   "execution_count": 171,
   "id": "e4d3f9f9",
   "metadata": {},
   "outputs": [],
   "source": [
    "x11 = 24\n",
    "x12 = int(24)\n",
    "x21 = 33\n",
    "x22 = float(33)\n",
    "z = complex(x11)\n",
    "\n",
    "l1 = [1,2,3]\n",
    "t1 = (4,5,6)\n",
    "l2 = tuple(l1)\n",
    "t2 = list(t1)\n",
    "\n",
    "c1 = set(l1)\n",
    "\n",
    "r1 = list()\n",
    "r2 = tuple()\n",
    "r3 = set()"
   ]
  },
  {
   "cell_type": "code",
   "execution_count": 172,
   "id": "388dfba6",
   "metadata": {},
   "outputs": [
    {
     "data": {
      "text/plain": [
       "float"
      ]
     },
     "execution_count": 172,
     "metadata": {},
     "output_type": "execute_result"
    }
   ],
   "source": [
    "type(x22)"
   ]
  },
  {
   "cell_type": "code",
   "execution_count": 173,
   "id": "6147afb8-efda-4e56-a18b-a60fa64c75b2",
   "metadata": {},
   "outputs": [
    {
     "data": {
      "text/plain": [
       "{1, 2, 3}"
      ]
     },
     "execution_count": 173,
     "metadata": {},
     "output_type": "execute_result"
    }
   ],
   "source": [
    "c1"
   ]
  },
  {
   "cell_type": "code",
   "execution_count": 174,
   "id": "61661ca6-0e28-4ac4-99b2-22ed7f897d38",
   "metadata": {},
   "outputs": [
    {
     "data": {
      "text/plain": [
       "set()"
      ]
     },
     "execution_count": 174,
     "metadata": {},
     "output_type": "execute_result"
    }
   ],
   "source": [
    "r3"
   ]
  },
  {
   "cell_type": "code",
   "execution_count": 175,
   "id": "0ac30058",
   "metadata": {},
   "outputs": [],
   "source": [
    "lista1 = [1,2,3]"
   ]
  },
  {
   "cell_type": "code",
   "execution_count": null,
   "id": "d5885448-c130-40ec-81e5-738e66f7bbf0",
   "metadata": {},
   "outputs": [],
   "source": []
  },
  {
   "cell_type": "code",
   "execution_count": 176,
   "id": "c95af80c",
   "metadata": {},
   "outputs": [],
   "source": [
    "lista2 = lista1"
   ]
  },
  {
   "cell_type": "code",
   "execution_count": 177,
   "id": "f563a2f2",
   "metadata": {},
   "outputs": [
    {
     "name": "stdout",
     "output_type": "stream",
     "text": [
      "[1, 2, 3]\n",
      "[1, 2, 3]\n"
     ]
    }
   ],
   "source": [
    "print(lista1)\n",
    "print(lista2)"
   ]
  },
  {
   "cell_type": "code",
   "execution_count": 178,
   "id": "f7740872",
   "metadata": {},
   "outputs": [],
   "source": [
    "lista2[1]= 99"
   ]
  },
  {
   "cell_type": "code",
   "execution_count": 179,
   "id": "e5cc913f",
   "metadata": {},
   "outputs": [
    {
     "name": "stdout",
     "output_type": "stream",
     "text": [
      "[1, 99, 3]\n",
      "[1, 99, 3]\n"
     ]
    }
   ],
   "source": [
    "print(lista1)\n",
    "print(lista2)"
   ]
  },
  {
   "cell_type": "code",
   "execution_count": 180,
   "id": "5dc75065",
   "metadata": {},
   "outputs": [],
   "source": [
    "lista1.append(88)"
   ]
  },
  {
   "cell_type": "code",
   "execution_count": 181,
   "id": "9fe1fc43",
   "metadata": {},
   "outputs": [
    {
     "name": "stdout",
     "output_type": "stream",
     "text": [
      "[1, 99, 3, 88]\n",
      "[1, 99, 3, 88]\n"
     ]
    }
   ],
   "source": [
    "print(lista1)\n",
    "print(lista2)"
   ]
  },
  {
   "cell_type": "code",
   "execution_count": 182,
   "id": "79a5c6b8",
   "metadata": {},
   "outputs": [],
   "source": [
    "lista3 = lista1.copy()"
   ]
  },
  {
   "cell_type": "code",
   "execution_count": 183,
   "id": "8d77c87a",
   "metadata": {},
   "outputs": [],
   "source": [
    "lista3.append(77)"
   ]
  },
  {
   "cell_type": "code",
   "execution_count": 184,
   "id": "dab59b3b",
   "metadata": {},
   "outputs": [
    {
     "name": "stdout",
     "output_type": "stream",
     "text": [
      "[1, 99, 3, 88]\n",
      "[1, 99, 3, 88]\n",
      "[1, 99, 3, 88, 77]\n"
     ]
    }
   ],
   "source": [
    "print(lista1)\n",
    "print(lista2)\n",
    "print(lista3)"
   ]
  },
  {
   "cell_type": "code",
   "execution_count": 185,
   "id": "9db397ad",
   "metadata": {},
   "outputs": [],
   "source": [
    "lista1.append(66)"
   ]
  },
  {
   "cell_type": "code",
   "execution_count": 186,
   "id": "4dd5f6aa",
   "metadata": {},
   "outputs": [
    {
     "name": "stdout",
     "output_type": "stream",
     "text": [
      "[1, 99, 3, 88, 66]\n",
      "[1, 99, 3, 88, 66]\n",
      "[1, 99, 3, 88, 77]\n"
     ]
    }
   ],
   "source": [
    "print(lista1)\n",
    "print(lista2)\n",
    "print(lista3)"
   ]
  },
  {
   "cell_type": "markdown",
   "id": "bde8ae70",
   "metadata": {},
   "source": [
    "También existe una función para comprobar si un objeto es de un determinado tipo"
   ]
  },
  {
   "cell_type": "code",
   "execution_count": 187,
   "id": "fafdbd92",
   "metadata": {},
   "outputs": [],
   "source": [
    "v1 = 99"
   ]
  },
  {
   "cell_type": "code",
   "execution_count": 188,
   "id": "7208f5ef",
   "metadata": {},
   "outputs": [
    {
     "name": "stdout",
     "output_type": "stream",
     "text": [
      "True False\n"
     ]
    }
   ],
   "source": [
    "print(isinstance(v1, int), isinstance(v1, float)) "
   ]
  },
  {
   "cell_type": "markdown",
   "id": "fe9b6d77",
   "metadata": {},
   "source": [
    "### El tipo conjunto\n",
    "\n",
    "Un conjunto es una colección de elementos no ordenados, no modificables y no permite duplicados.\n",
    "\n",
    "Su definición se realiza mediante llaves `{ }`.\n",
    "También existe el tipo `frozenset` que es una versión no inmutable del conjunto.\n",
    "\n",
    "Al tratarse de conjuntos vamos a poder aplicar las operaciones de conjuntos.\n",
    "* Inclusión\n",
    "* Intersección\n",
    "* Unión\n"
   ]
  },
  {
   "cell_type": "code",
   "execution_count": 189,
   "id": "6ab964e4",
   "metadata": {},
   "outputs": [
    {
     "name": "stdout",
     "output_type": "stream",
     "text": [
      "{(1+5j), 1, 'casa', 'perro', 90}\n",
      "{1, 90.0, 3.2, 25}\n"
     ]
    }
   ],
   "source": [
    "A = {'casa', 'perro', 1, 1+5j, 90, 90.0}; print(A)\n",
    "B = {1, 3.2, 25, 90.0}; print(B)"
   ]
  },
  {
   "cell_type": "code",
   "execution_count": 190,
   "id": "a7b1b656",
   "metadata": {},
   "outputs": [
    {
     "name": "stdout",
     "output_type": "stream",
     "text": [
      "False\n",
      "True\n"
     ]
    }
   ],
   "source": [
    "# INCLUSION DE ELEMENTOS\n",
    "print('gato' in A)\n",
    "print('perro' in A)"
   ]
  },
  {
   "cell_type": "code",
   "execution_count": 191,
   "id": "995f9ee2",
   "metadata": {},
   "outputs": [
    {
     "data": {
      "text/plain": [
       "False"
      ]
     },
     "execution_count": 191,
     "metadata": {},
     "output_type": "execute_result"
    }
   ],
   "source": [
    "{1, 90} in A"
   ]
  },
  {
   "cell_type": "code",
   "execution_count": 192,
   "id": "2b702814",
   "metadata": {},
   "outputs": [
    {
     "name": "stdout",
     "output_type": "stream",
     "text": [
      "{1, 3.2, 'perro', (1+5j), 'casa', 25, 90}\n",
      "{1, 3.2, 'perro', (1+5j), 'casa', 25, 90.0}\n"
     ]
    }
   ],
   "source": [
    "# UNION DE DOS O MAS CONJUNTOS\n",
    "print(A | B)\n",
    "print(B | A)"
   ]
  },
  {
   "cell_type": "code",
   "execution_count": 193,
   "id": "4653cb68",
   "metadata": {},
   "outputs": [
    {
     "data": {
      "text/plain": [
       "{(1+5j), 1, 25, 6, 90, 'casa', 'gato', 'perro'}"
      ]
     },
     "execution_count": 193,
     "metadata": {},
     "output_type": "execute_result"
    }
   ],
   "source": [
    "A | {25,6,'gato'}"
   ]
  },
  {
   "cell_type": "code",
   "execution_count": 194,
   "id": "3974d32f",
   "metadata": {},
   "outputs": [
    {
     "data": {
      "text/plain": [
       "{(1+5j), 1, 25, 3.2, 90, 'casa', 'perro'}"
      ]
     },
     "execution_count": 194,
     "metadata": {},
     "output_type": "execute_result"
    }
   ],
   "source": [
    "A.union(B)"
   ]
  },
  {
   "cell_type": "code",
   "execution_count": 195,
   "id": "25112962",
   "metadata": {},
   "outputs": [
    {
     "data": {
      "text/plain": [
       "{(1+5j), 1, 25, 6, 90, 'casa', 'gato', 'perro'}"
      ]
     },
     "execution_count": 195,
     "metadata": {},
     "output_type": "execute_result"
    }
   ],
   "source": [
    "A.union((25,6,'gato'))"
   ]
  },
  {
   "cell_type": "code",
   "execution_count": 196,
   "id": "a7dd17b5",
   "metadata": {},
   "outputs": [
    {
     "data": {
      "text/plain": [
       "{1, 90.0}"
      ]
     },
     "execution_count": 196,
     "metadata": {},
     "output_type": "execute_result"
    }
   ],
   "source": [
    "# INTERSECCIÓN DE DOS O MÁS CONJUNTOS\n",
    "A & B"
   ]
  },
  {
   "cell_type": "code",
   "execution_count": 197,
   "id": "a5a44ed0",
   "metadata": {},
   "outputs": [
    {
     "data": {
      "text/plain": [
       "{1, 90.0}"
      ]
     },
     "execution_count": 197,
     "metadata": {},
     "output_type": "execute_result"
    }
   ],
   "source": [
    "B.intersection(A)"
   ]
  },
  {
   "cell_type": "code",
   "execution_count": 198,
   "id": "0e4af082",
   "metadata": {},
   "outputs": [],
   "source": [
    "# DIFERENCIA DE CONJUNTOS"
   ]
  },
  {
   "cell_type": "code",
   "execution_count": 199,
   "id": "d6396bba",
   "metadata": {},
   "outputs": [
    {
     "data": {
      "text/plain": [
       "{(1+5j), 'casa', 'perro'}"
      ]
     },
     "execution_count": 199,
     "metadata": {},
     "output_type": "execute_result"
    }
   ],
   "source": [
    "A - B"
   ]
  },
  {
   "cell_type": "code",
   "execution_count": 200,
   "id": "4b0ee20d",
   "metadata": {},
   "outputs": [
    {
     "data": {
      "text/plain": [
       "{(1+5j), 'casa', 'perro'}"
      ]
     },
     "execution_count": 200,
     "metadata": {},
     "output_type": "execute_result"
    }
   ],
   "source": [
    "A.difference(B)"
   ]
  },
  {
   "cell_type": "code",
   "execution_count": 201,
   "id": "ae1aeaf6",
   "metadata": {},
   "outputs": [
    {
     "data": {
      "text/plain": [
       "{(1+5j), 25, 3.2, 'casa', 'perro'}"
      ]
     },
     "execution_count": 201,
     "metadata": {},
     "output_type": "execute_result"
    }
   ],
   "source": [
    "# Diferencia simétrica\n",
    "A ^ B"
   ]
  },
  {
   "cell_type": "code",
   "execution_count": 202,
   "id": "442b4f27",
   "metadata": {},
   "outputs": [
    {
     "data": {
      "text/plain": [
       "{(1+5j), 25, 3.2, 'casa', 'perro'}"
      ]
     },
     "execution_count": 202,
     "metadata": {},
     "output_type": "execute_result"
    }
   ],
   "source": [
    "A.union(B).difference(A.intersection(B))"
   ]
  },
  {
   "cell_type": "code",
   "execution_count": 203,
   "id": "5cc8d7d8",
   "metadata": {},
   "outputs": [
    {
     "data": {
      "text/plain": [
       "False"
      ]
     },
     "execution_count": 203,
     "metadata": {},
     "output_type": "execute_result"
    }
   ],
   "source": [
    "# Comprobación de si existen elementos en común.\n",
    "A.isdisjoint(B)"
   ]
  },
  {
   "cell_type": "code",
   "execution_count": 204,
   "id": "e11ae7ad",
   "metadata": {},
   "outputs": [
    {
     "data": {
      "text/plain": [
       "True"
      ]
     },
     "execution_count": 204,
     "metadata": {},
     "output_type": "execute_result"
    }
   ],
   "source": [
    "{1, 90}.issubset(A) #inclusión de subconjuntos"
   ]
  },
  {
   "cell_type": "code",
   "execution_count": 205,
   "id": "14b094ef",
   "metadata": {},
   "outputs": [
    {
     "data": {
      "text/plain": [
       "True"
      ]
     },
     "execution_count": 205,
     "metadata": {},
     "output_type": "execute_result"
    }
   ],
   "source": [
    "{1, 90} < A"
   ]
  },
  {
   "cell_type": "code",
   "execution_count": 206,
   "id": "e3a763ec",
   "metadata": {},
   "outputs": [
    {
     "data": {
      "text/plain": [
       "True"
      ]
     },
     "execution_count": 206,
     "metadata": {},
     "output_type": "execute_result"
    }
   ],
   "source": [
    "{1, 90} <= A"
   ]
  },
  {
   "cell_type": "markdown",
   "id": "69bcfaf1",
   "metadata": {},
   "source": [
    "Cada tipo tiene asociados una serie de métodos (funciones) que nos permiten trabajar con ellos, los podíamos ver al pulsar tabulador después del punto que sigue al objeto que queremos tratar."
   ]
  },
  {
   "cell_type": "markdown",
   "id": "3ca059f4",
   "metadata": {},
   "source": [
    "#### Algunos métodos de cadenas de texto"
   ]
  },
  {
   "cell_type": "code",
   "execution_count": 207,
   "id": "e5d73780",
   "metadata": {},
   "outputs": [],
   "source": [
    "str1 = 'Hablen niños ratas de las UEM'"
   ]
  },
  {
   "cell_type": "code",
   "execution_count": 208,
   "id": "f413672d",
   "metadata": {},
   "outputs": [
    {
     "data": {
      "text/plain": [
       "['Hablen niños ratas de ', ' UEM']"
      ]
     },
     "execution_count": 208,
     "metadata": {},
     "output_type": "execute_result"
    }
   ],
   "source": [
    "str1.split('las') # Genera una lista con cada fragmento de la cadena en una posición según el separador indicado."
   ]
  },
  {
   "cell_type": "code",
   "execution_count": 209,
   "id": "f28f665f",
   "metadata": {},
   "outputs": [
    {
     "name": "stdout",
     "output_type": "stream",
     "text": [
      "hablen niños ratas de las uem\n",
      "HABLEN NIÑOS RATAS DE LAS UEM\n"
     ]
    }
   ],
   "source": [
    "print(str1.lower()) # en minúsculas\n",
    "print(str1.upper()) # en mayúsculas"
   ]
  },
  {
   "cell_type": "code",
   "execution_count": 210,
   "id": "fe811cb9",
   "metadata": {},
   "outputs": [
    {
     "data": {
      "text/plain": [
       "'Hablen niños ratas de las UEM'"
      ]
     },
     "execution_count": 210,
     "metadata": {},
     "output_type": "execute_result"
    }
   ],
   "source": [
    "str1.strip(' ') # elimina el caracter indicado."
   ]
  },
  {
   "cell_type": "markdown",
   "id": "d5c9fd5e",
   "metadata": {},
   "source": [
    "Existen algunas funciones básicas que son propias de Python base:"
   ]
  },
  {
   "cell_type": "code",
   "execution_count": 211,
   "id": "69df2e7b",
   "metadata": {},
   "outputs": [
    {
     "name": "stdout",
     "output_type": "stream",
     "text": [
      "Hablen niños ratas de las UEM\n"
     ]
    }
   ],
   "source": [
    "print(str1) # parar imprimir cadenas de texto."
   ]
  },
  {
   "cell_type": "code",
   "execution_count": 212,
   "id": "5c1f04ef",
   "metadata": {},
   "outputs": [
    {
     "data": {
      "text/plain": [
       "29"
      ]
     },
     "execution_count": 212,
     "metadata": {},
     "output_type": "execute_result"
    }
   ],
   "source": [
    "len(str1) #longitud de un objeto, que tenga medida"
   ]
  },
  {
   "cell_type": "code",
   "execution_count": 213,
   "id": "191cbdc6",
   "metadata": {},
   "outputs": [
    {
     "data": {
      "text/plain": [
       "{'__name__': '__main__',\n",
       " '__doc__': 'Automatically created module for IPython interactive environment',\n",
       " '__package__': None,\n",
       " '__loader__': None,\n",
       " '__spec__': None,\n",
       " '__builtin__': <module 'builtins' (built-in)>,\n",
       " '__builtins__': <module 'builtins' (built-in)>,\n",
       " '_ih': ['',\n",
       "  'def prime_decomposition(n):\\n    x,t,out=n,2,[]\\n    check=True\\n    while x>1:\\n        check = True\\n        print(x,t)\\n        for i in out:\\n           if t%i==0:\\n               check=False\\n               continue\\n        if x%t==0 and check:\\n            out.append(t)\\n            x/=t\\n        else:\\n            t+=1\\n    return out    ',\n",
       "  'prime_decomposition(100)',\n",
       "  'def prime_decomposition(n):\\n    x,t,out=n,2,[]\\n    check=True\\n    while x>1:\\n        check = True\\n        print(x,t)\\n        for i in out:\\n           if t%i==0:\\n               check=False\\n               continue\\n        if check:\\n            if x%t==0:\\n                out.append(t)\\n                x/=t\\n            else:\\n                t+=1\\n    return out    ',\n",
       "  'prime_decomposition(100)',\n",
       "  'def prime_decomposition(n):\\n    x,t,out=n,2,[]\\n    check=True\\n    while x>1:\\n        check = True\\n        print(x,t)\\n        for i in out:\\n            print(\"in\")\\n           if t%i==0:\\n               check=False\\n               continue\\n        if check:\\n            if x%t==0:\\n                out.append(t)\\n                x/=t\\n            else:\\n                t+=1\\n    return out    ',\n",
       "  'def prime_decomposition(n):\\n    x,t,out=n,2,[]\\n    check=True\\n    while x>1:\\n        check = True\\n        print(x,t)\\n        for i in out:\\n            print(\"in\")\\n            if t%i==0:\\n                check=False\\n                continue\\n        if check:\\n            if x%t==0:\\n                out.append(t)\\n                x/=t\\n            else:\\n                t+=1\\n    return out    ',\n",
       "  'prime_decomposition(100)',\n",
       "  'def prime_decomposition(n):\\n    x,t,out=n,2,[]\\n    check=True\\n    while x>1:\\n        check = True\\n        print(x,t)\\n        for i in out:\\n            print(\"in\")\\n            if t%i==0:\\n                check=False\\n                continue\\n        print(\"check: \",check)\\n        if check:\\n            \\n            if x%t==0:\\n                out.append(t)\\n                x/=t\\n            else:\\n                t+=1\\n    return out    ',\n",
       "  'prime_decomposition(100)',\n",
       "  'def prime_decomposition(n):\\n    x,t,out=n,2,[]\\n    check=True\\n    while x>1:\\n        check = True\\n        print(x,t)\\n        for i in out:\\n            print(\"in\")\\n            if t%i==0:\\n                check=False\\n                continue\\n        print(\"check: \",check)\\n        if check:\\n            if x%t==0:\\n                out.append(t)\\n                x/=t\\n        t+=1\\n    return out    ',\n",
       "  'prime_decomposition(100)',\n",
       "  'def prime_decomposition(n):\\n    x,t,out=n,2,[]\\n    check=True\\n    while x>1:\\n        check = True\\n        print(x,t)\\n        for i in out:\\n            print(\"in\")\\n            if t%i==0:\\n                check=False\\n                continue\\n        print(\"check: \",check,out)\\n        if check:\\n            if x%t==0:\\n                out.append(t)\\n                x/=t\\n        t+=1\\n    return out    ',\n",
       "  'prime_decomposition(100)',\n",
       "  'def prime_decomposition(n):\\n    x,t,out=n,2,[]\\n    check=True\\n    while x>1:\\n        check = True\\n        print(x,t)\\n        for i in out:\\n            print(\"in\")\\n            if t%i==0:\\n                check=False\\n                continue\\n        print(\"check: \",check,out,t)\\n        if check:\\n            if x%t==0:\\n                out.append(t)\\n                x/=t\\n        t+=1\\n    return out    ',\n",
       "  'prime_decomposition(100)',\n",
       "  'def prime_decomposition(n):\\n    x,t,out=n,2,[]\\n    check=True\\n    while x>1:\\n        check = True\\n        print(x,t)\\n        for i in out:\\n            print(\"in\")\\n            if t%i==0:\\n                check=False\\n                continue\\n        print(\"check: \",check,out,t)\\n        if check:\\n            if x%t==0:\\n                out.append(t)\\n                x/=t\\n                t-=1\\n        t+=1\\n    return out    ',\n",
       "  'prime_decomposition(100)',\n",
       "  'def prime_decomposition(n):\\n    x,t,out=n,2,[]\\n    check=True\\n    while x>1:\\n        check = True\\n        print(x,t)\\n        for i in out:\\n            print(\"in\")\\n            if t%i==0 and not t==i:\\n                check=False\\n                continue\\n        print(\"check: \",check,out,t)\\n        if check:\\n            if x%t==0:\\n                out.append(t)\\n                x/=t\\n                t-=1\\n        t+=1\\n    return out    ',\n",
       "  'prime_decomposition(100)',\n",
       "  'prime_decomposition(76)',\n",
       "  'def prime_decomposition(n):\\n    x,t,out=n,2,[]\\n    check=True\\n    while x>1:\\n        check = True\\n        print(x,t)\\n        for i in out:\\n            if t%i==0 and not t==i:\\n                check=False\\n                continue\\n        if check:\\n            if x%t==0:\\n                out.append(t)\\n                x/=t\\n                t-=1\\n        t+=1\\n    return out    ',\n",
       "  'prime_decomposition(76)',\n",
       "  'def prime_decomposition(n):\\n    x,t,out=n,2,[]\\n    check=True\\n    while x>1:\\n        check = True\\n        for i in out:\\n            if t%i==0 and not t==i:\\n                check=False\\n                continue\\n        if check:\\n            if x%t==0:\\n                out.append(t)\\n                x/=t\\n                t-=1\\n        t+=1\\n    return out    ',\n",
       "  'prime_decomposition(76)',\n",
       "  'prime_decomposition(50)',\n",
       "  'prime_decomposition(36)',\n",
       "  'x = input()',\n",
       "  'x = input()',\n",
       "  'print(\\'Introduzca un valor:\\')\\nx = int(input())\\nprint(\"El numero introducido es\",x)',\n",
       "  '1+x',\n",
       "  'def ask_for_pwd():\\n    cont,pwd =false, \"laMejorContr4seña\"\\n    while not cont:\\n        cont=input()==pwd\\n        print(\"contraseña incorrecta\")\\n    print(\"contraseña correcta, continua el programa\")',\n",
       "  'ask_for_pwd()\\nprint(\"se salio de la funcion, resto del codigo\")',\n",
       "  'def ask_for_pwd():\\n    cont,pwd =False, \"laMejorContr4seña\"\\n    while not cont:\\n        cont=input()==pwd\\n        print(\"contraseña incorrecta\")\\n    print(\"contraseña correcta, continua el programa\")',\n",
       "  'ask_for_pwd()\\nprint(\"se salio de la funcion, resto del codigo\")',\n",
       "  'def ask_for_pwd():\\n    cont,pwd =False, \"laMejorContr4seña\"\\n    while not cont:\\n        cont=input()==pwd\\n        if not cont:\\n            print(\"contraseña incorrecta\")\\n    print(\"contraseña correcta, continua el programa\")',\n",
       "  'ask_for_pwd()\\nprint(\"se salio de la funcion, resto del codigo\")',\n",
       "  'def ask_for_pwd_with_tries(n):\\n    cont,pwd =False, \"laMejorContr4seña\"\\n    while not cont and n>0:\\n        cont=input()==pwd\\n        if not cont:\\n            print(f\"contraseña incorrecta, {n} intento{\\'s\\'if n>1 else \\'\\'} restante{\\'s\\'if n>1 else \\'\\'}\")\\n    print(\"contraseña correcta, continua el programa\")',\n",
       "  'def ask_for_pwd_with_tries(n):\\n    cont,pwd =False, \"laMejorContr4seña\"\\n    while not cont and n>0:\\n        cont=input()==pwd\\n        if not cont:\\n            print(f\"contraseña incorrecta, {n} intento{\\'s\\'if n>1 else \\'\\'} restante{\\'s\\'if n>1 else \\'\\'}\")\\n    if n>0:\\n        print(\"contraseña correcta, continua el programa\")\\n    else print(\"no se ha introducido la contraseña correcta en los intentos permitidos\")',\n",
       "  'def ask_for_pwd_with_tries(n):\\n    cont,pwd =False, \"laMejorContr4seña\"\\n    while not cont and n>0:\\n        cont=input()==pwd\\n        if not cont:\\n            print(f\"contraseña incorrecta, {n} intento{\\'s\\'if n>1 else \\'\\'} restante{\\'s\\'if n>1 else \\'\\'}\")\\n    if n>0:\\n        print(\"contraseña correcta, continua el programa\")\\n    else: print(\"no se ha introducido la contraseña correcta en los intentos permitidos\")',\n",
       "  'ask_for_pwd_with_tries(3)',\n",
       "  'def ask_for_pwd_with_tries(n):\\n    cont,pwd =False, \"laMejorContr4seña\"\\n    while not cont and n>0:\\n        cont=input()==pwd\\n        if not cont:\\n            n-=1;\\n            print(f\"contraseña incorrecta, {n} intento{\\'s\\'if n>1 else \\'\\'} restante{\\'s\\'if n>1 else \\'\\'}\")\\n    if n>0:\\n        print(\"contraseña correcta, continua el programa\")\\n    else: print(\"no se ha introducido la contraseña correcta en los intentos permitidos\")',\n",
       "  'def ask_for_pwd_with_tries(n):\\n    cont,pwd =False, \"laMejorContr4seña\"\\n    while not cont and n>0:\\n        cont=input()==pwd\\n        if not cont:\\n            n-=1;\\n            print(f\"contraseña incorrecta, {n} intento{\\'s\\'if n>1 else \\'\\'} restante{\\'s\\'if n>1 else \\'\\'}\")\\n    if n>0:\\n        print(\"contraseña correcta, continua el programa\")\\n    else: print(\"no se ha introducido la contraseña correcta en los intentos permitidos\")',\n",
       "  'ask_for_pwd_with_tries(3)',\n",
       "  'def ask_for_pwd_with_tries(n):\\n    cont,pwd =False, \"laMejorContr4seña\"\\n    while not cont and n>0:\\n        cont=input()==pwd\\n        if not cont:\\n            n-=1;\\n            if n>0:\\n                print(f\"contraseña incorrecta, {n} intento{\\'s\\'if n>1 else \\'\\'} restante{\\'s\\'if n>1 else \\'\\'}\")\\n    if n>0:\\n        print(\"contraseña correcta, continua el programa\")\\n    else: print(\"no se ha introducido la contraseña correcta en los intentos permitidos\")',\n",
       "  'ask_for_pwd_with_tries(3)',\n",
       "  \"def acierto(n_min=0, n_max=10):\\n    x = randint(n_min, n_max)\\n    fallo = True\\n    while fallo == True:\\n        print('Introduce un numero:')\\n        numero = int(input())\\n        if numero == x:\\n            print('Has acertado')\\n            fallo = False\\n        elif numero < x:\\n            print('Es mayor que ', numero)\\n        else:\\n            print('Es menor que ', numero)\",\n",
       "  'acierto()',\n",
       "  'from random import randint',\n",
       "  'randint(0, 10)',\n",
       "  \"def acierto(n_min=0, n_max=10):\\n    x = randint(n_min, n_max)\\n    fallo = True\\n    while fallo == True:\\n        print('Introduce un numero:')\\n        numero = int(input())\\n        if numero == x:\\n            print('Has acertado')\\n            fallo = False\\n        elif numero < x:\\n            print('Es mayor que ', numero)\\n        else:\\n            print('Es menor que ', numero)\",\n",
       "  'acierto()',\n",
       "  'def gcd(n,m):\\n    r=m%n\\n    if r==0: return n\\n    return gcd(r,n)',\n",
       "  'gcd(4,2)',\n",
       "  'gcd(2,4)',\n",
       "  'gcd(250,40)',\n",
       "  'def gcd(n,m):\\n    r=m%n\\n    return r if r==0 else gcd(r,n)',\n",
       "  'gcd(4,2)',\n",
       "  'gcd(2,4)',\n",
       "  'gcd(250,40)',\n",
       "  'def gcd(n,m):\\n    r=m%n\\n    return n if r==0 else gcd(r,n)',\n",
       "  'gcd(4,2)',\n",
       "  'gcd(2,4)',\n",
       "  'gcd(250,40)',\n",
       "  'gcd(330,75)',\n",
       "  'gcd(475,99)',\n",
       "  'x11 = 24\\nx12 = int(24)\\nx21 = 33\\nx22 = float(33)\\nz = complex(x11)\\n\\nl1 = [1,2,3]\\nt1 = (4,5,6)\\nl2 = tuple(l1)\\nt2 = list(t1)\\n\\nc1 = set(l1)\\n\\nr1 = list()\\nr2 = tuple()\\nr3 = set()',\n",
       "  'type(x22)',\n",
       "  'c1',\n",
       "  'r3',\n",
       "  'lista1 = [1,2,3]',\n",
       "  'lista2 = lista1',\n",
       "  'print(lista1)\\nprint(lista2)',\n",
       "  'lista2[1]= 99',\n",
       "  'print(lista1)\\nprint(lista2)',\n",
       "  'lista1.append(88)',\n",
       "  'print(lista1)\\nprint(lista2)',\n",
       "  'lista3 = lista1.copy()',\n",
       "  'lista3.append(77)',\n",
       "  'print(lista1)\\nprint(lista2)\\nprint(lista3)',\n",
       "  'lista1.append(66)',\n",
       "  'print(lista1)\\nprint(lista2)\\nprint(lista3)',\n",
       "  'v1 = 99',\n",
       "  'print(isinstance(v1, int), isinstance(v1, float)) ',\n",
       "  \"A = {'casa', 'perro', 1, 1+5j, 90, 90.0}; print(A)\\nB = {1, 3.2, 25, 90.0}; print(B)\",\n",
       "  \"# INCLUSION DE ELEMENTOS\\nprint('gato' in A)\\nprint('perro' in A)\",\n",
       "  '{1, 90} in A',\n",
       "  '# UNION DE DOS O MAS CONJUNTOS\\nprint(A | B)\\nprint(B | A)',\n",
       "  \"A | (25,6,'gato')\",\n",
       "  \"A | {25,6,'gato'}\",\n",
       "  'x11 = 24\\nx12 = int(24)\\nx21 = 33\\nx22 = float(33)\\nz = complex(x11)\\n\\nl1 = [1,2,3]\\nt1 = (4,5,6)\\nl2 = tuple(l1)\\nt2 = list(t1)\\n\\nc1 = set(l1)\\n\\nr1 = list()\\nr2 = tuple()\\nr3 = set()',\n",
       "  'type(x22)',\n",
       "  'c1',\n",
       "  'r3',\n",
       "  'lista1 = [1,2,3]',\n",
       "  'lista2 = lista1',\n",
       "  'print(lista1)\\nprint(lista2)',\n",
       "  'lista2[1]= 99',\n",
       "  'print(lista1)\\nprint(lista2)',\n",
       "  'lista1.append(88)',\n",
       "  'print(lista1)\\nprint(lista2)',\n",
       "  'lista3 = lista1.copy()',\n",
       "  'lista3.append(77)',\n",
       "  'print(lista1)\\nprint(lista2)\\nprint(lista3)',\n",
       "  'lista1.append(66)',\n",
       "  'print(lista1)\\nprint(lista2)\\nprint(lista3)',\n",
       "  'v1 = 99',\n",
       "  'print(isinstance(v1, int), isinstance(v1, float)) ',\n",
       "  \"A = {'casa', 'perro', 1, 1+5j, 90, 90.0}; print(A)\\nB = {1, 3.2, 25, 90.0}; print(B)\",\n",
       "  \"# INCLUSION DE ELEMENTOS\\nprint('gato' in A)\\nprint('perro' in A)\",\n",
       "  '{1, 90} in A',\n",
       "  '# UNION DE DOS O MAS CONJUNTOS\\nprint(A | B)\\nprint(B | A)',\n",
       "  \"A | {25,6,'gato'}\",\n",
       "  'A.union(B)',\n",
       "  \"A.union((25,6,'gato'))\",\n",
       "  '# INTERSECCIÓN DE DOS O MÁS CONJUNTOS\\nA & B',\n",
       "  'B.intersection(A)',\n",
       "  '# DIFERENCIA DE CONJUNTOS',\n",
       "  'A - B',\n",
       "  'A.difference(B)',\n",
       "  '# Diferencia simétrica\\nA ^ B',\n",
       "  'A.union(B).difference(A.intersection(B))',\n",
       "  '# Comprobación de si existen elementos en común.\\nA.isdisjoint(B)',\n",
       "  '{1, 90}.issubset(A) #inclusión de subconjuntos',\n",
       "  '{1, 90} < A',\n",
       "  '{1, 90} <= A',\n",
       "  \"str1 = 'Hablen niños ratas de las UEM'\",\n",
       "  \"str1.split('las') # Genera una lista con cada fragmento de la cadena en una posición según el separador indicado.\",\n",
       "  'print(str1.lower()) # en minúsculas\\nprint(str1.upper()) # en mayúsculas',\n",
       "  \"str1.strip(' ') # elimina el caracter indicado.\",\n",
       "  'print(str1) # parar imprimir cadenas de texto.',\n",
       "  'len(str1) #longitud de un objeto, que tenga medida',\n",
       "  'globals() #listar variables',\n",
       "  'dir() #lista de variables',\n",
       "  \"# listar variables\\nget_ipython().run_line_magic('who', '')\",\n",
       "  \"#Listar variables tipo y valor\\nget_ipython().run_line_magic('whos', '')\",\n",
       "  \"get_ipython().run_line_magic('timeit', '')\\nx=1\",\n",
       "  '# eliminar una o varias variables\\ndel x12',\n",
       "  \"get_ipython().run_line_magic('who', '')\",\n",
       "  'lista = [1,2,3,4,5,6,7,8,9,10]',\n",
       "  'lista.append(25) # Añade valor al final de la lista',\n",
       "  'lista.pop() # Devuelve el último valor de la lista y lo elimina.',\n",
       "  'otra_lista = lista.copy() # Permite copiar los valores de una lista a otra.',\n",
       "  'lista.reverse() #invierte el orden',\n",
       "  'lista.sort() #orden la lista',\n",
       "  'lista.clear() #elimina todos los elementos.',\n",
       "  'from random import seed, random, randint, gauss, choice, sample',\n",
       "  'seed(10)\\nlista = [random() for i in range(110)]\\nprint(lista)',\n",
       "  'suma = 0\\nfor numero in lista:\\n    suma+= numero\\nprint(suma)',\n",
       "  'recuento = 0\\nfor numero in lista:\\n    recuento = recuento + 1\\nprint(recuento)',\n",
       "  'def recuento(ls1):\\n    \"\"\"Función que aceptada como entrada una lista de números y \\n    realiza la suma de sus elementos\"\"\"\\n    x = 0\\n    for i in ls1:\\n        x += 1\\n    return x',\n",
       "  'help(recuento)',\n",
       "  'n = recuento(lista)\\nprint(n)',\n",
       "  'def varianza(ls):\\n    \"\"\"Función que calcula la varianza y desviación típica de los valores de \\n    una lista de números.\"\"\"\\n    suma = 0\\n    recuento = 0\\n    for x in ls:\\n        suma += x\\n        recuento += 1\\n    media = suma / recuento\\n    \\n    var = 0\\n    for x in ls:\\n        var += (x - media)**2\\n    var = var / recuento\\n    \\n    sd = var**(1/2)\\n    \\n    return [var, sd]',\n",
       "  'varianza(lista)',\n",
       "  'def factorial1(n):\\n    \"\"\"Función que calcula el factorial de un número n positivo.\"\"\"\\n    producto = 1\\n    for x in range(1,n+1):\\n        producto = producto * x\\n    return producto',\n",
       "  \"get_ipython().run_cell_magic('timeit', '', 'factorial1(10)\\\\n')\",\n",
       "  'def factorial2(n):\\n    \"\"\"funcion que calcula el factorial de un numero n de forma recursiva, n debe ser un numero positivo\"\"\"\\n    if n<0: \\n        return\\n    if n in (0,1):\\n        return 1\\n    else:\\n        return n * factorial2(n-1)',\n",
       "  \"get_ipython().run_cell_magic('timeit', '', 'factorial2(45)\\\\n')\",\n",
       "  'def es_par(x):\\n    \"\"\"devuelve si el numero es par\"\"\"\\n    return (x % 2) == 0',\n",
       "  'es_par(14)',\n",
       "  'x = [1, 1];print(x)\\ni = 1\\nx = x + [x[0] + x[1]]\\nprint(x)\\nx = x + [x[1] + x[2]]\\nprint(x)\\nx = x + [x[2] + x[3]]\\nprint(x)',\n",
       "  'x = [1, 1];print(x)\\ni = 1\\nx = x + [x[i-1] + x[i]]\\nprint(x)\\ni += 1\\nx = x + [x[i-1] + x[i]]\\nprint(x)\\ni += 1\\nx = x + [x[i-1] + x[i]]\\nprint(x)\\ni += 1\\nx = x + [x[i-1] + x[i]]\\nprint(x)',\n",
       "  'x = [1, 1]\\nn = 2\\nfor i in range(1, n - 1):\\n    x = x + [x[i] + x[i-1]]\\nprint(x)',\n",
       "  'def serie_fibonacci(n_elem):\\n    \"\"\"devuelve la secuencia de fibonacci con n_elem iteraciones\"\"\"\\n    salida = []\\n    for i in range(n_elem):\\n        salida.append(fibonacci(i+1))\\n    return salida',\n",
       "  'print(serie_fibonacci(9))',\n",
       "  'def fibonacci(n):\\n    a, b = 0, 1\\n    for i in range(n):\\n        a, b = b, a + b\\n    return a',\n",
       "  'print(serie_fibonacci(9))',\n",
       "  'def serie_fibonacci2(n_elem=0):\\n    aux = [1, 1]\\n    if n_elem < 1:\\n        print(\"Se debe indicar como mínimo un elemento.\")\\n    elif n_elem <= 2:\\n        return aux[:n_elem]\\n    else:\\n        for i in range(2, n_elem):\\n            aux.append(sum(aux[(i-2):i]))\\n        return aux',\n",
       "  \"get_ipython().run_cell_magic('timeit', '', 'fibonacci(10)\\\\n')\",\n",
       "  'x11 = 24\\nx12 = int(24)\\nx21 = 33\\nx22 = float(33)\\nz = complex(x11)\\n\\nl1 = [1,2,3]\\nt1 = (4,5,6)\\nl2 = tuple(l1)\\nt2 = list(t1)\\n\\nc1 = set(l1)\\n\\nr1 = list()\\nr2 = tuple()\\nr3 = set()',\n",
       "  'type(x22)',\n",
       "  'c1',\n",
       "  'r3',\n",
       "  'lista1 = [1,2,3]',\n",
       "  'lista2 = lista1',\n",
       "  'print(lista1)\\nprint(lista2)',\n",
       "  'lista2[1]= 99',\n",
       "  'print(lista1)\\nprint(lista2)',\n",
       "  'lista1.append(88)',\n",
       "  'print(lista1)\\nprint(lista2)',\n",
       "  'lista3 = lista1.copy()',\n",
       "  'lista3.append(77)',\n",
       "  'print(lista1)\\nprint(lista2)\\nprint(lista3)',\n",
       "  'lista1.append(66)',\n",
       "  'print(lista1)\\nprint(lista2)\\nprint(lista3)',\n",
       "  'v1 = 99',\n",
       "  'print(isinstance(v1, int), isinstance(v1, float)) ',\n",
       "  \"A = {'casa', 'perro', 1, 1+5j, 90, 90.0}; print(A)\\nB = {1, 3.2, 25, 90.0}; print(B)\",\n",
       "  \"# INCLUSION DE ELEMENTOS\\nprint('gato' in A)\\nprint('perro' in A)\",\n",
       "  '{1, 90} in A',\n",
       "  '# UNION DE DOS O MAS CONJUNTOS\\nprint(A | B)\\nprint(B | A)',\n",
       "  \"A | {25,6,'gato'}\",\n",
       "  'A.union(B)',\n",
       "  \"A.union((25,6,'gato'))\",\n",
       "  '# INTERSECCIÓN DE DOS O MÁS CONJUNTOS\\nA & B',\n",
       "  'B.intersection(A)',\n",
       "  '# DIFERENCIA DE CONJUNTOS',\n",
       "  'A - B',\n",
       "  'A.difference(B)',\n",
       "  '# Diferencia simétrica\\nA ^ B',\n",
       "  'A.union(B).difference(A.intersection(B))',\n",
       "  '# Comprobación de si existen elementos en común.\\nA.isdisjoint(B)',\n",
       "  '{1, 90}.issubset(A) #inclusión de subconjuntos',\n",
       "  '{1, 90} < A',\n",
       "  '{1, 90} <= A',\n",
       "  \"str1 = 'Hablen niños ratas de las UEM'\",\n",
       "  \"str1.split('las') # Genera una lista con cada fragmento de la cadena en una posición según el separador indicado.\",\n",
       "  'print(str1.lower()) # en minúsculas\\nprint(str1.upper()) # en mayúsculas',\n",
       "  \"str1.strip(' ') # elimina el caracter indicado.\",\n",
       "  'print(str1) # parar imprimir cadenas de texto.',\n",
       "  'len(str1) #longitud de un objeto, que tenga medida',\n",
       "  'globals() #listar variables'],\n",
       " '_oh': {20: [2, 2, 5, 5],\n",
       "  21: [2, 2, 19],\n",
       "  23: [2, 2, 19],\n",
       "  25: [2, 2, 19],\n",
       "  26: [2, 5, 5],\n",
       "  27: [2, 2, 3, 3],\n",
       "  31: 2,\n",
       "  50: 4,\n",
       "  54: 2,\n",
       "  55: 2,\n",
       "  56: 10,\n",
       "  58: 0,\n",
       "  59: 0,\n",
       "  60: 0,\n",
       "  62: 2,\n",
       "  63: 2,\n",
       "  64: 10,\n",
       "  65: 15,\n",
       "  66: 1,\n",
       "  68: float,\n",
       "  69: {1, 2, 3},\n",
       "  70: set(),\n",
       "  87: False,\n",
       "  90: {(1+5j), 1, 25, 6, 90, 'casa', 'gato', 'perro'},\n",
       "  92: float,\n",
       "  93: {1, 2, 3},\n",
       "  94: set(),\n",
       "  111: False,\n",
       "  113: {(1+5j), 1, 25, 6, 90, 'casa', 'gato', 'perro'},\n",
       "  114: {(1+5j), 1, 25, 3.2, 90, 'casa', 'perro'},\n",
       "  115: {(1+5j), 1, 25, 6, 90, 'casa', 'gato', 'perro'},\n",
       "  116: {1, 90.0},\n",
       "  117: {1, 90.0},\n",
       "  119: {(1+5j), 'casa', 'perro'},\n",
       "  120: {(1+5j), 'casa', 'perro'},\n",
       "  121: {(1+5j), 25, 3.2, 'casa', 'perro'},\n",
       "  122: {(1+5j), 25, 3.2, 'casa', 'perro'},\n",
       "  123: False,\n",
       "  124: True,\n",
       "  125: True,\n",
       "  126: True,\n",
       "  128: ['Hablen niños ratas de ', ' UEM'],\n",
       "  130: 'Hablen niños ratas de las UEM',\n",
       "  132: 29,\n",
       "  133: {...},\n",
       "  134: ['A',\n",
       "   'B',\n",
       "   'In',\n",
       "   'Out',\n",
       "   '_',\n",
       "   '_111',\n",
       "   '_113',\n",
       "   '_114',\n",
       "   '_115',\n",
       "   '_116',\n",
       "   '_117',\n",
       "   '_119',\n",
       "   '_120',\n",
       "   '_121',\n",
       "   '_122',\n",
       "   '_123',\n",
       "   '_124',\n",
       "   '_125',\n",
       "   '_126',\n",
       "   '_128',\n",
       "   '_130',\n",
       "   '_132',\n",
       "   '_133',\n",
       "   '_20',\n",
       "   '_21',\n",
       "   '_23',\n",
       "   '_25',\n",
       "   '_26',\n",
       "   '_27',\n",
       "   '_31',\n",
       "   '_50',\n",
       "   '_54',\n",
       "   '_55',\n",
       "   '_56',\n",
       "   '_58',\n",
       "   '_59',\n",
       "   '_60',\n",
       "   '_62',\n",
       "   '_63',\n",
       "   '_64',\n",
       "   '_65',\n",
       "   '_66',\n",
       "   '_68',\n",
       "   '_69',\n",
       "   '_70',\n",
       "   '_87',\n",
       "   '_90',\n",
       "   '_92',\n",
       "   '_93',\n",
       "   '_94',\n",
       "   '__',\n",
       "   '___',\n",
       "   '__builtin__',\n",
       "   '__builtins__',\n",
       "   '__doc__',\n",
       "   '__loader__',\n",
       "   '__name__',\n",
       "   '__package__',\n",
       "   '__session__',\n",
       "   '__spec__',\n",
       "   '_dh',\n",
       "   '_i',\n",
       "   '_i1',\n",
       "   '_i10',\n",
       "   '_i100',\n",
       "   '_i101',\n",
       "   '_i102',\n",
       "   '_i103',\n",
       "   '_i104',\n",
       "   '_i105',\n",
       "   '_i106',\n",
       "   '_i107',\n",
       "   '_i108',\n",
       "   '_i109',\n",
       "   '_i11',\n",
       "   '_i110',\n",
       "   '_i111',\n",
       "   '_i112',\n",
       "   '_i113',\n",
       "   '_i114',\n",
       "   '_i115',\n",
       "   '_i116',\n",
       "   '_i117',\n",
       "   '_i118',\n",
       "   '_i119',\n",
       "   '_i12',\n",
       "   '_i120',\n",
       "   '_i121',\n",
       "   '_i122',\n",
       "   '_i123',\n",
       "   '_i124',\n",
       "   '_i125',\n",
       "   '_i126',\n",
       "   '_i127',\n",
       "   '_i128',\n",
       "   '_i129',\n",
       "   '_i13',\n",
       "   '_i130',\n",
       "   '_i131',\n",
       "   '_i132',\n",
       "   '_i133',\n",
       "   '_i134',\n",
       "   '_i14',\n",
       "   '_i15',\n",
       "   '_i16',\n",
       "   '_i17',\n",
       "   '_i18',\n",
       "   '_i19',\n",
       "   '_i2',\n",
       "   '_i20',\n",
       "   '_i21',\n",
       "   '_i22',\n",
       "   '_i23',\n",
       "   '_i24',\n",
       "   '_i25',\n",
       "   '_i26',\n",
       "   '_i27',\n",
       "   '_i28',\n",
       "   '_i29',\n",
       "   '_i3',\n",
       "   '_i30',\n",
       "   '_i31',\n",
       "   '_i32',\n",
       "   '_i33',\n",
       "   '_i34',\n",
       "   '_i35',\n",
       "   '_i36',\n",
       "   '_i37',\n",
       "   '_i38',\n",
       "   '_i39',\n",
       "   '_i4',\n",
       "   '_i40',\n",
       "   '_i41',\n",
       "   '_i42',\n",
       "   '_i43',\n",
       "   '_i44',\n",
       "   '_i45',\n",
       "   '_i46',\n",
       "   '_i47',\n",
       "   '_i48',\n",
       "   '_i49',\n",
       "   '_i5',\n",
       "   '_i50',\n",
       "   '_i51',\n",
       "   '_i52',\n",
       "   '_i53',\n",
       "   '_i54',\n",
       "   '_i55',\n",
       "   '_i56',\n",
       "   '_i57',\n",
       "   '_i58',\n",
       "   '_i59',\n",
       "   '_i60',\n",
       "   '_i61',\n",
       "   '_i62',\n",
       "   '_i63',\n",
       "   '_i64',\n",
       "   '_i65',\n",
       "   '_i66',\n",
       "   '_i67',\n",
       "   '_i68',\n",
       "   '_i69',\n",
       "   '_i7',\n",
       "   '_i70',\n",
       "   '_i71',\n",
       "   '_i72',\n",
       "   '_i73',\n",
       "   '_i74',\n",
       "   '_i75',\n",
       "   '_i76',\n",
       "   '_i77',\n",
       "   '_i78',\n",
       "   '_i79',\n",
       "   '_i8',\n",
       "   '_i80',\n",
       "   '_i81',\n",
       "   '_i82',\n",
       "   '_i83',\n",
       "   '_i84',\n",
       "   '_i85',\n",
       "   '_i86',\n",
       "   '_i87',\n",
       "   '_i88',\n",
       "   '_i89',\n",
       "   '_i9',\n",
       "   '_i90',\n",
       "   '_i91',\n",
       "   '_i92',\n",
       "   '_i93',\n",
       "   '_i94',\n",
       "   '_i95',\n",
       "   '_i96',\n",
       "   '_i97',\n",
       "   '_i98',\n",
       "   '_i99',\n",
       "   '_ih',\n",
       "   '_ii',\n",
       "   '_iii',\n",
       "   '_oh',\n",
       "   'acierto',\n",
       "   'ask_for_pwd',\n",
       "   'ask_for_pwd_with_tries',\n",
       "   'c1',\n",
       "   'exit',\n",
       "   'gcd',\n",
       "   'get_ipython',\n",
       "   'l1',\n",
       "   'l2',\n",
       "   'lista1',\n",
       "   'lista2',\n",
       "   'lista3',\n",
       "   'open',\n",
       "   'prime_decomposition',\n",
       "   'quit',\n",
       "   'r1',\n",
       "   'r2',\n",
       "   'r3',\n",
       "   'randint',\n",
       "   'str1',\n",
       "   't1',\n",
       "   't2',\n",
       "   'v1',\n",
       "   'x',\n",
       "   'x11',\n",
       "   'x12',\n",
       "   'x21',\n",
       "   'x22',\n",
       "   'z'],\n",
       "  142: 25,\n",
       "  155: [0.07734847071724686, 0.27811593035503535],\n",
       "  161: True,\n",
       "  172: float,\n",
       "  173: {1, 2, 3},\n",
       "  174: set(),\n",
       "  191: False,\n",
       "  193: {(1+5j), 1, 25, 6, 90, 'casa', 'gato', 'perro'},\n",
       "  194: {(1+5j), 1, 25, 3.2, 90, 'casa', 'perro'},\n",
       "  195: {(1+5j), 1, 25, 6, 90, 'casa', 'gato', 'perro'},\n",
       "  196: {1, 90.0},\n",
       "  197: {1, 90.0},\n",
       "  199: {(1+5j), 'casa', 'perro'},\n",
       "  200: {(1+5j), 'casa', 'perro'},\n",
       "  201: {(1+5j), 25, 3.2, 'casa', 'perro'},\n",
       "  202: {(1+5j), 25, 3.2, 'casa', 'perro'},\n",
       "  203: False,\n",
       "  204: True,\n",
       "  205: True,\n",
       "  206: True,\n",
       "  208: ['Hablen niños ratas de ', ' UEM'],\n",
       "  210: 'Hablen niños ratas de las UEM',\n",
       "  212: 29},\n",
       " '_dh': [PosixPath('/Users/lucas/Downloads/Crash course/PCD2023')],\n",
       " 'In': ['',\n",
       "  'def prime_decomposition(n):\\n    x,t,out=n,2,[]\\n    check=True\\n    while x>1:\\n        check = True\\n        print(x,t)\\n        for i in out:\\n           if t%i==0:\\n               check=False\\n               continue\\n        if x%t==0 and check:\\n            out.append(t)\\n            x/=t\\n        else:\\n            t+=1\\n    return out    ',\n",
       "  'prime_decomposition(100)',\n",
       "  'def prime_decomposition(n):\\n    x,t,out=n,2,[]\\n    check=True\\n    while x>1:\\n        check = True\\n        print(x,t)\\n        for i in out:\\n           if t%i==0:\\n               check=False\\n               continue\\n        if check:\\n            if x%t==0:\\n                out.append(t)\\n                x/=t\\n            else:\\n                t+=1\\n    return out    ',\n",
       "  'prime_decomposition(100)',\n",
       "  'def prime_decomposition(n):\\n    x,t,out=n,2,[]\\n    check=True\\n    while x>1:\\n        check = True\\n        print(x,t)\\n        for i in out:\\n            print(\"in\")\\n           if t%i==0:\\n               check=False\\n               continue\\n        if check:\\n            if x%t==0:\\n                out.append(t)\\n                x/=t\\n            else:\\n                t+=1\\n    return out    ',\n",
       "  'def prime_decomposition(n):\\n    x,t,out=n,2,[]\\n    check=True\\n    while x>1:\\n        check = True\\n        print(x,t)\\n        for i in out:\\n            print(\"in\")\\n            if t%i==0:\\n                check=False\\n                continue\\n        if check:\\n            if x%t==0:\\n                out.append(t)\\n                x/=t\\n            else:\\n                t+=1\\n    return out    ',\n",
       "  'prime_decomposition(100)',\n",
       "  'def prime_decomposition(n):\\n    x,t,out=n,2,[]\\n    check=True\\n    while x>1:\\n        check = True\\n        print(x,t)\\n        for i in out:\\n            print(\"in\")\\n            if t%i==0:\\n                check=False\\n                continue\\n        print(\"check: \",check)\\n        if check:\\n            \\n            if x%t==0:\\n                out.append(t)\\n                x/=t\\n            else:\\n                t+=1\\n    return out    ',\n",
       "  'prime_decomposition(100)',\n",
       "  'def prime_decomposition(n):\\n    x,t,out=n,2,[]\\n    check=True\\n    while x>1:\\n        check = True\\n        print(x,t)\\n        for i in out:\\n            print(\"in\")\\n            if t%i==0:\\n                check=False\\n                continue\\n        print(\"check: \",check)\\n        if check:\\n            if x%t==0:\\n                out.append(t)\\n                x/=t\\n        t+=1\\n    return out    ',\n",
       "  'prime_decomposition(100)',\n",
       "  'def prime_decomposition(n):\\n    x,t,out=n,2,[]\\n    check=True\\n    while x>1:\\n        check = True\\n        print(x,t)\\n        for i in out:\\n            print(\"in\")\\n            if t%i==0:\\n                check=False\\n                continue\\n        print(\"check: \",check,out)\\n        if check:\\n            if x%t==0:\\n                out.append(t)\\n                x/=t\\n        t+=1\\n    return out    ',\n",
       "  'prime_decomposition(100)',\n",
       "  'def prime_decomposition(n):\\n    x,t,out=n,2,[]\\n    check=True\\n    while x>1:\\n        check = True\\n        print(x,t)\\n        for i in out:\\n            print(\"in\")\\n            if t%i==0:\\n                check=False\\n                continue\\n        print(\"check: \",check,out,t)\\n        if check:\\n            if x%t==0:\\n                out.append(t)\\n                x/=t\\n        t+=1\\n    return out    ',\n",
       "  'prime_decomposition(100)',\n",
       "  'def prime_decomposition(n):\\n    x,t,out=n,2,[]\\n    check=True\\n    while x>1:\\n        check = True\\n        print(x,t)\\n        for i in out:\\n            print(\"in\")\\n            if t%i==0:\\n                check=False\\n                continue\\n        print(\"check: \",check,out,t)\\n        if check:\\n            if x%t==0:\\n                out.append(t)\\n                x/=t\\n                t-=1\\n        t+=1\\n    return out    ',\n",
       "  'prime_decomposition(100)',\n",
       "  'def prime_decomposition(n):\\n    x,t,out=n,2,[]\\n    check=True\\n    while x>1:\\n        check = True\\n        print(x,t)\\n        for i in out:\\n            print(\"in\")\\n            if t%i==0 and not t==i:\\n                check=False\\n                continue\\n        print(\"check: \",check,out,t)\\n        if check:\\n            if x%t==0:\\n                out.append(t)\\n                x/=t\\n                t-=1\\n        t+=1\\n    return out    ',\n",
       "  'prime_decomposition(100)',\n",
       "  'prime_decomposition(76)',\n",
       "  'def prime_decomposition(n):\\n    x,t,out=n,2,[]\\n    check=True\\n    while x>1:\\n        check = True\\n        print(x,t)\\n        for i in out:\\n            if t%i==0 and not t==i:\\n                check=False\\n                continue\\n        if check:\\n            if x%t==0:\\n                out.append(t)\\n                x/=t\\n                t-=1\\n        t+=1\\n    return out    ',\n",
       "  'prime_decomposition(76)',\n",
       "  'def prime_decomposition(n):\\n    x,t,out=n,2,[]\\n    check=True\\n    while x>1:\\n        check = True\\n        for i in out:\\n            if t%i==0 and not t==i:\\n                check=False\\n                continue\\n        if check:\\n            if x%t==0:\\n                out.append(t)\\n                x/=t\\n                t-=1\\n        t+=1\\n    return out    ',\n",
       "  'prime_decomposition(76)',\n",
       "  'prime_decomposition(50)',\n",
       "  'prime_decomposition(36)',\n",
       "  'x = input()',\n",
       "  'x = input()',\n",
       "  'print(\\'Introduzca un valor:\\')\\nx = int(input())\\nprint(\"El numero introducido es\",x)',\n",
       "  '1+x',\n",
       "  'def ask_for_pwd():\\n    cont,pwd =false, \"laMejorContr4seña\"\\n    while not cont:\\n        cont=input()==pwd\\n        print(\"contraseña incorrecta\")\\n    print(\"contraseña correcta, continua el programa\")',\n",
       "  'ask_for_pwd()\\nprint(\"se salio de la funcion, resto del codigo\")',\n",
       "  'def ask_for_pwd():\\n    cont,pwd =False, \"laMejorContr4seña\"\\n    while not cont:\\n        cont=input()==pwd\\n        print(\"contraseña incorrecta\")\\n    print(\"contraseña correcta, continua el programa\")',\n",
       "  'ask_for_pwd()\\nprint(\"se salio de la funcion, resto del codigo\")',\n",
       "  'def ask_for_pwd():\\n    cont,pwd =False, \"laMejorContr4seña\"\\n    while not cont:\\n        cont=input()==pwd\\n        if not cont:\\n            print(\"contraseña incorrecta\")\\n    print(\"contraseña correcta, continua el programa\")',\n",
       "  'ask_for_pwd()\\nprint(\"se salio de la funcion, resto del codigo\")',\n",
       "  'def ask_for_pwd_with_tries(n):\\n    cont,pwd =False, \"laMejorContr4seña\"\\n    while not cont and n>0:\\n        cont=input()==pwd\\n        if not cont:\\n            print(f\"contraseña incorrecta, {n} intento{\\'s\\'if n>1 else \\'\\'} restante{\\'s\\'if n>1 else \\'\\'}\")\\n    print(\"contraseña correcta, continua el programa\")',\n",
       "  'def ask_for_pwd_with_tries(n):\\n    cont,pwd =False, \"laMejorContr4seña\"\\n    while not cont and n>0:\\n        cont=input()==pwd\\n        if not cont:\\n            print(f\"contraseña incorrecta, {n} intento{\\'s\\'if n>1 else \\'\\'} restante{\\'s\\'if n>1 else \\'\\'}\")\\n    if n>0:\\n        print(\"contraseña correcta, continua el programa\")\\n    else print(\"no se ha introducido la contraseña correcta en los intentos permitidos\")',\n",
       "  'def ask_for_pwd_with_tries(n):\\n    cont,pwd =False, \"laMejorContr4seña\"\\n    while not cont and n>0:\\n        cont=input()==pwd\\n        if not cont:\\n            print(f\"contraseña incorrecta, {n} intento{\\'s\\'if n>1 else \\'\\'} restante{\\'s\\'if n>1 else \\'\\'}\")\\n    if n>0:\\n        print(\"contraseña correcta, continua el programa\")\\n    else: print(\"no se ha introducido la contraseña correcta en los intentos permitidos\")',\n",
       "  'ask_for_pwd_with_tries(3)',\n",
       "  'def ask_for_pwd_with_tries(n):\\n    cont,pwd =False, \"laMejorContr4seña\"\\n    while not cont and n>0:\\n        cont=input()==pwd\\n        if not cont:\\n            n-=1;\\n            print(f\"contraseña incorrecta, {n} intento{\\'s\\'if n>1 else \\'\\'} restante{\\'s\\'if n>1 else \\'\\'}\")\\n    if n>0:\\n        print(\"contraseña correcta, continua el programa\")\\n    else: print(\"no se ha introducido la contraseña correcta en los intentos permitidos\")',\n",
       "  'def ask_for_pwd_with_tries(n):\\n    cont,pwd =False, \"laMejorContr4seña\"\\n    while not cont and n>0:\\n        cont=input()==pwd\\n        if not cont:\\n            n-=1;\\n            print(f\"contraseña incorrecta, {n} intento{\\'s\\'if n>1 else \\'\\'} restante{\\'s\\'if n>1 else \\'\\'}\")\\n    if n>0:\\n        print(\"contraseña correcta, continua el programa\")\\n    else: print(\"no se ha introducido la contraseña correcta en los intentos permitidos\")',\n",
       "  'ask_for_pwd_with_tries(3)',\n",
       "  'def ask_for_pwd_with_tries(n):\\n    cont,pwd =False, \"laMejorContr4seña\"\\n    while not cont and n>0:\\n        cont=input()==pwd\\n        if not cont:\\n            n-=1;\\n            if n>0:\\n                print(f\"contraseña incorrecta, {n} intento{\\'s\\'if n>1 else \\'\\'} restante{\\'s\\'if n>1 else \\'\\'}\")\\n    if n>0:\\n        print(\"contraseña correcta, continua el programa\")\\n    else: print(\"no se ha introducido la contraseña correcta en los intentos permitidos\")',\n",
       "  'ask_for_pwd_with_tries(3)',\n",
       "  \"def acierto(n_min=0, n_max=10):\\n    x = randint(n_min, n_max)\\n    fallo = True\\n    while fallo == True:\\n        print('Introduce un numero:')\\n        numero = int(input())\\n        if numero == x:\\n            print('Has acertado')\\n            fallo = False\\n        elif numero < x:\\n            print('Es mayor que ', numero)\\n        else:\\n            print('Es menor que ', numero)\",\n",
       "  'acierto()',\n",
       "  'from random import randint',\n",
       "  'randint(0, 10)',\n",
       "  \"def acierto(n_min=0, n_max=10):\\n    x = randint(n_min, n_max)\\n    fallo = True\\n    while fallo == True:\\n        print('Introduce un numero:')\\n        numero = int(input())\\n        if numero == x:\\n            print('Has acertado')\\n            fallo = False\\n        elif numero < x:\\n            print('Es mayor que ', numero)\\n        else:\\n            print('Es menor que ', numero)\",\n",
       "  'acierto()',\n",
       "  'def gcd(n,m):\\n    r=m%n\\n    if r==0: return n\\n    return gcd(r,n)',\n",
       "  'gcd(4,2)',\n",
       "  'gcd(2,4)',\n",
       "  'gcd(250,40)',\n",
       "  'def gcd(n,m):\\n    r=m%n\\n    return r if r==0 else gcd(r,n)',\n",
       "  'gcd(4,2)',\n",
       "  'gcd(2,4)',\n",
       "  'gcd(250,40)',\n",
       "  'def gcd(n,m):\\n    r=m%n\\n    return n if r==0 else gcd(r,n)',\n",
       "  'gcd(4,2)',\n",
       "  'gcd(2,4)',\n",
       "  'gcd(250,40)',\n",
       "  'gcd(330,75)',\n",
       "  'gcd(475,99)',\n",
       "  'x11 = 24\\nx12 = int(24)\\nx21 = 33\\nx22 = float(33)\\nz = complex(x11)\\n\\nl1 = [1,2,3]\\nt1 = (4,5,6)\\nl2 = tuple(l1)\\nt2 = list(t1)\\n\\nc1 = set(l1)\\n\\nr1 = list()\\nr2 = tuple()\\nr3 = set()',\n",
       "  'type(x22)',\n",
       "  'c1',\n",
       "  'r3',\n",
       "  'lista1 = [1,2,3]',\n",
       "  'lista2 = lista1',\n",
       "  'print(lista1)\\nprint(lista2)',\n",
       "  'lista2[1]= 99',\n",
       "  'print(lista1)\\nprint(lista2)',\n",
       "  'lista1.append(88)',\n",
       "  'print(lista1)\\nprint(lista2)',\n",
       "  'lista3 = lista1.copy()',\n",
       "  'lista3.append(77)',\n",
       "  'print(lista1)\\nprint(lista2)\\nprint(lista3)',\n",
       "  'lista1.append(66)',\n",
       "  'print(lista1)\\nprint(lista2)\\nprint(lista3)',\n",
       "  'v1 = 99',\n",
       "  'print(isinstance(v1, int), isinstance(v1, float)) ',\n",
       "  \"A = {'casa', 'perro', 1, 1+5j, 90, 90.0}; print(A)\\nB = {1, 3.2, 25, 90.0}; print(B)\",\n",
       "  \"# INCLUSION DE ELEMENTOS\\nprint('gato' in A)\\nprint('perro' in A)\",\n",
       "  '{1, 90} in A',\n",
       "  '# UNION DE DOS O MAS CONJUNTOS\\nprint(A | B)\\nprint(B | A)',\n",
       "  \"A | (25,6,'gato')\",\n",
       "  \"A | {25,6,'gato'}\",\n",
       "  'x11 = 24\\nx12 = int(24)\\nx21 = 33\\nx22 = float(33)\\nz = complex(x11)\\n\\nl1 = [1,2,3]\\nt1 = (4,5,6)\\nl2 = tuple(l1)\\nt2 = list(t1)\\n\\nc1 = set(l1)\\n\\nr1 = list()\\nr2 = tuple()\\nr3 = set()',\n",
       "  'type(x22)',\n",
       "  'c1',\n",
       "  'r3',\n",
       "  'lista1 = [1,2,3]',\n",
       "  'lista2 = lista1',\n",
       "  'print(lista1)\\nprint(lista2)',\n",
       "  'lista2[1]= 99',\n",
       "  'print(lista1)\\nprint(lista2)',\n",
       "  'lista1.append(88)',\n",
       "  'print(lista1)\\nprint(lista2)',\n",
       "  'lista3 = lista1.copy()',\n",
       "  'lista3.append(77)',\n",
       "  'print(lista1)\\nprint(lista2)\\nprint(lista3)',\n",
       "  'lista1.append(66)',\n",
       "  'print(lista1)\\nprint(lista2)\\nprint(lista3)',\n",
       "  'v1 = 99',\n",
       "  'print(isinstance(v1, int), isinstance(v1, float)) ',\n",
       "  \"A = {'casa', 'perro', 1, 1+5j, 90, 90.0}; print(A)\\nB = {1, 3.2, 25, 90.0}; print(B)\",\n",
       "  \"# INCLUSION DE ELEMENTOS\\nprint('gato' in A)\\nprint('perro' in A)\",\n",
       "  '{1, 90} in A',\n",
       "  '# UNION DE DOS O MAS CONJUNTOS\\nprint(A | B)\\nprint(B | A)',\n",
       "  \"A | {25,6,'gato'}\",\n",
       "  'A.union(B)',\n",
       "  \"A.union((25,6,'gato'))\",\n",
       "  '# INTERSECCIÓN DE DOS O MÁS CONJUNTOS\\nA & B',\n",
       "  'B.intersection(A)',\n",
       "  '# DIFERENCIA DE CONJUNTOS',\n",
       "  'A - B',\n",
       "  'A.difference(B)',\n",
       "  '# Diferencia simétrica\\nA ^ B',\n",
       "  'A.union(B).difference(A.intersection(B))',\n",
       "  '# Comprobación de si existen elementos en común.\\nA.isdisjoint(B)',\n",
       "  '{1, 90}.issubset(A) #inclusión de subconjuntos',\n",
       "  '{1, 90} < A',\n",
       "  '{1, 90} <= A',\n",
       "  \"str1 = 'Hablen niños ratas de las UEM'\",\n",
       "  \"str1.split('las') # Genera una lista con cada fragmento de la cadena en una posición según el separador indicado.\",\n",
       "  'print(str1.lower()) # en minúsculas\\nprint(str1.upper()) # en mayúsculas',\n",
       "  \"str1.strip(' ') # elimina el caracter indicado.\",\n",
       "  'print(str1) # parar imprimir cadenas de texto.',\n",
       "  'len(str1) #longitud de un objeto, que tenga medida',\n",
       "  'globals() #listar variables',\n",
       "  'dir() #lista de variables',\n",
       "  \"# listar variables\\nget_ipython().run_line_magic('who', '')\",\n",
       "  \"#Listar variables tipo y valor\\nget_ipython().run_line_magic('whos', '')\",\n",
       "  \"get_ipython().run_line_magic('timeit', '')\\nx=1\",\n",
       "  '# eliminar una o varias variables\\ndel x12',\n",
       "  \"get_ipython().run_line_magic('who', '')\",\n",
       "  'lista = [1,2,3,4,5,6,7,8,9,10]',\n",
       "  'lista.append(25) # Añade valor al final de la lista',\n",
       "  'lista.pop() # Devuelve el último valor de la lista y lo elimina.',\n",
       "  'otra_lista = lista.copy() # Permite copiar los valores de una lista a otra.',\n",
       "  'lista.reverse() #invierte el orden',\n",
       "  'lista.sort() #orden la lista',\n",
       "  'lista.clear() #elimina todos los elementos.',\n",
       "  'from random import seed, random, randint, gauss, choice, sample',\n",
       "  'seed(10)\\nlista = [random() for i in range(110)]\\nprint(lista)',\n",
       "  'suma = 0\\nfor numero in lista:\\n    suma+= numero\\nprint(suma)',\n",
       "  'recuento = 0\\nfor numero in lista:\\n    recuento = recuento + 1\\nprint(recuento)',\n",
       "  'def recuento(ls1):\\n    \"\"\"Función que aceptada como entrada una lista de números y \\n    realiza la suma de sus elementos\"\"\"\\n    x = 0\\n    for i in ls1:\\n        x += 1\\n    return x',\n",
       "  'help(recuento)',\n",
       "  'n = recuento(lista)\\nprint(n)',\n",
       "  'def varianza(ls):\\n    \"\"\"Función que calcula la varianza y desviación típica de los valores de \\n    una lista de números.\"\"\"\\n    suma = 0\\n    recuento = 0\\n    for x in ls:\\n        suma += x\\n        recuento += 1\\n    media = suma / recuento\\n    \\n    var = 0\\n    for x in ls:\\n        var += (x - media)**2\\n    var = var / recuento\\n    \\n    sd = var**(1/2)\\n    \\n    return [var, sd]',\n",
       "  'varianza(lista)',\n",
       "  'def factorial1(n):\\n    \"\"\"Función que calcula el factorial de un número n positivo.\"\"\"\\n    producto = 1\\n    for x in range(1,n+1):\\n        producto = producto * x\\n    return producto',\n",
       "  \"get_ipython().run_cell_magic('timeit', '', 'factorial1(10)\\\\n')\",\n",
       "  'def factorial2(n):\\n    \"\"\"funcion que calcula el factorial de un numero n de forma recursiva, n debe ser un numero positivo\"\"\"\\n    if n<0: \\n        return\\n    if n in (0,1):\\n        return 1\\n    else:\\n        return n * factorial2(n-1)',\n",
       "  \"get_ipython().run_cell_magic('timeit', '', 'factorial2(45)\\\\n')\",\n",
       "  'def es_par(x):\\n    \"\"\"devuelve si el numero es par\"\"\"\\n    return (x % 2) == 0',\n",
       "  'es_par(14)',\n",
       "  'x = [1, 1];print(x)\\ni = 1\\nx = x + [x[0] + x[1]]\\nprint(x)\\nx = x + [x[1] + x[2]]\\nprint(x)\\nx = x + [x[2] + x[3]]\\nprint(x)',\n",
       "  'x = [1, 1];print(x)\\ni = 1\\nx = x + [x[i-1] + x[i]]\\nprint(x)\\ni += 1\\nx = x + [x[i-1] + x[i]]\\nprint(x)\\ni += 1\\nx = x + [x[i-1] + x[i]]\\nprint(x)\\ni += 1\\nx = x + [x[i-1] + x[i]]\\nprint(x)',\n",
       "  'x = [1, 1]\\nn = 2\\nfor i in range(1, n - 1):\\n    x = x + [x[i] + x[i-1]]\\nprint(x)',\n",
       "  'def serie_fibonacci(n_elem):\\n    \"\"\"devuelve la secuencia de fibonacci con n_elem iteraciones\"\"\"\\n    salida = []\\n    for i in range(n_elem):\\n        salida.append(fibonacci(i+1))\\n    return salida',\n",
       "  'print(serie_fibonacci(9))',\n",
       "  'def fibonacci(n):\\n    a, b = 0, 1\\n    for i in range(n):\\n        a, b = b, a + b\\n    return a',\n",
       "  'print(serie_fibonacci(9))',\n",
       "  'def serie_fibonacci2(n_elem=0):\\n    aux = [1, 1]\\n    if n_elem < 1:\\n        print(\"Se debe indicar como mínimo un elemento.\")\\n    elif n_elem <= 2:\\n        return aux[:n_elem]\\n    else:\\n        for i in range(2, n_elem):\\n            aux.append(sum(aux[(i-2):i]))\\n        return aux',\n",
       "  \"get_ipython().run_cell_magic('timeit', '', 'fibonacci(10)\\\\n')\",\n",
       "  'x11 = 24\\nx12 = int(24)\\nx21 = 33\\nx22 = float(33)\\nz = complex(x11)\\n\\nl1 = [1,2,3]\\nt1 = (4,5,6)\\nl2 = tuple(l1)\\nt2 = list(t1)\\n\\nc1 = set(l1)\\n\\nr1 = list()\\nr2 = tuple()\\nr3 = set()',\n",
       "  'type(x22)',\n",
       "  'c1',\n",
       "  'r3',\n",
       "  'lista1 = [1,2,3]',\n",
       "  'lista2 = lista1',\n",
       "  'print(lista1)\\nprint(lista2)',\n",
       "  'lista2[1]= 99',\n",
       "  'print(lista1)\\nprint(lista2)',\n",
       "  'lista1.append(88)',\n",
       "  'print(lista1)\\nprint(lista2)',\n",
       "  'lista3 = lista1.copy()',\n",
       "  'lista3.append(77)',\n",
       "  'print(lista1)\\nprint(lista2)\\nprint(lista3)',\n",
       "  'lista1.append(66)',\n",
       "  'print(lista1)\\nprint(lista2)\\nprint(lista3)',\n",
       "  'v1 = 99',\n",
       "  'print(isinstance(v1, int), isinstance(v1, float)) ',\n",
       "  \"A = {'casa', 'perro', 1, 1+5j, 90, 90.0}; print(A)\\nB = {1, 3.2, 25, 90.0}; print(B)\",\n",
       "  \"# INCLUSION DE ELEMENTOS\\nprint('gato' in A)\\nprint('perro' in A)\",\n",
       "  '{1, 90} in A',\n",
       "  '# UNION DE DOS O MAS CONJUNTOS\\nprint(A | B)\\nprint(B | A)',\n",
       "  \"A | {25,6,'gato'}\",\n",
       "  'A.union(B)',\n",
       "  \"A.union((25,6,'gato'))\",\n",
       "  '# INTERSECCIÓN DE DOS O MÁS CONJUNTOS\\nA & B',\n",
       "  'B.intersection(A)',\n",
       "  '# DIFERENCIA DE CONJUNTOS',\n",
       "  'A - B',\n",
       "  'A.difference(B)',\n",
       "  '# Diferencia simétrica\\nA ^ B',\n",
       "  'A.union(B).difference(A.intersection(B))',\n",
       "  '# Comprobación de si existen elementos en común.\\nA.isdisjoint(B)',\n",
       "  '{1, 90}.issubset(A) #inclusión de subconjuntos',\n",
       "  '{1, 90} < A',\n",
       "  '{1, 90} <= A',\n",
       "  \"str1 = 'Hablen niños ratas de las UEM'\",\n",
       "  \"str1.split('las') # Genera una lista con cada fragmento de la cadena en una posición según el separador indicado.\",\n",
       "  'print(str1.lower()) # en minúsculas\\nprint(str1.upper()) # en mayúsculas',\n",
       "  \"str1.strip(' ') # elimina el caracter indicado.\",\n",
       "  'print(str1) # parar imprimir cadenas de texto.',\n",
       "  'len(str1) #longitud de un objeto, que tenga medida',\n",
       "  'globals() #listar variables'],\n",
       " 'Out': {20: [2, 2, 5, 5],\n",
       "  21: [2, 2, 19],\n",
       "  23: [2, 2, 19],\n",
       "  25: [2, 2, 19],\n",
       "  26: [2, 5, 5],\n",
       "  27: [2, 2, 3, 3],\n",
       "  31: 2,\n",
       "  50: 4,\n",
       "  54: 2,\n",
       "  55: 2,\n",
       "  56: 10,\n",
       "  58: 0,\n",
       "  59: 0,\n",
       "  60: 0,\n",
       "  62: 2,\n",
       "  63: 2,\n",
       "  64: 10,\n",
       "  65: 15,\n",
       "  66: 1,\n",
       "  68: float,\n",
       "  69: {1, 2, 3},\n",
       "  70: set(),\n",
       "  87: False,\n",
       "  90: {(1+5j), 1, 25, 6, 90, 'casa', 'gato', 'perro'},\n",
       "  92: float,\n",
       "  93: {1, 2, 3},\n",
       "  94: set(),\n",
       "  111: False,\n",
       "  113: {(1+5j), 1, 25, 6, 90, 'casa', 'gato', 'perro'},\n",
       "  114: {(1+5j), 1, 25, 3.2, 90, 'casa', 'perro'},\n",
       "  115: {(1+5j), 1, 25, 6, 90, 'casa', 'gato', 'perro'},\n",
       "  116: {1, 90.0},\n",
       "  117: {1, 90.0},\n",
       "  119: {(1+5j), 'casa', 'perro'},\n",
       "  120: {(1+5j), 'casa', 'perro'},\n",
       "  121: {(1+5j), 25, 3.2, 'casa', 'perro'},\n",
       "  122: {(1+5j), 25, 3.2, 'casa', 'perro'},\n",
       "  123: False,\n",
       "  124: True,\n",
       "  125: True,\n",
       "  126: True,\n",
       "  128: ['Hablen niños ratas de ', ' UEM'],\n",
       "  130: 'Hablen niños ratas de las UEM',\n",
       "  132: 29,\n",
       "  133: {...},\n",
       "  134: ['A',\n",
       "   'B',\n",
       "   'In',\n",
       "   'Out',\n",
       "   '_',\n",
       "   '_111',\n",
       "   '_113',\n",
       "   '_114',\n",
       "   '_115',\n",
       "   '_116',\n",
       "   '_117',\n",
       "   '_119',\n",
       "   '_120',\n",
       "   '_121',\n",
       "   '_122',\n",
       "   '_123',\n",
       "   '_124',\n",
       "   '_125',\n",
       "   '_126',\n",
       "   '_128',\n",
       "   '_130',\n",
       "   '_132',\n",
       "   '_133',\n",
       "   '_20',\n",
       "   '_21',\n",
       "   '_23',\n",
       "   '_25',\n",
       "   '_26',\n",
       "   '_27',\n",
       "   '_31',\n",
       "   '_50',\n",
       "   '_54',\n",
       "   '_55',\n",
       "   '_56',\n",
       "   '_58',\n",
       "   '_59',\n",
       "   '_60',\n",
       "   '_62',\n",
       "   '_63',\n",
       "   '_64',\n",
       "   '_65',\n",
       "   '_66',\n",
       "   '_68',\n",
       "   '_69',\n",
       "   '_70',\n",
       "   '_87',\n",
       "   '_90',\n",
       "   '_92',\n",
       "   '_93',\n",
       "   '_94',\n",
       "   '__',\n",
       "   '___',\n",
       "   '__builtin__',\n",
       "   '__builtins__',\n",
       "   '__doc__',\n",
       "   '__loader__',\n",
       "   '__name__',\n",
       "   '__package__',\n",
       "   '__session__',\n",
       "   '__spec__',\n",
       "   '_dh',\n",
       "   '_i',\n",
       "   '_i1',\n",
       "   '_i10',\n",
       "   '_i100',\n",
       "   '_i101',\n",
       "   '_i102',\n",
       "   '_i103',\n",
       "   '_i104',\n",
       "   '_i105',\n",
       "   '_i106',\n",
       "   '_i107',\n",
       "   '_i108',\n",
       "   '_i109',\n",
       "   '_i11',\n",
       "   '_i110',\n",
       "   '_i111',\n",
       "   '_i112',\n",
       "   '_i113',\n",
       "   '_i114',\n",
       "   '_i115',\n",
       "   '_i116',\n",
       "   '_i117',\n",
       "   '_i118',\n",
       "   '_i119',\n",
       "   '_i12',\n",
       "   '_i120',\n",
       "   '_i121',\n",
       "   '_i122',\n",
       "   '_i123',\n",
       "   '_i124',\n",
       "   '_i125',\n",
       "   '_i126',\n",
       "   '_i127',\n",
       "   '_i128',\n",
       "   '_i129',\n",
       "   '_i13',\n",
       "   '_i130',\n",
       "   '_i131',\n",
       "   '_i132',\n",
       "   '_i133',\n",
       "   '_i134',\n",
       "   '_i14',\n",
       "   '_i15',\n",
       "   '_i16',\n",
       "   '_i17',\n",
       "   '_i18',\n",
       "   '_i19',\n",
       "   '_i2',\n",
       "   '_i20',\n",
       "   '_i21',\n",
       "   '_i22',\n",
       "   '_i23',\n",
       "   '_i24',\n",
       "   '_i25',\n",
       "   '_i26',\n",
       "   '_i27',\n",
       "   '_i28',\n",
       "   '_i29',\n",
       "   '_i3',\n",
       "   '_i30',\n",
       "   '_i31',\n",
       "   '_i32',\n",
       "   '_i33',\n",
       "   '_i34',\n",
       "   '_i35',\n",
       "   '_i36',\n",
       "   '_i37',\n",
       "   '_i38',\n",
       "   '_i39',\n",
       "   '_i4',\n",
       "   '_i40',\n",
       "   '_i41',\n",
       "   '_i42',\n",
       "   '_i43',\n",
       "   '_i44',\n",
       "   '_i45',\n",
       "   '_i46',\n",
       "   '_i47',\n",
       "   '_i48',\n",
       "   '_i49',\n",
       "   '_i5',\n",
       "   '_i50',\n",
       "   '_i51',\n",
       "   '_i52',\n",
       "   '_i53',\n",
       "   '_i54',\n",
       "   '_i55',\n",
       "   '_i56',\n",
       "   '_i57',\n",
       "   '_i58',\n",
       "   '_i59',\n",
       "   '_i60',\n",
       "   '_i61',\n",
       "   '_i62',\n",
       "   '_i63',\n",
       "   '_i64',\n",
       "   '_i65',\n",
       "   '_i66',\n",
       "   '_i67',\n",
       "   '_i68',\n",
       "   '_i69',\n",
       "   '_i7',\n",
       "   '_i70',\n",
       "   '_i71',\n",
       "   '_i72',\n",
       "   '_i73',\n",
       "   '_i74',\n",
       "   '_i75',\n",
       "   '_i76',\n",
       "   '_i77',\n",
       "   '_i78',\n",
       "   '_i79',\n",
       "   '_i8',\n",
       "   '_i80',\n",
       "   '_i81',\n",
       "   '_i82',\n",
       "   '_i83',\n",
       "   '_i84',\n",
       "   '_i85',\n",
       "   '_i86',\n",
       "   '_i87',\n",
       "   '_i88',\n",
       "   '_i89',\n",
       "   '_i9',\n",
       "   '_i90',\n",
       "   '_i91',\n",
       "   '_i92',\n",
       "   '_i93',\n",
       "   '_i94',\n",
       "   '_i95',\n",
       "   '_i96',\n",
       "   '_i97',\n",
       "   '_i98',\n",
       "   '_i99',\n",
       "   '_ih',\n",
       "   '_ii',\n",
       "   '_iii',\n",
       "   '_oh',\n",
       "   'acierto',\n",
       "   'ask_for_pwd',\n",
       "   'ask_for_pwd_with_tries',\n",
       "   'c1',\n",
       "   'exit',\n",
       "   'gcd',\n",
       "   'get_ipython',\n",
       "   'l1',\n",
       "   'l2',\n",
       "   'lista1',\n",
       "   'lista2',\n",
       "   'lista3',\n",
       "   'open',\n",
       "   'prime_decomposition',\n",
       "   'quit',\n",
       "   'r1',\n",
       "   'r2',\n",
       "   'r3',\n",
       "   'randint',\n",
       "   'str1',\n",
       "   't1',\n",
       "   't2',\n",
       "   'v1',\n",
       "   'x',\n",
       "   'x11',\n",
       "   'x12',\n",
       "   'x21',\n",
       "   'x22',\n",
       "   'z'],\n",
       "  142: 25,\n",
       "  155: [0.07734847071724686, 0.27811593035503535],\n",
       "  161: True,\n",
       "  172: float,\n",
       "  173: {1, 2, 3},\n",
       "  174: set(),\n",
       "  191: False,\n",
       "  193: {(1+5j), 1, 25, 6, 90, 'casa', 'gato', 'perro'},\n",
       "  194: {(1+5j), 1, 25, 3.2, 90, 'casa', 'perro'},\n",
       "  195: {(1+5j), 1, 25, 6, 90, 'casa', 'gato', 'perro'},\n",
       "  196: {1, 90.0},\n",
       "  197: {1, 90.0},\n",
       "  199: {(1+5j), 'casa', 'perro'},\n",
       "  200: {(1+5j), 'casa', 'perro'},\n",
       "  201: {(1+5j), 25, 3.2, 'casa', 'perro'},\n",
       "  202: {(1+5j), 25, 3.2, 'casa', 'perro'},\n",
       "  203: False,\n",
       "  204: True,\n",
       "  205: True,\n",
       "  206: True,\n",
       "  208: ['Hablen niños ratas de ', ' UEM'],\n",
       "  210: 'Hablen niños ratas de las UEM',\n",
       "  212: 29},\n",
       " 'get_ipython': <bound method InteractiveShell.get_ipython of <ipykernel.zmqshell.ZMQInteractiveShell object at 0x107a61590>>,\n",
       " 'exit': <IPython.core.autocall.ZMQExitAutocall at 0x107a71650>,\n",
       " 'quit': <IPython.core.autocall.ZMQExitAutocall at 0x107a71650>,\n",
       " 'open': <function io.open(file, mode='r', buffering=-1, encoding=None, errors=None, newline=None, closefd=True, opener=None)>,\n",
       " '_': 29,\n",
       " '__': 'Hablen niños ratas de las UEM',\n",
       " '___': ['Hablen niños ratas de ', ' UEM'],\n",
       " '__session__': '/Users/lucas/Downloads/Crash course/PCD2023/Python_crash_course_session_2.ipynb',\n",
       " '_i': 'len(str1) #longitud de un objeto, que tenga medida',\n",
       " '_ii': 'print(str1) # parar imprimir cadenas de texto.',\n",
       " '_iii': \"str1.strip(' ') # elimina el caracter indicado.\",\n",
       " '_i1': 'def prime_decomposition(n):\\n    x,t,out=n,2,[]\\n    check=True\\n    while x>1:\\n        check = True\\n        print(x,t)\\n        for i in out:\\n           if t%i==0:\\n               check=False\\n               continue\\n        if x%t==0 and check:\\n            out.append(t)\\n            x/=t\\n        else:\\n            t+=1\\n    return out    ',\n",
       " 'prime_decomposition': <function __main__.prime_decomposition(n)>,\n",
       " '_i2': 'prime_decomposition(100)',\n",
       " '_i3': 'def prime_decomposition(n):\\n    x,t,out=n,2,[]\\n    check=True\\n    while x>1:\\n        check = True\\n        print(x,t)\\n        for i in out:\\n           if t%i==0:\\n               check=False\\n               continue\\n        if check:\\n            if x%t==0:\\n                out.append(t)\\n                x/=t\\n            else:\\n                t+=1\\n    return out    ',\n",
       " '_i4': 'prime_decomposition(100)',\n",
       " '_i5': 'def prime_decomposition(n):\\n    x,t,out=n,2,[]\\n    check=True\\n    while x>1:\\n        check = True\\n        print(x,t)\\n        for i in out:\\n            print(\"in\")\\n           if t%i==0:\\n               check=False\\n               continue\\n        if check:\\n            if x%t==0:\\n                out.append(t)\\n                x/=t\\n            else:\\n                t+=1\\n    return out    ',\n",
       " '_i7': 'def prime_decomposition(n):\\n    x,t,out=n,2,[]\\n    check=True\\n    while x>1:\\n        check = True\\n        print(x,t)\\n        for i in out:\\n            print(\"in\")\\n            if t%i==0:\\n                check=False\\n                continue\\n        if check:\\n            if x%t==0:\\n                out.append(t)\\n                x/=t\\n            else:\\n                t+=1\\n    return out    ',\n",
       " '_i8': 'prime_decomposition(100)',\n",
       " '_i9': 'def prime_decomposition(n):\\n    x,t,out=n,2,[]\\n    check=True\\n    while x>1:\\n        check = True\\n        print(x,t)\\n        for i in out:\\n            print(\"in\")\\n            if t%i==0:\\n                check=False\\n                continue\\n        print(\"check: \",check)\\n        if check:\\n            \\n            if x%t==0:\\n                out.append(t)\\n                x/=t\\n            else:\\n                t+=1\\n    return out    ',\n",
       " '_i10': 'prime_decomposition(100)',\n",
       " '_i11': 'def prime_decomposition(n):\\n    x,t,out=n,2,[]\\n    check=True\\n    while x>1:\\n        check = True\\n        print(x,t)\\n        for i in out:\\n            print(\"in\")\\n            if t%i==0:\\n                check=False\\n                continue\\n        print(\"check: \",check)\\n        if check:\\n            if x%t==0:\\n                out.append(t)\\n                x/=t\\n        t+=1\\n    return out    ',\n",
       " '_i12': 'prime_decomposition(100)',\n",
       " '_i13': 'def prime_decomposition(n):\\n    x,t,out=n,2,[]\\n    check=True\\n    while x>1:\\n        check = True\\n        print(x,t)\\n        for i in out:\\n            print(\"in\")\\n            if t%i==0:\\n                check=False\\n                continue\\n        print(\"check: \",check,out)\\n        if check:\\n            if x%t==0:\\n                out.append(t)\\n                x/=t\\n        t+=1\\n    return out    ',\n",
       " '_i14': 'prime_decomposition(100)',\n",
       " '_i15': 'def prime_decomposition(n):\\n    x,t,out=n,2,[]\\n    check=True\\n    while x>1:\\n        check = True\\n        print(x,t)\\n        for i in out:\\n            print(\"in\")\\n            if t%i==0:\\n                check=False\\n                continue\\n        print(\"check: \",check,out,t)\\n        if check:\\n            if x%t==0:\\n                out.append(t)\\n                x/=t\\n        t+=1\\n    return out    ',\n",
       " '_i16': 'prime_decomposition(100)',\n",
       " '_i17': 'def prime_decomposition(n):\\n    x,t,out=n,2,[]\\n    check=True\\n    while x>1:\\n        check = True\\n        print(x,t)\\n        for i in out:\\n            print(\"in\")\\n            if t%i==0:\\n                check=False\\n                continue\\n        print(\"check: \",check,out,t)\\n        if check:\\n            if x%t==0:\\n                out.append(t)\\n                x/=t\\n                t-=1\\n        t+=1\\n    return out    ',\n",
       " '_i18': 'prime_decomposition(100)',\n",
       " '_i19': 'def prime_decomposition(n):\\n    x,t,out=n,2,[]\\n    check=True\\n    while x>1:\\n        check = True\\n        print(x,t)\\n        for i in out:\\n            print(\"in\")\\n            if t%i==0 and not t==i:\\n                check=False\\n                continue\\n        print(\"check: \",check,out,t)\\n        if check:\\n            if x%t==0:\\n                out.append(t)\\n                x/=t\\n                t-=1\\n        t+=1\\n    return out    ',\n",
       " '_i20': 'prime_decomposition(100)',\n",
       " '_20': [2, 2, 5, 5],\n",
       " '_i21': 'prime_decomposition(76)',\n",
       " '_21': [2, 2, 19],\n",
       " '_i22': 'def prime_decomposition(n):\\n    x,t,out=n,2,[]\\n    check=True\\n    while x>1:\\n        check = True\\n        print(x,t)\\n        for i in out:\\n            if t%i==0 and not t==i:\\n                check=False\\n                continue\\n        if check:\\n            if x%t==0:\\n                out.append(t)\\n                x/=t\\n                t-=1\\n        t+=1\\n    return out    ',\n",
       " '_i23': 'prime_decomposition(76)',\n",
       " '_23': [2, 2, 19],\n",
       " '_i24': 'def prime_decomposition(n):\\n    x,t,out=n,2,[]\\n    check=True\\n    while x>1:\\n        check = True\\n        for i in out:\\n            if t%i==0 and not t==i:\\n                check=False\\n                continue\\n        if check:\\n            if x%t==0:\\n                out.append(t)\\n                x/=t\\n                t-=1\\n        t+=1\\n    return out    ',\n",
       " '_i25': 'prime_decomposition(76)',\n",
       " '_25': [2, 2, 19],\n",
       " '_i26': 'prime_decomposition(50)',\n",
       " '_26': [2, 5, 5],\n",
       " '_i27': 'prime_decomposition(36)',\n",
       " '_27': [2, 2, 3, 3],\n",
       " '_i28': 'x = input()',\n",
       " 'x': [1, 1],\n",
       " '_i29': 'x = input()',\n",
       " '_i30': 'print(\\'Introduzca un valor:\\')\\nx = int(input())\\nprint(\"El numero introducido es\",x)',\n",
       " '_i31': '1+x',\n",
       " '_31': 2,\n",
       " '_i32': 'def ask_for_pwd():\\n    cont,pwd =false, \"laMejorContr4seña\"\\n    while not cont:\\n        cont=input()==pwd\\n        print(\"contraseña incorrecta\")\\n    print(\"contraseña correcta, continua el programa\")',\n",
       " 'ask_for_pwd': <function __main__.ask_for_pwd()>,\n",
       " '_i33': 'ask_for_pwd()\\nprint(\"se salio de la funcion, resto del codigo\")',\n",
       " '_i34': 'def ask_for_pwd():\\n    cont,pwd =False, \"laMejorContr4seña\"\\n    while not cont:\\n        cont=input()==pwd\\n        print(\"contraseña incorrecta\")\\n    print(\"contraseña correcta, continua el programa\")',\n",
       " '_i35': 'ask_for_pwd()\\nprint(\"se salio de la funcion, resto del codigo\")',\n",
       " '_i36': 'def ask_for_pwd():\\n    cont,pwd =False, \"laMejorContr4seña\"\\n    while not cont:\\n        cont=input()==pwd\\n        if not cont:\\n            print(\"contraseña incorrecta\")\\n    print(\"contraseña correcta, continua el programa\")',\n",
       " '_i37': 'ask_for_pwd()\\nprint(\"se salio de la funcion, resto del codigo\")',\n",
       " '_i38': 'def ask_for_pwd_with_tries(n):\\n    cont,pwd =False, \"laMejorContr4seña\"\\n    while not cont and n>0:\\n        cont=input()==pwd\\n        if not cont:\\n            print(f\"contraseña incorrecta, {n} intento{\\'s\\'if n>1 else \\'\\'} restante{\\'s\\'if n>1 else \\'\\'}\")\\n    print(\"contraseña correcta, continua el programa\")',\n",
       " 'ask_for_pwd_with_tries': <function __main__.ask_for_pwd_with_tries(n)>,\n",
       " '_i39': 'def ask_for_pwd_with_tries(n):\\n    cont,pwd =False, \"laMejorContr4seña\"\\n    while not cont and n>0:\\n        cont=input()==pwd\\n        if not cont:\\n            print(f\"contraseña incorrecta, {n} intento{\\'s\\'if n>1 else \\'\\'} restante{\\'s\\'if n>1 else \\'\\'}\")\\n    if n>0:\\n        print(\"contraseña correcta, continua el programa\")\\n    else print(\"no se ha introducido la contraseña correcta en los intentos permitidos\")',\n",
       " '_i40': 'def ask_for_pwd_with_tries(n):\\n    cont,pwd =False, \"laMejorContr4seña\"\\n    while not cont and n>0:\\n        cont=input()==pwd\\n        if not cont:\\n            print(f\"contraseña incorrecta, {n} intento{\\'s\\'if n>1 else \\'\\'} restante{\\'s\\'if n>1 else \\'\\'}\")\\n    if n>0:\\n        print(\"contraseña correcta, continua el programa\")\\n    else: print(\"no se ha introducido la contraseña correcta en los intentos permitidos\")',\n",
       " '_i41': 'ask_for_pwd_with_tries(3)',\n",
       " '_i42': 'def ask_for_pwd_with_tries(n):\\n    cont,pwd =False, \"laMejorContr4seña\"\\n    while not cont and n>0:\\n        cont=input()==pwd\\n        if not cont:\\n            n-=1;\\n            print(f\"contraseña incorrecta, {n} intento{\\'s\\'if n>1 else \\'\\'} restante{\\'s\\'if n>1 else \\'\\'}\")\\n    if n>0:\\n        print(\"contraseña correcta, continua el programa\")\\n    else: print(\"no se ha introducido la contraseña correcta en los intentos permitidos\")',\n",
       " '_i43': 'def ask_for_pwd_with_tries(n):\\n    cont,pwd =False, \"laMejorContr4seña\"\\n    while not cont and n>0:\\n        cont=input()==pwd\\n        if not cont:\\n            n-=1;\\n            print(f\"contraseña incorrecta, {n} intento{\\'s\\'if n>1 else \\'\\'} restante{\\'s\\'if n>1 else \\'\\'}\")\\n    if n>0:\\n        print(\"contraseña correcta, continua el programa\")\\n    else: print(\"no se ha introducido la contraseña correcta en los intentos permitidos\")',\n",
       " '_i44': 'ask_for_pwd_with_tries(3)',\n",
       " '_i45': 'def ask_for_pwd_with_tries(n):\\n    cont,pwd =False, \"laMejorContr4seña\"\\n    while not cont and n>0:\\n        cont=input()==pwd\\n        if not cont:\\n            n-=1;\\n            if n>0:\\n                print(f\"contraseña incorrecta, {n} intento{\\'s\\'if n>1 else \\'\\'} restante{\\'s\\'if n>1 else \\'\\'}\")\\n    if n>0:\\n        print(\"contraseña correcta, continua el programa\")\\n    else: print(\"no se ha introducido la contraseña correcta en los intentos permitidos\")',\n",
       " '_i46': 'ask_for_pwd_with_tries(3)',\n",
       " '_i47': \"def acierto(n_min=0, n_max=10):\\n    x = randint(n_min, n_max)\\n    fallo = True\\n    while fallo == True:\\n        print('Introduce un numero:')\\n        numero = int(input())\\n        if numero == x:\\n            print('Has acertado')\\n            fallo = False\\n        elif numero < x:\\n            print('Es mayor que ', numero)\\n        else:\\n            print('Es menor que ', numero)\",\n",
       " 'acierto': <function __main__.acierto(n_min=0, n_max=10)>,\n",
       " '_i48': 'acierto()',\n",
       " '_i49': 'from random import randint',\n",
       " 'randint': <bound method Random.randint of <random.Random object at 0x15207d420>>,\n",
       " '_i50': 'randint(0, 10)',\n",
       " '_50': 4,\n",
       " '_i51': \"def acierto(n_min=0, n_max=10):\\n    x = randint(n_min, n_max)\\n    fallo = True\\n    while fallo == True:\\n        print('Introduce un numero:')\\n        numero = int(input())\\n        if numero == x:\\n            print('Has acertado')\\n            fallo = False\\n        elif numero < x:\\n            print('Es mayor que ', numero)\\n        else:\\n            print('Es menor que ', numero)\",\n",
       " '_i52': 'acierto()',\n",
       " '_i53': 'def gcd(n,m):\\n    r=m%n\\n    if r==0: return n\\n    return gcd(r,n)',\n",
       " 'gcd': <function __main__.gcd(n, m)>,\n",
       " '_i54': 'gcd(4,2)',\n",
       " '_54': 2,\n",
       " '_i55': 'gcd(2,4)',\n",
       " '_55': 2,\n",
       " '_i56': 'gcd(250,40)',\n",
       " '_56': 10,\n",
       " '_i57': 'def gcd(n,m):\\n    r=m%n\\n    return r if r==0 else gcd(r,n)',\n",
       " '_i58': 'gcd(4,2)',\n",
       " '_58': 0,\n",
       " '_i59': 'gcd(2,4)',\n",
       " '_59': 0,\n",
       " '_i60': 'gcd(250,40)',\n",
       " '_60': 0,\n",
       " '_i61': 'def gcd(n,m):\\n    r=m%n\\n    return n if r==0 else gcd(r,n)',\n",
       " '_i62': 'gcd(4,2)',\n",
       " '_62': 2,\n",
       " '_i63': 'gcd(2,4)',\n",
       " '_63': 2,\n",
       " '_i64': 'gcd(250,40)',\n",
       " '_64': 10,\n",
       " '_i65': 'gcd(330,75)',\n",
       " '_65': 15,\n",
       " '_i66': 'gcd(475,99)',\n",
       " '_66': 1,\n",
       " '_i67': 'x11 = 24\\nx12 = int(24)\\nx21 = 33\\nx22 = float(33)\\nz = complex(x11)\\n\\nl1 = [1,2,3]\\nt1 = (4,5,6)\\nl2 = tuple(l1)\\nt2 = list(t1)\\n\\nc1 = set(l1)\\n\\nr1 = list()\\nr2 = tuple()\\nr3 = set()',\n",
       " 'x11': 24,\n",
       " 'x21': 33,\n",
       " 'x22': 33.0,\n",
       " 'z': (24+0j),\n",
       " 'l1': [1, 2, 3],\n",
       " 't1': (4, 5, 6),\n",
       " 'l2': (1, 2, 3),\n",
       " 't2': [4, 5, 6],\n",
       " 'c1': {1, 2, 3},\n",
       " 'r1': [],\n",
       " 'r2': (),\n",
       " 'r3': set(),\n",
       " '_i68': 'type(x22)',\n",
       " '_68': float,\n",
       " '_i69': 'c1',\n",
       " '_69': {1, 2, 3},\n",
       " '_i70': 'r3',\n",
       " '_70': set(),\n",
       " '_i71': 'lista1 = [1,2,3]',\n",
       " 'lista1': [1, 99, 3, 88, 66],\n",
       " '_i72': 'lista2 = lista1',\n",
       " 'lista2': [1, 99, 3, 88, 66],\n",
       " '_i73': 'print(lista1)\\nprint(lista2)',\n",
       " '_i74': 'lista2[1]= 99',\n",
       " '_i75': 'print(lista1)\\nprint(lista2)',\n",
       " '_i76': 'lista1.append(88)',\n",
       " '_i77': 'print(lista1)\\nprint(lista2)',\n",
       " '_i78': 'lista3 = lista1.copy()',\n",
       " 'lista3': [1, 99, 3, 88, 77],\n",
       " '_i79': 'lista3.append(77)',\n",
       " '_i80': 'print(lista1)\\nprint(lista2)\\nprint(lista3)',\n",
       " '_i81': 'lista1.append(66)',\n",
       " '_i82': 'print(lista1)\\nprint(lista2)\\nprint(lista3)',\n",
       " '_i83': 'v1 = 99',\n",
       " 'v1': 99,\n",
       " '_i84': 'print(isinstance(v1, int), isinstance(v1, float)) ',\n",
       " '_i85': \"A = {'casa', 'perro', 1, 1+5j, 90, 90.0}; print(A)\\nB = {1, 3.2, 25, 90.0}; print(B)\",\n",
       " 'A': {(1+5j), 1, 90, 'casa', 'perro'},\n",
       " 'B': {1, 3.2, 25, 90.0},\n",
       " '_i86': \"# INCLUSION DE ELEMENTOS\\nprint('gato' in A)\\nprint('perro' in A)\",\n",
       " '_i87': '{1, 90} in A',\n",
       " '_87': False,\n",
       " '_i88': '# UNION DE DOS O MAS CONJUNTOS\\nprint(A | B)\\nprint(B | A)',\n",
       " '_i89': \"A | (25,6,'gato')\",\n",
       " '_i90': \"A | {25,6,'gato'}\",\n",
       " '_90': {(1+5j), 1, 25, 6, 90, 'casa', 'gato', 'perro'},\n",
       " '_i91': 'x11 = 24\\nx12 = int(24)\\nx21 = 33\\nx22 = float(33)\\nz = complex(x11)\\n\\nl1 = [1,2,3]\\nt1 = (4,5,6)\\nl2 = tuple(l1)\\nt2 = list(t1)\\n\\nc1 = set(l1)\\n\\nr1 = list()\\nr2 = tuple()\\nr3 = set()',\n",
       " '_i92': 'type(x22)',\n",
       " '_92': float,\n",
       " '_i93': 'c1',\n",
       " '_93': {1, 2, 3},\n",
       " '_i94': 'r3',\n",
       " '_94': set(),\n",
       " '_i95': 'lista1 = [1,2,3]',\n",
       " '_i96': 'lista2 = lista1',\n",
       " '_i97': 'print(lista1)\\nprint(lista2)',\n",
       " '_i98': 'lista2[1]= 99',\n",
       " '_i99': 'print(lista1)\\nprint(lista2)',\n",
       " '_i100': 'lista1.append(88)',\n",
       " '_i101': 'print(lista1)\\nprint(lista2)',\n",
       " '_i102': 'lista3 = lista1.copy()',\n",
       " '_i103': 'lista3.append(77)',\n",
       " '_i104': 'print(lista1)\\nprint(lista2)\\nprint(lista3)',\n",
       " '_i105': 'lista1.append(66)',\n",
       " '_i106': 'print(lista1)\\nprint(lista2)\\nprint(lista3)',\n",
       " '_i107': 'v1 = 99',\n",
       " '_i108': 'print(isinstance(v1, int), isinstance(v1, float)) ',\n",
       " '_i109': \"A = {'casa', 'perro', 1, 1+5j, 90, 90.0}; print(A)\\nB = {1, 3.2, 25, 90.0}; print(B)\",\n",
       " '_i110': \"# INCLUSION DE ELEMENTOS\\nprint('gato' in A)\\nprint('perro' in A)\",\n",
       " '_i111': '{1, 90} in A',\n",
       " '_111': False,\n",
       " '_i112': '# UNION DE DOS O MAS CONJUNTOS\\nprint(A | B)\\nprint(B | A)',\n",
       " '_i113': \"A | {25,6,'gato'}\",\n",
       " '_113': {(1+5j), 1, 25, 6, 90, 'casa', 'gato', 'perro'},\n",
       " '_i114': 'A.union(B)',\n",
       " '_114': {(1+5j), 1, 25, 3.2, 90, 'casa', 'perro'},\n",
       " '_i115': \"A.union((25,6,'gato'))\",\n",
       " '_115': {(1+5j), 1, 25, 6, 90, 'casa', 'gato', 'perro'},\n",
       " '_i116': '# INTERSECCIÓN DE DOS O MÁS CONJUNTOS\\nA & B',\n",
       " '_116': {1, 90.0},\n",
       " '_i117': 'B.intersection(A)',\n",
       " '_117': {1, 90.0},\n",
       " '_i118': '# DIFERENCIA DE CONJUNTOS',\n",
       " '_i119': 'A - B',\n",
       " '_119': {(1+5j), 'casa', 'perro'},\n",
       " '_i120': 'A.difference(B)',\n",
       " '_120': {(1+5j), 'casa', 'perro'},\n",
       " '_i121': '# Diferencia simétrica\\nA ^ B',\n",
       " '_121': {(1+5j), 25, 3.2, 'casa', 'perro'},\n",
       " '_i122': 'A.union(B).difference(A.intersection(B))',\n",
       " '_122': {(1+5j), 25, 3.2, 'casa', 'perro'},\n",
       " '_i123': '# Comprobación de si existen elementos en común.\\nA.isdisjoint(B)',\n",
       " '_123': False,\n",
       " '_i124': '{1, 90}.issubset(A) #inclusión de subconjuntos',\n",
       " '_124': True,\n",
       " '_i125': '{1, 90} < A',\n",
       " '_125': True,\n",
       " '_i126': '{1, 90} <= A',\n",
       " '_126': True,\n",
       " '_i127': \"str1 = 'Hablen niños ratas de las UEM'\",\n",
       " 'str1': 'Hablen niños ratas de las UEM',\n",
       " '_i128': \"str1.split('las') # Genera una lista con cada fragmento de la cadena en una posición según el separador indicado.\",\n",
       " '_128': ['Hablen niños ratas de ', ' UEM'],\n",
       " '_i129': 'print(str1.lower()) # en minúsculas\\nprint(str1.upper()) # en mayúsculas',\n",
       " '_i130': \"str1.strip(' ') # elimina el caracter indicado.\",\n",
       " '_130': 'Hablen niños ratas de las UEM',\n",
       " '_i131': 'print(str1) # parar imprimir cadenas de texto.',\n",
       " '_i132': 'len(str1) #longitud de un objeto, que tenga medida',\n",
       " '_132': 29,\n",
       " '_i133': 'globals() #listar variables',\n",
       " '_133': {...},\n",
       " '_i134': 'dir() #lista de variables',\n",
       " '_134': ['A',\n",
       "  'B',\n",
       "  'In',\n",
       "  'Out',\n",
       "  '_',\n",
       "  '_111',\n",
       "  '_113',\n",
       "  '_114',\n",
       "  '_115',\n",
       "  '_116',\n",
       "  '_117',\n",
       "  '_119',\n",
       "  '_120',\n",
       "  '_121',\n",
       "  '_122',\n",
       "  '_123',\n",
       "  '_124',\n",
       "  '_125',\n",
       "  '_126',\n",
       "  '_128',\n",
       "  '_130',\n",
       "  '_132',\n",
       "  '_133',\n",
       "  '_20',\n",
       "  '_21',\n",
       "  '_23',\n",
       "  '_25',\n",
       "  '_26',\n",
       "  '_27',\n",
       "  '_31',\n",
       "  '_50',\n",
       "  '_54',\n",
       "  '_55',\n",
       "  '_56',\n",
       "  '_58',\n",
       "  '_59',\n",
       "  '_60',\n",
       "  '_62',\n",
       "  '_63',\n",
       "  '_64',\n",
       "  '_65',\n",
       "  '_66',\n",
       "  '_68',\n",
       "  '_69',\n",
       "  '_70',\n",
       "  '_87',\n",
       "  '_90',\n",
       "  '_92',\n",
       "  '_93',\n",
       "  '_94',\n",
       "  '__',\n",
       "  '___',\n",
       "  '__builtin__',\n",
       "  '__builtins__',\n",
       "  '__doc__',\n",
       "  '__loader__',\n",
       "  '__name__',\n",
       "  '__package__',\n",
       "  '__session__',\n",
       "  '__spec__',\n",
       "  '_dh',\n",
       "  '_i',\n",
       "  '_i1',\n",
       "  '_i10',\n",
       "  '_i100',\n",
       "  '_i101',\n",
       "  '_i102',\n",
       "  '_i103',\n",
       "  '_i104',\n",
       "  '_i105',\n",
       "  '_i106',\n",
       "  '_i107',\n",
       "  '_i108',\n",
       "  '_i109',\n",
       "  '_i11',\n",
       "  '_i110',\n",
       "  '_i111',\n",
       "  '_i112',\n",
       "  '_i113',\n",
       "  '_i114',\n",
       "  '_i115',\n",
       "  '_i116',\n",
       "  '_i117',\n",
       "  '_i118',\n",
       "  '_i119',\n",
       "  '_i12',\n",
       "  '_i120',\n",
       "  '_i121',\n",
       "  '_i122',\n",
       "  '_i123',\n",
       "  '_i124',\n",
       "  '_i125',\n",
       "  '_i126',\n",
       "  '_i127',\n",
       "  '_i128',\n",
       "  '_i129',\n",
       "  '_i13',\n",
       "  '_i130',\n",
       "  '_i131',\n",
       "  '_i132',\n",
       "  '_i133',\n",
       "  '_i134',\n",
       "  '_i14',\n",
       "  '_i15',\n",
       "  '_i16',\n",
       "  '_i17',\n",
       "  '_i18',\n",
       "  '_i19',\n",
       "  '_i2',\n",
       "  '_i20',\n",
       "  '_i21',\n",
       "  '_i22',\n",
       "  '_i23',\n",
       "  '_i24',\n",
       "  '_i25',\n",
       "  '_i26',\n",
       "  '_i27',\n",
       "  '_i28',\n",
       "  '_i29',\n",
       "  '_i3',\n",
       "  '_i30',\n",
       "  '_i31',\n",
       "  '_i32',\n",
       "  '_i33',\n",
       "  '_i34',\n",
       "  '_i35',\n",
       "  '_i36',\n",
       "  '_i37',\n",
       "  '_i38',\n",
       "  '_i39',\n",
       "  '_i4',\n",
       "  '_i40',\n",
       "  '_i41',\n",
       "  '_i42',\n",
       "  '_i43',\n",
       "  '_i44',\n",
       "  '_i45',\n",
       "  '_i46',\n",
       "  '_i47',\n",
       "  '_i48',\n",
       "  '_i49',\n",
       "  '_i5',\n",
       "  '_i50',\n",
       "  '_i51',\n",
       "  '_i52',\n",
       "  '_i53',\n",
       "  '_i54',\n",
       "  '_i55',\n",
       "  '_i56',\n",
       "  '_i57',\n",
       "  '_i58',\n",
       "  '_i59',\n",
       "  '_i60',\n",
       "  '_i61',\n",
       "  '_i62',\n",
       "  '_i63',\n",
       "  '_i64',\n",
       "  '_i65',\n",
       "  '_i66',\n",
       "  '_i67',\n",
       "  '_i68',\n",
       "  '_i69',\n",
       "  '_i7',\n",
       "  '_i70',\n",
       "  '_i71',\n",
       "  '_i72',\n",
       "  '_i73',\n",
       "  '_i74',\n",
       "  '_i75',\n",
       "  '_i76',\n",
       "  '_i77',\n",
       "  '_i78',\n",
       "  '_i79',\n",
       "  '_i8',\n",
       "  '_i80',\n",
       "  '_i81',\n",
       "  '_i82',\n",
       "  '_i83',\n",
       "  '_i84',\n",
       "  '_i85',\n",
       "  '_i86',\n",
       "  '_i87',\n",
       "  '_i88',\n",
       "  '_i89',\n",
       "  '_i9',\n",
       "  '_i90',\n",
       "  '_i91',\n",
       "  '_i92',\n",
       "  '_i93',\n",
       "  '_i94',\n",
       "  '_i95',\n",
       "  '_i96',\n",
       "  '_i97',\n",
       "  '_i98',\n",
       "  '_i99',\n",
       "  '_ih',\n",
       "  '_ii',\n",
       "  '_iii',\n",
       "  '_oh',\n",
       "  'acierto',\n",
       "  'ask_for_pwd',\n",
       "  'ask_for_pwd_with_tries',\n",
       "  'c1',\n",
       "  'exit',\n",
       "  'gcd',\n",
       "  'get_ipython',\n",
       "  'l1',\n",
       "  'l2',\n",
       "  'lista1',\n",
       "  'lista2',\n",
       "  'lista3',\n",
       "  'open',\n",
       "  'prime_decomposition',\n",
       "  'quit',\n",
       "  'r1',\n",
       "  'r2',\n",
       "  'r3',\n",
       "  'randint',\n",
       "  'str1',\n",
       "  't1',\n",
       "  't2',\n",
       "  'v1',\n",
       "  'x',\n",
       "  'x11',\n",
       "  'x12',\n",
       "  'x21',\n",
       "  'x22',\n",
       "  'z'],\n",
       " '_i135': '# listar variables\\n%who ',\n",
       " '_i136': '#Listar variables tipo y valor\\n%whos',\n",
       " '_i137': '%timeit\\nx=1',\n",
       " '_i138': '# eliminar una o varias variables\\ndel x12',\n",
       " '_i139': '%who',\n",
       " '_i140': 'lista = [1,2,3,4,5,6,7,8,9,10]',\n",
       " 'lista': [0.5714025946899135,\n",
       "  0.4288890546751146,\n",
       "  0.5780913011344704,\n",
       "  0.20609823213950174,\n",
       "  0.81332125135732,\n",
       "  0.8235888725334455,\n",
       "  0.6534725339011758,\n",
       "  0.16022955651881965,\n",
       "  0.5206693596399246,\n",
       "  0.32777281162209315,\n",
       "  0.24999667668640035,\n",
       "  0.9528169091459117,\n",
       "  0.9965569925394552,\n",
       "  0.04455638245043303,\n",
       "  0.860161037286291,\n",
       "  0.603190610968185,\n",
       "  0.3816059859191179,\n",
       "  0.28361821790671515,\n",
       "  0.674964847134956,\n",
       "  0.45683115105830563,\n",
       "  0.6858614854745947,\n",
       "  0.6618463200523511,\n",
       "  0.1329781447122128,\n",
       "  0.7678378139439905,\n",
       "  0.9824132490111909,\n",
       "  0.9693881604049188,\n",
       "  0.613326820546709,\n",
       "  0.0442606328646209,\n",
       "  0.004055144158407464,\n",
       "  0.13397252704913387,\n",
       "  0.941002271395834,\n",
       "  0.3028605620290723,\n",
       "  0.3661456016604264,\n",
       "  0.8981962445391883,\n",
       "  0.31436380495645067,\n",
       "  0.5489821840124055,\n",
       "  0.43603095762412225,\n",
       "  0.06499417612685054,\n",
       "  0.5845462257019302,\n",
       "  0.8440678976619022,\n",
       "  0.1564189183874064,\n",
       "  0.2242989686860415,\n",
       "  0.41287020771484073,\n",
       "  0.03692486905862902,\n",
       "  0.4966034986165482,\n",
       "  0.8179828644296319,\n",
       "  0.6578909387591091,\n",
       "  0.5334837356527721,\n",
       "  0.8551257407736,\n",
       "  0.14968813497140154,\n",
       "  0.5672354768631239,\n",
       "  0.3741748177480889,\n",
       "  0.6013045471136395,\n",
       "  0.11291570189443623,\n",
       "  0.7755127010728279,\n",
       "  0.09660583318435267,\n",
       "  0.16636374579324753,\n",
       "  0.8074497520247557,\n",
       "  0.9476939242234907,\n",
       "  0.4332315025514858,\n",
       "  0.41408083174830124,\n",
       "  0.24548187614075512,\n",
       "  0.274703391965577,\n",
       "  0.6172527709741663,\n",
       "  0.17846041072072527,\n",
       "  0.11948250433077712,\n",
       "  0.45573485868103825,\n",
       "  0.1649378065796322,\n",
       "  0.648724831216227,\n",
       "  0.821055674361497,\n",
       "  0.7775113893753993,\n",
       "  0.48013339022434753,\n",
       "  0.34757125622081697,\n",
       "  0.4347105489944344,\n",
       "  0.005008574909348362,\n",
       "  0.7125732007896374,\n",
       "  0.33165722263549546,\n",
       "  0.31942323776053394,\n",
       "  0.07992503242021254,\n",
       "  0.44805592600101607,\n",
       "  0.5828489673005941,\n",
       "  0.390586941842884,\n",
       "  0.8695455453974028,\n",
       "  0.6733532167485129,\n",
       "  0.2414082418108049,\n",
       "  0.5253538488765902,\n",
       "  0.9105338176465975,\n",
       "  0.5201096943214129,\n",
       "  0.6021048687389493,\n",
       "  0.06277362381152096,\n",
       "  0.48938611652176434,\n",
       "  0.4614412627964344,\n",
       "  0.4011298800689024,\n",
       "  0.4204353581465221,\n",
       "  0.5849350493343958,\n",
       "  0.5386670484231432,\n",
       "  0.4898957587909363,\n",
       "  0.16579644053220766,\n",
       "  0.4413468174535875,\n",
       "  0.9686781985609425,\n",
       "  0.4151736932178327,\n",
       "  0.035317829787831156,\n",
       "  0.002830426682370324,\n",
       "  0.5354184513162129,\n",
       "  0.05057294182209637,\n",
       "  0.09274340534219172,\n",
       "  0.10875641262696911,\n",
       "  0.4540783303488197,\n",
       "  0.9926880657637538,\n",
       "  0.48505535080507134],\n",
       " '_i141': 'lista.append(25) # Añade valor al final de la lista',\n",
       " '_i142': 'lista.pop() # Devuelve el último valor de la lista y lo elimina.',\n",
       " '_142': 25,\n",
       " '_i143': 'otra_lista = lista.copy() # Permite copiar los valores de una lista a otra.',\n",
       " 'otra_lista': [1, 2, 3, 4, 5, 6, 7, 8, 9, 10],\n",
       " '_i144': 'lista.reverse() #invierte el orden',\n",
       " '_i145': 'lista.sort() #orden la lista',\n",
       " '_i146': 'lista.clear() #elimina todos los elementos.',\n",
       " '_i147': 'from random import seed, random, randint, gauss, choice, sample',\n",
       " 'seed': <bound method Random.seed of <random.Random object at 0x15207d420>>,\n",
       " 'random': <function Random.random()>,\n",
       " 'gauss': <bound method Random.gauss of <random.Random object at 0x15207d420>>,\n",
       " 'choice': <bound method Random.choice of <random.Random object at 0x15207d420>>,\n",
       " 'sample': <bound method Random.sample of <random.Random object at 0x15207d420>>,\n",
       " '_i148': 'seed(10)\\nlista = [random() for i in range(110)]\\nprint(lista)',\n",
       " '_i149': 'suma = 0\\nfor numero in lista:\\n    suma+= numero\\nprint(suma)',\n",
       " 'suma': 51.49819082364045,\n",
       " 'numero': 0.48505535080507134,\n",
       " '_i150': 'recuento = 0\\nfor numero in lista:\\n    recuento = recuento + 1\\nprint(recuento)',\n",
       " 'recuento': <function __main__.recuento(ls1)>,\n",
       " '_i151': 'def recuento(ls1):\\n    \"\"\"Función que aceptada como entrada una lista de números y \\n    realiza la suma de sus elementos\"\"\"\\n    x = 0\\n    for i in ls1:\\n        x += 1\\n    return x',\n",
       " '_i152': 'help(recuento)',\n",
       " '_i153': 'n = recuento(lista)\\nprint(n)',\n",
       " 'n': 2,\n",
       " '_i154': 'def varianza(ls):\\n    \"\"\"Función que calcula la varianza y desviación típica de los valores de \\n    una lista de números.\"\"\"\\n    suma = 0\\n    recuento = 0\\n    for x in ls:\\n        suma += x\\n        recuento += 1\\n    media = suma / recuento\\n    \\n    var = 0\\n    for x in ls:\\n        var += (x - media)**2\\n    var = var / recuento\\n    \\n    sd = var**(1/2)\\n    \\n    return [var, sd]',\n",
       " 'varianza': <function __main__.varianza(ls)>,\n",
       " '_i155': 'varianza(lista)',\n",
       " '_155': [0.07734847071724686, 0.27811593035503535],\n",
       " '_i156': 'def factorial1(n):\\n    \"\"\"Función que calcula el factorial de un número n positivo.\"\"\"\\n    producto = 1\\n    for x in range(1,n+1):\\n        producto = producto * x\\n    return producto',\n",
       " 'factorial1': <function __main__.factorial1(n)>,\n",
       " '_i157': '%%timeit\\nfactorial1(10)',\n",
       " '_i158': 'def factorial2(n):\\n    \"\"\"funcion que calcula el factorial de un numero n de forma recursiva, n debe ser un numero positivo\"\"\"\\n    if n<0: \\n        return\\n    if n in (0,1):\\n        return 1\\n    else:\\n        return n * factorial2(n-1)',\n",
       " 'factorial2': <function __main__.factorial2(n)>,\n",
       " '_i159': '%%timeit\\nfactorial2(45)',\n",
       " '_i160': 'def es_par(x):\\n    \"\"\"devuelve si el numero es par\"\"\"\\n    return (x % 2) == 0',\n",
       " 'es_par': <function __main__.es_par(x)>,\n",
       " '_i161': 'es_par(14)',\n",
       " '_161': True,\n",
       " '_i162': 'x = [1, 1];print(x)\\ni = 1\\nx = x + [x[0] + x[1]]\\nprint(x)\\nx = x + [x[1] + x[2]]\\nprint(x)\\nx = x + [x[2] + x[3]]\\nprint(x)',\n",
       " 'i': 4,\n",
       " '_i163': 'x = [1, 1];print(x)\\ni = 1\\nx = x + [x[i-1] + x[i]]\\nprint(x)\\ni += 1\\nx = x + [x[i-1] + x[i]]\\nprint(x)\\ni += 1\\nx = x + [x[i-1] + x[i]]\\nprint(x)\\ni += 1\\nx = x + [x[i-1] + x[i]]\\nprint(x)',\n",
       " '_i164': 'x = [1, 1]\\nn = 2\\nfor i in range(1, n - 1):\\n    x = x + [x[i] + x[i-1]]\\nprint(x)',\n",
       " '_i165': 'def serie_fibonacci(n_elem):\\n    \"\"\"devuelve la secuencia de fibonacci con n_elem iteraciones\"\"\"\\n    salida = []\\n    for i in range(n_elem):\\n        salida.append(fibonacci(i+1))\\n    return salida',\n",
       " 'serie_fibonacci': <function __main__.serie_fibonacci(n_elem)>,\n",
       " '_i166': 'print(serie_fibonacci(9))',\n",
       " '_i167': 'def fibonacci(n):\\n    a, b = 0, 1\\n    for i in range(n):\\n        a, b = b, a + b\\n    return a',\n",
       " 'fibonacci': <function __main__.fibonacci(n)>,\n",
       " '_i168': 'print(serie_fibonacci(9))',\n",
       " '_i169': 'def serie_fibonacci2(n_elem=0):\\n    aux = [1, 1]\\n    if n_elem < 1:\\n        print(\"Se debe indicar como mínimo un elemento.\")\\n    elif n_elem <= 2:\\n        return aux[:n_elem]\\n    else:\\n        for i in range(2, n_elem):\\n            aux.append(sum(aux[(i-2):i]))\\n        return aux',\n",
       " 'serie_fibonacci2': <function __main__.serie_fibonacci2(n_elem=0)>,\n",
       " '_i170': '%%timeit\\nfibonacci(10)',\n",
       " '_i171': 'x11 = 24\\nx12 = int(24)\\nx21 = 33\\nx22 = float(33)\\nz = complex(x11)\\n\\nl1 = [1,2,3]\\nt1 = (4,5,6)\\nl2 = tuple(l1)\\nt2 = list(t1)\\n\\nc1 = set(l1)\\n\\nr1 = list()\\nr2 = tuple()\\nr3 = set()',\n",
       " 'x12': 24,\n",
       " '_i172': 'type(x22)',\n",
       " '_172': float,\n",
       " '_i173': 'c1',\n",
       " '_173': {1, 2, 3},\n",
       " '_i174': 'r3',\n",
       " '_174': set(),\n",
       " '_i175': 'lista1 = [1,2,3]',\n",
       " '_i176': 'lista2 = lista1',\n",
       " '_i177': 'print(lista1)\\nprint(lista2)',\n",
       " '_i178': 'lista2[1]= 99',\n",
       " '_i179': 'print(lista1)\\nprint(lista2)',\n",
       " '_i180': 'lista1.append(88)',\n",
       " '_i181': 'print(lista1)\\nprint(lista2)',\n",
       " '_i182': 'lista3 = lista1.copy()',\n",
       " '_i183': 'lista3.append(77)',\n",
       " '_i184': 'print(lista1)\\nprint(lista2)\\nprint(lista3)',\n",
       " '_i185': 'lista1.append(66)',\n",
       " '_i186': 'print(lista1)\\nprint(lista2)\\nprint(lista3)',\n",
       " '_i187': 'v1 = 99',\n",
       " '_i188': 'print(isinstance(v1, int), isinstance(v1, float)) ',\n",
       " '_i189': \"A = {'casa', 'perro', 1, 1+5j, 90, 90.0}; print(A)\\nB = {1, 3.2, 25, 90.0}; print(B)\",\n",
       " '_i190': \"# INCLUSION DE ELEMENTOS\\nprint('gato' in A)\\nprint('perro' in A)\",\n",
       " '_i191': '{1, 90} in A',\n",
       " '_191': False,\n",
       " '_i192': '# UNION DE DOS O MAS CONJUNTOS\\nprint(A | B)\\nprint(B | A)',\n",
       " '_i193': \"A | {25,6,'gato'}\",\n",
       " '_193': {(1+5j), 1, 25, 6, 90, 'casa', 'gato', 'perro'},\n",
       " '_i194': 'A.union(B)',\n",
       " '_194': {(1+5j), 1, 25, 3.2, 90, 'casa', 'perro'},\n",
       " '_i195': \"A.union((25,6,'gato'))\",\n",
       " '_195': {(1+5j), 1, 25, 6, 90, 'casa', 'gato', 'perro'},\n",
       " '_i196': '# INTERSECCIÓN DE DOS O MÁS CONJUNTOS\\nA & B',\n",
       " '_196': {1, 90.0},\n",
       " '_i197': 'B.intersection(A)',\n",
       " '_197': {1, 90.0},\n",
       " '_i198': '# DIFERENCIA DE CONJUNTOS',\n",
       " '_i199': 'A - B',\n",
       " '_199': {(1+5j), 'casa', 'perro'},\n",
       " '_i200': 'A.difference(B)',\n",
       " '_200': {(1+5j), 'casa', 'perro'},\n",
       " '_i201': '# Diferencia simétrica\\nA ^ B',\n",
       " '_201': {(1+5j), 25, 3.2, 'casa', 'perro'},\n",
       " '_i202': 'A.union(B).difference(A.intersection(B))',\n",
       " '_202': {(1+5j), 25, 3.2, 'casa', 'perro'},\n",
       " '_i203': '# Comprobación de si existen elementos en común.\\nA.isdisjoint(B)',\n",
       " '_203': False,\n",
       " '_i204': '{1, 90}.issubset(A) #inclusión de subconjuntos',\n",
       " '_204': True,\n",
       " '_i205': '{1, 90} < A',\n",
       " '_205': True,\n",
       " '_i206': '{1, 90} <= A',\n",
       " '_206': True,\n",
       " '_i207': \"str1 = 'Hablen niños ratas de las UEM'\",\n",
       " '_i208': \"str1.split('las') # Genera una lista con cada fragmento de la cadena en una posición según el separador indicado.\",\n",
       " '_208': ['Hablen niños ratas de ', ' UEM'],\n",
       " '_i209': 'print(str1.lower()) # en minúsculas\\nprint(str1.upper()) # en mayúsculas',\n",
       " '_i210': \"str1.strip(' ') # elimina el caracter indicado.\",\n",
       " '_210': 'Hablen niños ratas de las UEM',\n",
       " '_i211': 'print(str1) # parar imprimir cadenas de texto.',\n",
       " '_i212': 'len(str1) #longitud de un objeto, que tenga medida',\n",
       " '_212': 29,\n",
       " '_i213': 'globals() #listar variables'}"
      ]
     },
     "execution_count": 213,
     "metadata": {},
     "output_type": "execute_result"
    }
   ],
   "source": [
    "globals() #listar variables"
   ]
  },
  {
   "cell_type": "code",
   "execution_count": 214,
   "id": "0372790f",
   "metadata": {},
   "outputs": [
    {
     "data": {
      "text/plain": [
       "['A',\n",
       " 'B',\n",
       " 'In',\n",
       " 'Out',\n",
       " '_',\n",
       " '_111',\n",
       " '_113',\n",
       " '_114',\n",
       " '_115',\n",
       " '_116',\n",
       " '_117',\n",
       " '_119',\n",
       " '_120',\n",
       " '_121',\n",
       " '_122',\n",
       " '_123',\n",
       " '_124',\n",
       " '_125',\n",
       " '_126',\n",
       " '_128',\n",
       " '_130',\n",
       " '_132',\n",
       " '_133',\n",
       " '_134',\n",
       " '_142',\n",
       " '_155',\n",
       " '_161',\n",
       " '_172',\n",
       " '_173',\n",
       " '_174',\n",
       " '_191',\n",
       " '_193',\n",
       " '_194',\n",
       " '_195',\n",
       " '_196',\n",
       " '_197',\n",
       " '_199',\n",
       " '_20',\n",
       " '_200',\n",
       " '_201',\n",
       " '_202',\n",
       " '_203',\n",
       " '_204',\n",
       " '_205',\n",
       " '_206',\n",
       " '_208',\n",
       " '_21',\n",
       " '_210',\n",
       " '_212',\n",
       " '_213',\n",
       " '_23',\n",
       " '_25',\n",
       " '_26',\n",
       " '_27',\n",
       " '_31',\n",
       " '_50',\n",
       " '_54',\n",
       " '_55',\n",
       " '_56',\n",
       " '_58',\n",
       " '_59',\n",
       " '_60',\n",
       " '_62',\n",
       " '_63',\n",
       " '_64',\n",
       " '_65',\n",
       " '_66',\n",
       " '_68',\n",
       " '_69',\n",
       " '_70',\n",
       " '_87',\n",
       " '_90',\n",
       " '_92',\n",
       " '_93',\n",
       " '_94',\n",
       " '__',\n",
       " '___',\n",
       " '__builtin__',\n",
       " '__builtins__',\n",
       " '__doc__',\n",
       " '__loader__',\n",
       " '__name__',\n",
       " '__package__',\n",
       " '__session__',\n",
       " '__spec__',\n",
       " '_dh',\n",
       " '_i',\n",
       " '_i1',\n",
       " '_i10',\n",
       " '_i100',\n",
       " '_i101',\n",
       " '_i102',\n",
       " '_i103',\n",
       " '_i104',\n",
       " '_i105',\n",
       " '_i106',\n",
       " '_i107',\n",
       " '_i108',\n",
       " '_i109',\n",
       " '_i11',\n",
       " '_i110',\n",
       " '_i111',\n",
       " '_i112',\n",
       " '_i113',\n",
       " '_i114',\n",
       " '_i115',\n",
       " '_i116',\n",
       " '_i117',\n",
       " '_i118',\n",
       " '_i119',\n",
       " '_i12',\n",
       " '_i120',\n",
       " '_i121',\n",
       " '_i122',\n",
       " '_i123',\n",
       " '_i124',\n",
       " '_i125',\n",
       " '_i126',\n",
       " '_i127',\n",
       " '_i128',\n",
       " '_i129',\n",
       " '_i13',\n",
       " '_i130',\n",
       " '_i131',\n",
       " '_i132',\n",
       " '_i133',\n",
       " '_i134',\n",
       " '_i135',\n",
       " '_i136',\n",
       " '_i137',\n",
       " '_i138',\n",
       " '_i139',\n",
       " '_i14',\n",
       " '_i140',\n",
       " '_i141',\n",
       " '_i142',\n",
       " '_i143',\n",
       " '_i144',\n",
       " '_i145',\n",
       " '_i146',\n",
       " '_i147',\n",
       " '_i148',\n",
       " '_i149',\n",
       " '_i15',\n",
       " '_i150',\n",
       " '_i151',\n",
       " '_i152',\n",
       " '_i153',\n",
       " '_i154',\n",
       " '_i155',\n",
       " '_i156',\n",
       " '_i157',\n",
       " '_i158',\n",
       " '_i159',\n",
       " '_i16',\n",
       " '_i160',\n",
       " '_i161',\n",
       " '_i162',\n",
       " '_i163',\n",
       " '_i164',\n",
       " '_i165',\n",
       " '_i166',\n",
       " '_i167',\n",
       " '_i168',\n",
       " '_i169',\n",
       " '_i17',\n",
       " '_i170',\n",
       " '_i171',\n",
       " '_i172',\n",
       " '_i173',\n",
       " '_i174',\n",
       " '_i175',\n",
       " '_i176',\n",
       " '_i177',\n",
       " '_i178',\n",
       " '_i179',\n",
       " '_i18',\n",
       " '_i180',\n",
       " '_i181',\n",
       " '_i182',\n",
       " '_i183',\n",
       " '_i184',\n",
       " '_i185',\n",
       " '_i186',\n",
       " '_i187',\n",
       " '_i188',\n",
       " '_i189',\n",
       " '_i19',\n",
       " '_i190',\n",
       " '_i191',\n",
       " '_i192',\n",
       " '_i193',\n",
       " '_i194',\n",
       " '_i195',\n",
       " '_i196',\n",
       " '_i197',\n",
       " '_i198',\n",
       " '_i199',\n",
       " '_i2',\n",
       " '_i20',\n",
       " '_i200',\n",
       " '_i201',\n",
       " '_i202',\n",
       " '_i203',\n",
       " '_i204',\n",
       " '_i205',\n",
       " '_i206',\n",
       " '_i207',\n",
       " '_i208',\n",
       " '_i209',\n",
       " '_i21',\n",
       " '_i210',\n",
       " '_i211',\n",
       " '_i212',\n",
       " '_i213',\n",
       " '_i214',\n",
       " '_i22',\n",
       " '_i23',\n",
       " '_i24',\n",
       " '_i25',\n",
       " '_i26',\n",
       " '_i27',\n",
       " '_i28',\n",
       " '_i29',\n",
       " '_i3',\n",
       " '_i30',\n",
       " '_i31',\n",
       " '_i32',\n",
       " '_i33',\n",
       " '_i34',\n",
       " '_i35',\n",
       " '_i36',\n",
       " '_i37',\n",
       " '_i38',\n",
       " '_i39',\n",
       " '_i4',\n",
       " '_i40',\n",
       " '_i41',\n",
       " '_i42',\n",
       " '_i43',\n",
       " '_i44',\n",
       " '_i45',\n",
       " '_i46',\n",
       " '_i47',\n",
       " '_i48',\n",
       " '_i49',\n",
       " '_i5',\n",
       " '_i50',\n",
       " '_i51',\n",
       " '_i52',\n",
       " '_i53',\n",
       " '_i54',\n",
       " '_i55',\n",
       " '_i56',\n",
       " '_i57',\n",
       " '_i58',\n",
       " '_i59',\n",
       " '_i60',\n",
       " '_i61',\n",
       " '_i62',\n",
       " '_i63',\n",
       " '_i64',\n",
       " '_i65',\n",
       " '_i66',\n",
       " '_i67',\n",
       " '_i68',\n",
       " '_i69',\n",
       " '_i7',\n",
       " '_i70',\n",
       " '_i71',\n",
       " '_i72',\n",
       " '_i73',\n",
       " '_i74',\n",
       " '_i75',\n",
       " '_i76',\n",
       " '_i77',\n",
       " '_i78',\n",
       " '_i79',\n",
       " '_i8',\n",
       " '_i80',\n",
       " '_i81',\n",
       " '_i82',\n",
       " '_i83',\n",
       " '_i84',\n",
       " '_i85',\n",
       " '_i86',\n",
       " '_i87',\n",
       " '_i88',\n",
       " '_i89',\n",
       " '_i9',\n",
       " '_i90',\n",
       " '_i91',\n",
       " '_i92',\n",
       " '_i93',\n",
       " '_i94',\n",
       " '_i95',\n",
       " '_i96',\n",
       " '_i97',\n",
       " '_i98',\n",
       " '_i99',\n",
       " '_ih',\n",
       " '_ii',\n",
       " '_iii',\n",
       " '_oh',\n",
       " 'acierto',\n",
       " 'ask_for_pwd',\n",
       " 'ask_for_pwd_with_tries',\n",
       " 'c1',\n",
       " 'choice',\n",
       " 'es_par',\n",
       " 'exit',\n",
       " 'factorial1',\n",
       " 'factorial2',\n",
       " 'fibonacci',\n",
       " 'gauss',\n",
       " 'gcd',\n",
       " 'get_ipython',\n",
       " 'i',\n",
       " 'l1',\n",
       " 'l2',\n",
       " 'lista',\n",
       " 'lista1',\n",
       " 'lista2',\n",
       " 'lista3',\n",
       " 'n',\n",
       " 'numero',\n",
       " 'open',\n",
       " 'otra_lista',\n",
       " 'prime_decomposition',\n",
       " 'quit',\n",
       " 'r1',\n",
       " 'r2',\n",
       " 'r3',\n",
       " 'randint',\n",
       " 'random',\n",
       " 'recuento',\n",
       " 'sample',\n",
       " 'seed',\n",
       " 'serie_fibonacci',\n",
       " 'serie_fibonacci2',\n",
       " 'str1',\n",
       " 'suma',\n",
       " 't1',\n",
       " 't2',\n",
       " 'v1',\n",
       " 'varianza',\n",
       " 'x',\n",
       " 'x11',\n",
       " 'x12',\n",
       " 'x21',\n",
       " 'x22',\n",
       " 'z']"
      ]
     },
     "execution_count": 214,
     "metadata": {},
     "output_type": "execute_result"
    }
   ],
   "source": [
    "dir() #lista de variables"
   ]
  },
  {
   "cell_type": "markdown",
   "id": "f94c366d",
   "metadata": {},
   "source": [
    "Existen disferentes comandos _mágicos_ del notebook que nos permiten hacer otras cosas"
   ]
  },
  {
   "cell_type": "code",
   "execution_count": 215,
   "id": "15c65af2",
   "metadata": {},
   "outputs": [
    {
     "name": "stdout",
     "output_type": "stream",
     "text": [
      "A\t B\t acierto\t ask_for_pwd\t ask_for_pwd_with_tries\t c1\t choice\t es_par\t factorial1\t \n",
      "factorial2\t fibonacci\t gauss\t gcd\t i\t l1\t l2\t lista\t lista1\t \n",
      "lista2\t lista3\t n\t numero\t otra_lista\t prime_decomposition\t r1\t r2\t r3\t \n",
      "randint\t random\t recuento\t sample\t seed\t serie_fibonacci\t serie_fibonacci2\t str1\t suma\t \n",
      "t1\t t2\t v1\t varianza\t x\t x11\t x12\t x21\t x22\t \n",
      "z\t \n"
     ]
    }
   ],
   "source": [
    "# listar variables\n",
    "%who "
   ]
  },
  {
   "cell_type": "code",
   "execution_count": 216,
   "id": "c5d7070f",
   "metadata": {},
   "outputs": [
    {
     "name": "stdout",
     "output_type": "stream",
     "text": [
      "Variable                 Type                          Data/Info\n",
      "----------------------------------------------------------------\n",
      "A                        set                           {(1+5j), 1, 'casa', 'perro', 90}\n",
      "B                        set                           {1, 90.0, 3.2, 25}\n",
      "acierto                  function                      <function acierto at 0x110bdd940>\n",
      "ask_for_pwd              function                      <function ask_for_pwd at 0x110c0f1a0>\n",
      "ask_for_pwd_with_tries   function                      <function ask_for_pwd_with_tries at 0x107dc7ba0>\n",
      "c1                       set                           {1, 2, 3}\n",
      "choice                   method                        <bound method Random.choi<...>m object at 0x15207d420>>\n",
      "es_par                   function                      <function es_par at 0x108155760>\n",
      "factorial1               function                      <function factorial1 at 0x108180180>\n",
      "factorial2               function                      <function factorial2 at 0x108154ea0>\n",
      "fibonacci                function                      <function fibonacci at 0x10818f9c0>\n",
      "gauss                    method                        <bound method Random.gaus<...>m object at 0x15207d420>>\n",
      "gcd                      function                      <function gcd at 0x110bdd620>\n",
      "i                        int                           4\n",
      "l1                       list                          n=3\n",
      "l2                       tuple                         n=3\n",
      "lista                    list                          n=110\n",
      "lista1                   list                          n=5\n",
      "lista2                   list                          n=5\n",
      "lista3                   list                          n=5\n",
      "n                        int                           2\n",
      "numero                   float                         0.48505535080507134\n",
      "otra_lista               list                          n=10\n",
      "prime_decomposition      function                      <function prime_decomposition at 0x110c0e520>\n",
      "r1                       list                          n=0\n",
      "r2                       tuple                         n=0\n",
      "r3                       set                           set()\n",
      "randint                  method                        <bound method Random.rand<...>m object at 0x15207d420>>\n",
      "random                   builtin_function_or_method    <built-in method random o<...>om object at 0x15207d420>\n",
      "recuento                 function                      <function recuento at 0x1081542c0>\n",
      "sample                   method                        <bound method Random.samp<...>m object at 0x15207d420>>\n",
      "seed                     method                        <bound method Random.seed<...>m object at 0x15207d420>>\n",
      "serie_fibonacci          function                      <function serie_fibonacci at 0x108156700>\n",
      "serie_fibonacci2         function                      <function serie_fibonacci2 at 0x10818f4c0>\n",
      "str1                     str                           Hablen niños ratas de las UEM\n",
      "suma                     float                         51.49819082364045\n",
      "t1                       tuple                         n=3\n",
      "t2                       list                          n=3\n",
      "v1                       int                           99\n",
      "varianza                 function                      <function varianza at 0x108180cc0>\n",
      "x                        list                          n=2\n",
      "x11                      int                           24\n",
      "x12                      int                           24\n",
      "x21                      int                           33\n",
      "x22                      float                         33.0\n",
      "z                        complex                       (24+0j)\n"
     ]
    }
   ],
   "source": [
    "#Listar variables tipo y valor\n",
    "%whos"
   ]
  },
  {
   "cell_type": "code",
   "execution_count": 217,
   "id": "c0489500",
   "metadata": {},
   "outputs": [],
   "source": [
    "%timeit\n",
    "x=1"
   ]
  },
  {
   "cell_type": "code",
   "execution_count": 218,
   "id": "d557d888",
   "metadata": {},
   "outputs": [],
   "source": [
    "# eliminar una o varias variables\n",
    "del x12"
   ]
  },
  {
   "cell_type": "code",
   "execution_count": 219,
   "id": "8c93146e",
   "metadata": {},
   "outputs": [
    {
     "name": "stdout",
     "output_type": "stream",
     "text": [
      "A\t B\t acierto\t ask_for_pwd\t ask_for_pwd_with_tries\t c1\t choice\t es_par\t factorial1\t \n",
      "factorial2\t fibonacci\t gauss\t gcd\t i\t l1\t l2\t lista\t lista1\t \n",
      "lista2\t lista3\t n\t numero\t otra_lista\t prime_decomposition\t r1\t r2\t r3\t \n",
      "randint\t random\t recuento\t sample\t seed\t serie_fibonacci\t serie_fibonacci2\t str1\t suma\t \n",
      "t1\t t2\t v1\t varianza\t x\t x11\t x21\t x22\t z\t \n",
      "\n"
     ]
    }
   ],
   "source": [
    "%who"
   ]
  },
  {
   "cell_type": "markdown",
   "id": "c73bdf8e",
   "metadata": {},
   "source": [
    "#### Algunos métodos de las listas"
   ]
  },
  {
   "cell_type": "code",
   "execution_count": 220,
   "id": "02aa94e2",
   "metadata": {},
   "outputs": [],
   "source": [
    "lista = [1,2,3,4,5,6,7,8,9,10]"
   ]
  },
  {
   "cell_type": "code",
   "execution_count": 221,
   "id": "4e5926d4",
   "metadata": {},
   "outputs": [],
   "source": [
    "lista.append(25) # Añade valor al final de la lista"
   ]
  },
  {
   "cell_type": "code",
   "execution_count": 222,
   "id": "0213e2a1",
   "metadata": {},
   "outputs": [
    {
     "data": {
      "text/plain": [
       "25"
      ]
     },
     "execution_count": 222,
     "metadata": {},
     "output_type": "execute_result"
    }
   ],
   "source": [
    "lista.pop() # Devuelve el último valor de la lista y lo elimina."
   ]
  },
  {
   "cell_type": "code",
   "execution_count": 223,
   "id": "c2830062",
   "metadata": {},
   "outputs": [],
   "source": [
    "otra_lista = lista.copy() # Permite copiar los valores de una lista a otra."
   ]
  },
  {
   "cell_type": "code",
   "execution_count": 224,
   "id": "6529879d",
   "metadata": {},
   "outputs": [],
   "source": [
    "lista.reverse() #invierte el orden"
   ]
  },
  {
   "cell_type": "code",
   "execution_count": 225,
   "id": "e236dc5c",
   "metadata": {},
   "outputs": [],
   "source": [
    "lista.sort() #orden la lista"
   ]
  },
  {
   "cell_type": "code",
   "execution_count": 226,
   "id": "11f5c45b",
   "metadata": {},
   "outputs": [],
   "source": [
    "lista.clear() #elimina todos los elementos."
   ]
  },
  {
   "cell_type": "markdown",
   "id": "61fcd75d",
   "metadata": {},
   "source": [
    "# Ejercicios"
   ]
  },
  {
   "cell_type": "code",
   "execution_count": 227,
   "id": "b3ae26c1",
   "metadata": {},
   "outputs": [],
   "source": [
    "from random import seed, random, randint, gauss, choice, sample"
   ]
  },
  {
   "cell_type": "code",
   "execution_count": 228,
   "id": "72c1bba7",
   "metadata": {},
   "outputs": [
    {
     "name": "stdout",
     "output_type": "stream",
     "text": [
      "[0.5714025946899135, 0.4288890546751146, 0.5780913011344704, 0.20609823213950174, 0.81332125135732, 0.8235888725334455, 0.6534725339011758, 0.16022955651881965, 0.5206693596399246, 0.32777281162209315, 0.24999667668640035, 0.9528169091459117, 0.9965569925394552, 0.04455638245043303, 0.860161037286291, 0.603190610968185, 0.3816059859191179, 0.28361821790671515, 0.674964847134956, 0.45683115105830563, 0.6858614854745947, 0.6618463200523511, 0.1329781447122128, 0.7678378139439905, 0.9824132490111909, 0.9693881604049188, 0.613326820546709, 0.0442606328646209, 0.004055144158407464, 0.13397252704913387, 0.941002271395834, 0.3028605620290723, 0.3661456016604264, 0.8981962445391883, 0.31436380495645067, 0.5489821840124055, 0.43603095762412225, 0.06499417612685054, 0.5845462257019302, 0.8440678976619022, 0.1564189183874064, 0.2242989686860415, 0.41287020771484073, 0.03692486905862902, 0.4966034986165482, 0.8179828644296319, 0.6578909387591091, 0.5334837356527721, 0.8551257407736, 0.14968813497140154, 0.5672354768631239, 0.3741748177480889, 0.6013045471136395, 0.11291570189443623, 0.7755127010728279, 0.09660583318435267, 0.16636374579324753, 0.8074497520247557, 0.9476939242234907, 0.4332315025514858, 0.41408083174830124, 0.24548187614075512, 0.274703391965577, 0.6172527709741663, 0.17846041072072527, 0.11948250433077712, 0.45573485868103825, 0.1649378065796322, 0.648724831216227, 0.821055674361497, 0.7775113893753993, 0.48013339022434753, 0.34757125622081697, 0.4347105489944344, 0.005008574909348362, 0.7125732007896374, 0.33165722263549546, 0.31942323776053394, 0.07992503242021254, 0.44805592600101607, 0.5828489673005941, 0.390586941842884, 0.8695455453974028, 0.6733532167485129, 0.2414082418108049, 0.5253538488765902, 0.9105338176465975, 0.5201096943214129, 0.6021048687389493, 0.06277362381152096, 0.48938611652176434, 0.4614412627964344, 0.4011298800689024, 0.4204353581465221, 0.5849350493343958, 0.5386670484231432, 0.4898957587909363, 0.16579644053220766, 0.4413468174535875, 0.9686781985609425, 0.4151736932178327, 0.035317829787831156, 0.002830426682370324, 0.5354184513162129, 0.05057294182209637, 0.09274340534219172, 0.10875641262696911, 0.4540783303488197, 0.9926880657637538, 0.48505535080507134]\n"
     ]
    }
   ],
   "source": [
    "seed(10)\n",
    "lista = [random() for i in range(110)]\n",
    "print(lista)"
   ]
  },
  {
   "cell_type": "markdown",
   "id": "65b6aa1e",
   "metadata": {},
   "source": [
    "### Suma de los elementos de una lista"
   ]
  },
  {
   "cell_type": "code",
   "execution_count": 229,
   "id": "72562a98",
   "metadata": {},
   "outputs": [
    {
     "name": "stdout",
     "output_type": "stream",
     "text": [
      "51.49819082364045\n"
     ]
    }
   ],
   "source": [
    "suma = 0\n",
    "for numero in lista:\n",
    "    suma+= numero\n",
    "print(suma)\n"
   ]
  },
  {
   "cell_type": "markdown",
   "id": "859e60e1",
   "metadata": {},
   "source": [
    "### Recuento de los elementos de una lista"
   ]
  },
  {
   "cell_type": "code",
   "execution_count": 230,
   "id": "8fcfaaee",
   "metadata": {},
   "outputs": [
    {
     "name": "stdout",
     "output_type": "stream",
     "text": [
      "110\n"
     ]
    }
   ],
   "source": [
    "recuento = 0\n",
    "for numero in lista:\n",
    "    recuento = recuento + 1\n",
    "print(recuento)"
   ]
  },
  {
   "cell_type": "code",
   "execution_count": 231,
   "id": "ae768438",
   "metadata": {},
   "outputs": [],
   "source": [
    "def recuento(ls1):\n",
    "    \"\"\"Función que aceptada como entrada una lista de números y \n",
    "    realiza la suma de sus elementos\"\"\"\n",
    "    x = 0\n",
    "    for i in ls1:\n",
    "        x += 1\n",
    "    return x"
   ]
  },
  {
   "cell_type": "code",
   "execution_count": 232,
   "id": "6291c6af",
   "metadata": {},
   "outputs": [
    {
     "name": "stdout",
     "output_type": "stream",
     "text": [
      "Help on function recuento in module __main__:\n",
      "\n",
      "recuento(ls1)\n",
      "    Función que aceptada como entrada una lista de números y \n",
      "    realiza la suma de sus elementos\n",
      "\n"
     ]
    }
   ],
   "source": [
    "help(recuento)"
   ]
  },
  {
   "cell_type": "code",
   "execution_count": 233,
   "id": "17ec775b",
   "metadata": {},
   "outputs": [
    {
     "name": "stdout",
     "output_type": "stream",
     "text": [
      "110\n"
     ]
    }
   ],
   "source": [
    "n = recuento(lista)\n",
    "print(n)"
   ]
  },
  {
   "cell_type": "markdown",
   "id": "05d92aff",
   "metadata": {},
   "source": [
    "### Programa una función que devuelva la varianza y desviación típica de los valores de una lista\n",
    "$$S^2=\\frac{1}{n}\\sum_{i=1}^n (x_i - \\bar{x})^2$$"
   ]
  },
  {
   "cell_type": "code",
   "execution_count": 234,
   "id": "2a7b2dd8",
   "metadata": {},
   "outputs": [],
   "source": [
    "def varianza(ls):\n",
    "    \"\"\"Función que calcula la varianza y desviación típica de los valores de \n",
    "    una lista de números.\"\"\"\n",
    "    suma = 0\n",
    "    recuento = 0\n",
    "    for x in ls:\n",
    "        suma += x\n",
    "        recuento += 1\n",
    "    media = suma / recuento\n",
    "    \n",
    "    var = 0\n",
    "    for x in ls:\n",
    "        var += (x - media)**2\n",
    "    var = var / recuento\n",
    "    \n",
    "    sd = var**(1/2)\n",
    "    \n",
    "    return [var, sd]"
   ]
  },
  {
   "cell_type": "code",
   "execution_count": 235,
   "id": "a3a55898",
   "metadata": {},
   "outputs": [
    {
     "data": {
      "text/plain": [
       "[0.07734847071724686, 0.27811593035503535]"
      ]
     },
     "execution_count": 235,
     "metadata": {},
     "output_type": "execute_result"
    }
   ],
   "source": [
    "varianza(lista)"
   ]
  },
  {
   "cell_type": "markdown",
   "id": "960aaf95",
   "metadata": {},
   "source": [
    "### Factorial de un número\n",
    "\n",
    "$$n!=1\\cdot 2\\cdot...\\cdot (n-1)\\cdot n = n\\cdot (n-1)!$$"
   ]
  },
  {
   "cell_type": "code",
   "execution_count": 236,
   "id": "56db99cc",
   "metadata": {},
   "outputs": [],
   "source": [
    "def factorial1(n):\n",
    "    \"\"\"Función que calcula el factorial de un número n positivo.\"\"\"\n",
    "    producto = 1\n",
    "    for x in range(1,n+1):\n",
    "        producto = producto * x\n",
    "    return producto"
   ]
  },
  {
   "cell_type": "code",
   "execution_count": 237,
   "id": "051eb8a9",
   "metadata": {},
   "outputs": [
    {
     "name": "stdout",
     "output_type": "stream",
     "text": [
      "273 ns ± 3.22 ns per loop (mean ± std. dev. of 7 runs, 1,000,000 loops each)\n"
     ]
    }
   ],
   "source": [
    "%%timeit\n",
    "factorial1(10)"
   ]
  },
  {
   "cell_type": "code",
   "execution_count": 238,
   "id": "6cc35b43",
   "metadata": {},
   "outputs": [],
   "source": [
    "def factorial2(n):\n",
    "    \"\"\"funcion que calcula el factorial de un numero n de forma recursiva, n debe ser un numero positivo\"\"\"\n",
    "    if n<0: \n",
    "        return\n",
    "    if n in (0,1):\n",
    "        return 1\n",
    "    else:\n",
    "        return n * factorial2(n-1)"
   ]
  },
  {
   "cell_type": "code",
   "execution_count": 239,
   "id": "be225cdd",
   "metadata": {},
   "outputs": [
    {
     "name": "stdout",
     "output_type": "stream",
     "text": [
      "2.84 µs ± 28.7 ns per loop (mean ± std. dev. of 7 runs, 100,000 loops each)\n"
     ]
    }
   ],
   "source": [
    "%%timeit\n",
    "factorial2(45)"
   ]
  },
  {
   "cell_type": "markdown",
   "id": "ff9b7c42",
   "metadata": {},
   "source": [
    "### Programa una función que compruebe si un número es par"
   ]
  },
  {
   "cell_type": "code",
   "execution_count": 240,
   "id": "1e627b55",
   "metadata": {},
   "outputs": [],
   "source": [
    "def es_par(x):\n",
    "    \"\"\"devuelve si el numero es par\"\"\"\n",
    "    return (x % 2) == 0"
   ]
  },
  {
   "cell_type": "code",
   "execution_count": 241,
   "id": "2b506dd5",
   "metadata": {},
   "outputs": [
    {
     "data": {
      "text/plain": [
       "True"
      ]
     },
     "execution_count": 241,
     "metadata": {},
     "output_type": "execute_result"
    }
   ],
   "source": [
    "es_par(14)"
   ]
  },
  {
   "cell_type": "markdown",
   "id": "38381873",
   "metadata": {},
   "source": [
    "# Serie de Fibonacci\n",
    "\n",
    "La secuencia de Fibonacci se define como $X_n = X_{n-1} + X_{n-2}$ con $X_0 = 0$ y $X_1 = 1$.\n",
    "\n",
    "Definamos una función que nos calcule el valor de la serie hasta un valor n.\n",
    "0, 1, 1, 2, 3, 5, 8, 13, 21,..."
   ]
  },
  {
   "cell_type": "code",
   "execution_count": 242,
   "id": "cd3a1ed7",
   "metadata": {},
   "outputs": [
    {
     "name": "stdout",
     "output_type": "stream",
     "text": [
      "[1, 1]\n",
      "[1, 1, 2]\n",
      "[1, 1, 2, 3]\n",
      "[1, 1, 2, 3, 5]\n"
     ]
    }
   ],
   "source": [
    "x = [1, 1];print(x)\n",
    "i = 1\n",
    "x = x + [x[0] + x[1]]\n",
    "print(x)\n",
    "x = x + [x[1] + x[2]]\n",
    "print(x)\n",
    "x = x + [x[2] + x[3]]\n",
    "print(x)"
   ]
  },
  {
   "cell_type": "code",
   "execution_count": 243,
   "id": "2f56f8f3",
   "metadata": {},
   "outputs": [
    {
     "name": "stdout",
     "output_type": "stream",
     "text": [
      "[1, 1]\n",
      "[1, 1, 2]\n",
      "[1, 1, 2, 3]\n",
      "[1, 1, 2, 3, 5]\n",
      "[1, 1, 2, 3, 5, 8]\n"
     ]
    }
   ],
   "source": [
    "x = [1, 1];print(x)\n",
    "i = 1\n",
    "x = x + [x[i-1] + x[i]]\n",
    "print(x)\n",
    "i += 1\n",
    "x = x + [x[i-1] + x[i]]\n",
    "print(x)\n",
    "i += 1\n",
    "x = x + [x[i-1] + x[i]]\n",
    "print(x)\n",
    "i += 1\n",
    "x = x + [x[i-1] + x[i]]\n",
    "print(x)"
   ]
  },
  {
   "cell_type": "code",
   "execution_count": 244,
   "id": "5c0574d2",
   "metadata": {},
   "outputs": [
    {
     "name": "stdout",
     "output_type": "stream",
     "text": [
      "[1, 1]\n"
     ]
    }
   ],
   "source": [
    "x = [1, 1]\n",
    "n = 2\n",
    "for i in range(1, n - 1):\n",
    "    x = x + [x[i] + x[i-1]]\n",
    "print(x)"
   ]
  },
  {
   "cell_type": "code",
   "execution_count": 245,
   "id": "bf71975c",
   "metadata": {},
   "outputs": [],
   "source": [
    "def serie_fibonacci(n_elem):\n",
    "    \"\"\"devuelve la secuencia de fibonacci con n_elem iteraciones\"\"\"\n",
    "    salida = []\n",
    "    for i in range(n_elem):\n",
    "        salida.append(fibonacci(i+1))\n",
    "    return salida"
   ]
  },
  {
   "cell_type": "code",
   "execution_count": 246,
   "id": "9dc6dce7",
   "metadata": {},
   "outputs": [],
   "source": [
    "def fibonacci(n):\n",
    "    a, b = 0, 1\n",
    "    for i in range(n):\n",
    "        a, b = b, a + b\n",
    "    return a"
   ]
  },
  {
   "cell_type": "code",
   "execution_count": 247,
   "id": "55802e58",
   "metadata": {},
   "outputs": [
    {
     "name": "stdout",
     "output_type": "stream",
     "text": [
      "[1, 1, 2, 3, 5, 8, 13, 21, 34]\n"
     ]
    }
   ],
   "source": [
    "print(serie_fibonacci(9))"
   ]
  },
  {
   "cell_type": "code",
   "execution_count": 248,
   "id": "21f14d82",
   "metadata": {},
   "outputs": [],
   "source": [
    "def serie_fibonacci2(n_elem=0):\n",
    "    aux = [1, 1]\n",
    "    if n_elem < 1:\n",
    "        print(\"Se debe indicar como mínimo un elemento.\")\n",
    "    elif n_elem <= 2:\n",
    "        return aux[:n_elem]\n",
    "    else:\n",
    "        for i in range(2, n_elem):\n",
    "            aux.append(sum(aux[(i-2):i]))\n",
    "        return aux"
   ]
  },
  {
   "cell_type": "markdown",
   "id": "84af9562",
   "metadata": {},
   "source": [
    "No ha sido muy complicado, pero hay otra forma de realizar su definición:"
   ]
  },
  {
   "cell_type": "code",
   "execution_count": 249,
   "id": "ff3701f7-f1e5-4b37-a8cc-95d6a8c3045b",
   "metadata": {},
   "outputs": [
    {
     "name": "stdout",
     "output_type": "stream",
     "text": [
      "261 ns ± 2.92 ns per loop (mean ± std. dev. of 7 runs, 1,000,000 loops each)\n"
     ]
    }
   ],
   "source": [
    "%%timeit\n",
    "fibonacci(10)"
   ]
  },
  {
   "cell_type": "code",
   "execution_count": 250,
   "id": "2abecf08",
   "metadata": {},
   "outputs": [],
   "source": [
    "def fibonacci_rec(n):\n",
    "    if n == 0:\n",
    "        resultado = 0\n",
    "    elif n == 1:\n",
    "        resultado = 1\n",
    "    else:\n",
    "        resultado = fibonacci_rec(n - 1) + fibonacci_rec(n - 2)\n",
    "    return resultado"
   ]
  },
  {
   "cell_type": "markdown",
   "id": "70797d2b",
   "metadata": {},
   "source": [
    "Como podemos ver para definir la función estamos haciendo uso de ella misma, esto es la recursión.\n",
    "\n",
    "¿cuál de las dos crees que es más rápida?\n",
    "\n",
    "<div class=\"alert alert-success\"><b>Consejo:</b> \n",
    "    \n",
    "Explora los operadores mágicos `%%time` y `%%timeit`, recuerda que debes ponerlo al principio de la celda.\n",
    "</div>\n",
    "\n",
    "Prueba a definir una función que calcule el factorial de un número natural de forma recursiva y no recursiva."
   ]
  },
  {
   "cell_type": "code",
   "execution_count": 251,
   "id": "975b0242",
   "metadata": {},
   "outputs": [
    {
     "name": "stdout",
     "output_type": "stream",
     "text": [
      "262 ns ± 1.81 ns per loop (mean ± std. dev. of 7 runs, 1,000,000 loops each)\n"
     ]
    }
   ],
   "source": [
    "%%timeit\n",
    "fibonacci(10)"
   ]
  },
  {
   "cell_type": "code",
   "execution_count": 252,
   "id": "dd599d47",
   "metadata": {},
   "outputs": [
    {
     "name": "stdout",
     "output_type": "stream",
     "text": [
      "8.17 µs ± 187 ns per loop (mean ± std. dev. of 7 runs, 100,000 loops each)\n"
     ]
    }
   ],
   "source": [
    "%%timeit\n",
    "fibonacci_rec(10)"
   ]
  },
  {
   "cell_type": "markdown",
   "id": "d09066e6",
   "metadata": {},
   "source": [
    "### Programa una función que aproxime al número $\\pi$ hasta cierta precisión `eps` utilizando el bucle `while` y la siguiente expresión.\n",
    "\n",
    "$$\\pi = \\sum_{k=0}^{\\infty}\\frac{2(-1)^k3^{\\frac{1}{2}-k}}{2k+1}$$\n",
    "\n",
    "$$\\frac{\\pi}{4}=\\sum_{n=0}^{\\infty}\\frac{(-1)^n}{2n+1}$$"
   ]
  },
  {
   "cell_type": "code",
   "execution_count": 254,
   "id": "239f42fc",
   "metadata": {},
   "outputs": [],
   "source": [
    "#2 * ((-1) ** k) * (3 ** (1 / 2 - k)) / (2 * k + 1)"
   ]
  },
  {
   "cell_type": "code",
   "execution_count": 255,
   "id": "032581ec",
   "metadata": {},
   "outputs": [
    {
     "name": "stdout",
     "output_type": "stream",
     "text": [
      "3.14159051093808\n"
     ]
    }
   ],
   "source": [
    "pi = 0\n",
    "for k in range(10):\n",
    "    pi += 2 * ((-1) ** k) * (3 ** (1 / 2 - k)) / (2 * k + 1)\n",
    "\n",
    "print(pi)"
   ]
  },
  {
   "cell_type": "code",
   "execution_count": 256,
   "id": "bb6fac11",
   "metadata": {},
   "outputs": [],
   "source": [
    "def aproxima_pi(eps):\n",
    "    \"\"\"funcion que devuelve una aproximacion del numero pi hasta eps niveles de precision\"\"\"\n",
    "    pi = 0\n",
    "    k = 0\n",
    "    while (k <= eps):\n",
    "        pi += 2 * ((-1) ** k) * (3 ** (1 / 2 - k)) / (2 * k + 1)\n",
    "        print(\"paso {:d}: {:f} \".format(k,pi))\n",
    "        k += 1\n",
    "        \n",
    "    return pi"
   ]
  },
  {
   "cell_type": "code",
   "execution_count": 257,
   "id": "ab685f52",
   "metadata": {},
   "outputs": [
    {
     "name": "stdout",
     "output_type": "stream",
     "text": [
      "paso 0: 3.464102 \n",
      "paso 1: 3.079201 \n",
      "paso 2: 3.156181 \n",
      "paso 3: 3.137853 \n",
      "paso 4: 3.142605 \n",
      "paso 5: 3.141309 \n",
      "paso 6: 3.141674 \n",
      "paso 7: 3.141569 \n",
      "paso 8: 3.141600 \n"
     ]
    },
    {
     "data": {
      "text/plain": [
       "3.141599773811506"
      ]
     },
     "execution_count": 257,
     "metadata": {},
     "output_type": "execute_result"
    }
   ],
   "source": [
    "aproxima_pi(8)"
   ]
  },
  {
   "cell_type": "code",
   "execution_count": null,
   "id": "27b49d69",
   "metadata": {},
   "outputs": [],
   "source": []
  },
  {
   "cell_type": "markdown",
   "id": "420ad51e",
   "metadata": {},
   "source": [
    "## Programa una función que dado un número lo multiplique por 2."
   ]
  },
  {
   "cell_type": "code",
   "execution_count": 258,
   "id": "1c23d6cb",
   "metadata": {},
   "outputs": [],
   "source": [
    "def por_dos(x):\n",
    "    \"\"\"devuelve el doble del numero x\"\"\"\n",
    "    return 2*x"
   ]
  },
  {
   "cell_type": "code",
   "execution_count": 259,
   "id": "81bb751e",
   "metadata": {},
   "outputs": [
    {
     "data": {
      "text/plain": [
       "7.4"
      ]
     },
     "execution_count": 259,
     "metadata": {},
     "output_type": "execute_result"
    }
   ],
   "source": [
    "por_dos(3.7)"
   ]
  },
  {
   "cell_type": "markdown",
   "id": "72a71bb5",
   "metadata": {},
   "source": [
    "## Programa una función que dados dos números proporcione su suma y su producto."
   ]
  },
  {
   "cell_type": "code",
   "execution_count": 260,
   "id": "a36c0f3e",
   "metadata": {},
   "outputs": [],
   "source": [
    "def sum_prod(a,b):\n",
    "    \"\"\"funcion que devuelve la suma y el producto en un diccionario de los numeros a y b\"\"\"\n",
    "    return {\"suma\":a+b,\"producto\":a*b}"
   ]
  },
  {
   "cell_type": "code",
   "execution_count": 261,
   "id": "e7cbbfcb-a31e-4457-9450-5f8fd4e1629a",
   "metadata": {},
   "outputs": [
    {
     "name": "stdout",
     "output_type": "stream",
     "text": [
      "{'suma': 3, 'producto': 2}\n"
     ]
    }
   ],
   "source": [
    "print(sum_prod(1,2))"
   ]
  },
  {
   "cell_type": "code",
   "execution_count": 262,
   "id": "416ec650-70a4-4933-a918-af474112dc8a",
   "metadata": {},
   "outputs": [
    {
     "name": "stdout",
     "output_type": "stream",
     "text": [
      "{'suma': 6, 'producto': 8}\n"
     ]
    }
   ],
   "source": [
    "print(sum_prod(2,4))"
   ]
  },
  {
   "cell_type": "markdown",
   "id": "d16e4732",
   "metadata": {},
   "source": [
    "## Programa una función que calcule el área y perímetro de un rectángulo dado los dos lados"
   ]
  },
  {
   "cell_type": "code",
   "execution_count": 263,
   "id": "f121283f",
   "metadata": {},
   "outputs": [],
   "source": [
    "def operacion(lado1=1, lado2=1):\n",
    "    area = lado1 * lado2\n",
    "    perimetro = 2 * (lado1 + lado2)\n",
    "    return [area, perimetro]"
   ]
  },
  {
   "cell_type": "markdown",
   "id": "dedb1eed",
   "metadata": {},
   "source": [
    "## Programa una función que calcula el área y perímetro de una circunferenica dado el radio. Como salida debe proporcionar un diccionario."
   ]
  },
  {
   "cell_type": "code",
   "execution_count": 264,
   "id": "70262d06",
   "metadata": {},
   "outputs": [
    {
     "data": {
      "text/plain": [
       "3.141592653589793"
      ]
     },
     "execution_count": 264,
     "metadata": {},
     "output_type": "execute_result"
    }
   ],
   "source": [
    "import math\n",
    "\n",
    "math.pi"
   ]
  },
  {
   "cell_type": "code",
   "execution_count": 265,
   "id": "0d87bbfa",
   "metadata": {},
   "outputs": [],
   "source": [
    "def g(radio):\n",
    "    area = math.pi * (radio ** 2)\n",
    "    perimetro = math.pi * radio * 2\n",
    "    return {'area':area, 'perimetro':perimetro}"
   ]
  },
  {
   "cell_type": "code",
   "execution_count": 266,
   "id": "d9d01b98",
   "metadata": {},
   "outputs": [],
   "source": [
    "x = g(1)"
   ]
  },
  {
   "cell_type": "code",
   "execution_count": 267,
   "id": "6dbe22ad",
   "metadata": {},
   "outputs": [
    {
     "data": {
      "text/plain": [
       "6.283185307179586"
      ]
     },
     "execution_count": 267,
     "metadata": {},
     "output_type": "execute_result"
    }
   ],
   "source": [
    "x['perimetro']"
   ]
  },
  {
   "cell_type": "markdown",
   "id": "336f25e1",
   "metadata": {},
   "source": [
    "## Programa una función que dado un número proporcione su tabla de multiplicar."
   ]
  },
  {
   "cell_type": "code",
   "execution_count": 268,
   "id": "2678e6f8",
   "metadata": {},
   "outputs": [],
   "source": [
    "def get_tabla(x):\n",
    "    out=[]\n",
    "    for i in range(1,11):\n",
    "        out.append(x*i)\n",
    "    return out"
   ]
  },
  {
   "cell_type": "code",
   "execution_count": 269,
   "id": "27fd8965-c637-4b25-9430-f3ac90b92bf7",
   "metadata": {},
   "outputs": [],
   "source": [
    "def get_tabla_hasta(x,l):\n",
    "    out=[]\n",
    "    for i in range(1,l+1):\n",
    "        out.append(i*x)\n",
    "    return out"
   ]
  },
  {
   "cell_type": "code",
   "execution_count": 270,
   "id": "0019b4a8-d231-40da-9a45-bc82b902f783",
   "metadata": {},
   "outputs": [
    {
     "name": "stdout",
     "output_type": "stream",
     "text": [
      "[6, 12, 18, 24, 30, 36, 42, 48, 54, 60]\n"
     ]
    }
   ],
   "source": [
    "print(get_tabla(6))"
   ]
  },
  {
   "cell_type": "markdown",
   "id": "fc283a70",
   "metadata": {},
   "source": [
    "## Programa una función que transforme grados Celsius a grados Fahrenheit $$F=\\frac{9}{5}C+32$$"
   ]
  },
  {
   "cell_type": "code",
   "execution_count": 271,
   "id": "92c166b4",
   "metadata": {},
   "outputs": [],
   "source": [
    "def grados(C):\n",
    "    \"\"\"convierte el numero ingresado C a su equivalente en grados Fahrenheit\"\"\"\n",
    "    return (9/5) * C + 32"
   ]
  },
  {
   "cell_type": "code",
   "execution_count": 272,
   "id": "c3c952cc",
   "metadata": {},
   "outputs": [
    {
     "data": {
      "text/plain": [
       "82.4"
      ]
     },
     "execution_count": 272,
     "metadata": {},
     "output_type": "execute_result"
    }
   ],
   "source": [
    "grados(28)"
   ]
  },
  {
   "cell_type": "markdown",
   "id": "d969f908",
   "metadata": {},
   "source": [
    "## Utilizando la función anterior crea un programa que proporcione una tabla de conversión de 0ºC a 100ºC de 10 en 10."
   ]
  },
  {
   "cell_type": "code",
   "execution_count": 273,
   "id": "8c044d84",
   "metadata": {},
   "outputs": [
    {
     "name": "stdout",
     "output_type": "stream",
     "text": [
      "0°C: 32.0°F\n",
      "10°C: 50.0°F\n",
      "20°C: 68.0°F\n",
      "30°C: 86.0°F\n",
      "40°C: 104.0°F\n",
      "50°C: 122.0°F\n",
      "60°C: 140.0°F\n",
      "70°C: 158.0°F\n",
      "80°C: 176.0°F\n",
      "90°C: 194.0°F\n",
      "100°C: 212.0°F\n"
     ]
    }
   ],
   "source": [
    "for objeto in range(0, 101, 10):\n",
    "    print(f\"{objeto}°C: {grados(objeto)}°F\")"
   ]
  },
  {
   "cell_type": "markdown",
   "id": "d7aed536",
   "metadata": {},
   "source": [
    "## Escribe un programa que reciba un número $n$ por parámetro e imprima los primeros $n$ números triangulares, junto con su índice. Los números triangulares se obtienen mediante la suma de los números naturales desde 1 hasta $n$.\n",
    "\n",
    "## Hazlo usando y sin usar la fórmula $\\sum_{i=1}^n i=n(n+1)/2$.\n",
    "¿hay diferencia en el tiempo de ejecución?"
   ]
  },
  {
   "cell_type": "code",
   "execution_count": 274,
   "id": "36fc7ab2",
   "metadata": {},
   "outputs": [],
   "source": [
    "def get_triangulos_formula(n):\n",
    "    \"\"\"devuelve todos los numeros triangulares desde lado 1 hasta lado n\"\"\"\n",
    "    for i in range(1,n+1): \n",
    "        print(f\"lado {i}: {int((i*(i+1))/2)}\")"
   ]
  },
  {
   "cell_type": "code",
   "execution_count": 275,
   "id": "aac9225d-5401-433d-9324-dd0e7a156b2d",
   "metadata": {},
   "outputs": [
    {
     "name": "stdout",
     "output_type": "stream",
     "text": [
      "lado 1: 1\n",
      "lado 2: 3\n",
      "lado 3: 6\n",
      "lado 4: 10\n",
      "lado 5: 15\n",
      "lado 6: 21\n"
     ]
    }
   ],
   "source": [
    "get_triangulos_formula(6)"
   ]
  },
  {
   "cell_type": "code",
   "execution_count": 276,
   "id": "4b7c6113-c6a7-47ef-abc1-4648d7161868",
   "metadata": {},
   "outputs": [],
   "source": [
    "def no_formula(n):\n",
    "    \"\"\"devuelve todos los numeros triangulares desde lado 1 hasta lado n\"\"\"\n",
    "    for i in range(1,n+1): \n",
    "        suma=0\n",
    "        for j in range(i+1):\n",
    "            suma+=j\n",
    "        print(suma)"
   ]
  },
  {
   "cell_type": "code",
   "execution_count": 277,
   "id": "7e2626f1-2d0c-4267-8edf-7dc6b99cc1a6",
   "metadata": {},
   "outputs": [
    {
     "name": "stdout",
     "output_type": "stream",
     "text": [
      "1\n",
      "3\n",
      "6\n",
      "10\n",
      "15\n",
      "21\n"
     ]
    }
   ],
   "source": [
    "no_formula(6)"
   ]
  },
  {
   "cell_type": "markdown",
   "id": "d21866f1",
   "metadata": {},
   "source": [
    "## Escribe un programa que imprima todas las fichas de dominó (una por línea) sin repetir."
   ]
  },
  {
   "cell_type": "code",
   "execution_count": 278,
   "id": "ece4a4aa",
   "metadata": {},
   "outputs": [],
   "source": [
    "def get_dominos():\n",
    "    \"\"\"imprime piezas de domino sin repetir\"\"\"\n",
    "    for i in range(1,7):\n",
    "        for j in range(i,7):\n",
    "            print(f\"{i}|{j}\")"
   ]
  },
  {
   "cell_type": "code",
   "execution_count": 279,
   "id": "4f092046-3cfa-4520-920a-ba2b1e92d69d",
   "metadata": {},
   "outputs": [
    {
     "name": "stdout",
     "output_type": "stream",
     "text": [
      "1|1\n",
      "1|2\n",
      "1|3\n",
      "1|4\n",
      "1|5\n",
      "1|6\n",
      "2|2\n",
      "2|3\n",
      "2|4\n",
      "2|5\n",
      "2|6\n",
      "3|3\n",
      "3|4\n",
      "3|5\n",
      "3|6\n",
      "4|4\n",
      "4|5\n",
      "4|6\n",
      "5|5\n",
      "5|6\n",
      "6|6\n"
     ]
    }
   ],
   "source": [
    "get_dominos()"
   ]
  },
  {
   "cell_type": "markdown",
   "id": "e4d95645",
   "metadata": {},
   "source": [
    "## Escribe una función que dado un número indique si es par o no y si es primo o no."
   ]
  },
  {
   "cell_type": "code",
   "execution_count": 280,
   "id": "a9b18a0a-c215-48da-b514-cf83271a13de",
   "metadata": {},
   "outputs": [],
   "source": [
    "import math"
   ]
  },
  {
   "cell_type": "code",
   "execution_count": 281,
   "id": "e24b1060",
   "metadata": {},
   "outputs": [],
   "source": [
    "def is_even_prime(n):\n",
    "    search,i=False,2\n",
    "    if n not in (1,2):\n",
    "        while(not search and i<=math.sqrt(n)):\n",
    "            print(f\"search {i}\")\n",
    "            search=n%i==0\n",
    "            i+=1\n",
    "    print(f\"{''if n%2==0 else 'no '}es par, {'no 'if search else ''}es primo\")"
   ]
  },
  {
   "cell_type": "code",
   "execution_count": 282,
   "id": "36405d71-614e-4470-bc36-30bdbabfe676",
   "metadata": {},
   "outputs": [
    {
     "name": "stdout",
     "output_type": "stream",
     "text": [
      "search 2\n",
      "search 3\n",
      "search 4\n",
      "search 5\n",
      "no es par, es primo\n"
     ]
    }
   ],
   "source": [
    "is_even_prime(29)"
   ]
  },
  {
   "cell_type": "markdown",
   "id": "ef4c6b71",
   "metadata": {},
   "source": [
    "## Programa una implementación de la función $abs$."
   ]
  },
  {
   "cell_type": "code",
   "execution_count": 283,
   "id": "202ee7ba",
   "metadata": {},
   "outputs": [],
   "source": [
    "def absoluto(n):\n",
    "    return n if n>=0 else -n"
   ]
  },
  {
   "cell_type": "code",
   "execution_count": 284,
   "id": "3b813c53-6d07-4ba3-996d-e5e6b1168c88",
   "metadata": {},
   "outputs": [
    {
     "name": "stdout",
     "output_type": "stream",
     "text": [
      "119293\n"
     ]
    }
   ],
   "source": [
    "print(absoluto(-119293))"
   ]
  },
  {
   "cell_type": "markdown",
   "id": "5c75fa01",
   "metadata": {},
   "source": [
    "## Programa una implementción de la función $signo$."
   ]
  },
  {
   "cell_type": "code",
   "execution_count": 285,
   "id": "0751e9f8",
   "metadata": {},
   "outputs": [],
   "source": [
    "def signo(n):\n",
    "    return 1 if n>0 else -1 if n<0 else 0"
   ]
  },
  {
   "cell_type": "code",
   "execution_count": 286,
   "id": "2bcdc012-f872-468b-a8dd-7b827c5766c2",
   "metadata": {},
   "outputs": [
    {
     "name": "stdout",
     "output_type": "stream",
     "text": [
      "0\n"
     ]
    }
   ],
   "source": [
    "print(signo(0))"
   ]
  },
  {
   "cell_type": "markdown",
   "id": "c15e53ef",
   "metadata": {},
   "source": [
    "## Escribe funciónes que permitan encontrar las soluciones de un polinomio de grado dos dados sus coeficientes $a$, $b$ y $c$.\n",
    "\n",
    "## Que muestre el mínimo o máximo del polinomio."
   ]
  },
  {
   "cell_type": "code",
   "execution_count": 287,
   "id": "17be99a8",
   "metadata": {},
   "outputs": [],
   "source": [
    "def get_solutions(a,b,c):\n",
    "    \"\"\"devuelve las soluciones de una ecuacion cuadratica de coeficientes a,b,c o un array vacío si no hay solucion\"\"\"\n",
    "    try:\n",
    "        disc= (b**2)-(4*a*c)\n",
    "        return[(-b-math.sqrt(disc))/(2*a),(-b+math.sqrt(disc))/(2*a)]\n",
    "    except:\n",
    "        return []\n",
    "    "
   ]
  },
  {
   "cell_type": "code",
   "execution_count": 288,
   "id": "48e2a47f-ea3a-4c6a-a4c8-08b15a9fee55",
   "metadata": {},
   "outputs": [
    {
     "data": {
      "text/plain": [
       "[-0.25429634178756466, 1.072478159969383]"
      ]
     },
     "execution_count": 288,
     "metadata": {},
     "output_type": "execute_result"
    }
   ],
   "source": [
    "get_solutions(4.4,-3.6,-1.2)"
   ]
  },
  {
   "cell_type": "code",
   "execution_count": 289,
   "id": "059d8447-944d-4917-ab5d-75cf68b937bc",
   "metadata": {},
   "outputs": [],
   "source": [
    "def f(x,a,b,c):\n",
    "    \"\"\"evalua un punto en una ecuacion cuadratica de coeficientes a,b,c\"\"\"\n",
    "    return a*x**2+b*x+c"
   ]
  },
  {
   "cell_type": "code",
   "execution_count": 290,
   "id": "c28c7e53-f66e-463c-b239-394d99c721fa",
   "metadata": {},
   "outputs": [],
   "source": [
    "def get_minimo_o_maximo(a,b,c):\n",
    "    x=-b/(2*a)\n",
    "    y=f(x,a,b,c)\n",
    "    max = f(x-0.1,a,b,c)<y\n",
    "    print(f\"{'maximo'if max else 'minimo'} en ({x},{y})\")\n",
    "    "
   ]
  },
  {
   "cell_type": "code",
   "execution_count": 291,
   "id": "8f2ecf0e-4dfd-4a02-b3ac-0c9007c4cb1c",
   "metadata": {},
   "outputs": [
    {
     "name": "stdout",
     "output_type": "stream",
     "text": [
      "minimo en (0.40909090909090906,-1.9363636363636363)\n"
     ]
    }
   ],
   "source": [
    "get_minimo_o_maximo(4.4,-3.6,-1.2)"
   ]
  },
  {
   "cell_type": "markdown",
   "id": "45bd8725",
   "metadata": {},
   "source": [
    "## Escribe una función que dado un número entero devuelva su descomposición en factores primos."
   ]
  },
  {
   "cell_type": "code",
   "execution_count": 292,
   "id": "77853595",
   "metadata": {},
   "outputs": [],
   "source": [
    "def prime_decomposition(n):\n",
    "    x,t,out=n,2,[]\n",
    "    check=True\n",
    "    while x>1:\n",
    "        check = True\n",
    "        for i in out:\n",
    "            if t%i==0 and not t==i:\n",
    "                check=False\n",
    "                continue\n",
    "        if check:\n",
    "            if x%t==0:\n",
    "                out.append(t)\n",
    "                x/=t\n",
    "                t-=1\n",
    "        t+=1\n",
    "    return out    "
   ]
  },
  {
   "cell_type": "code",
   "execution_count": 293,
   "id": "ee3df54e-df9e-4b69-b69a-9db9d3f93aef",
   "metadata": {},
   "outputs": [
    {
     "data": {
      "text/plain": [
       "[2, 2, 3, 3]"
      ]
     },
     "execution_count": 293,
     "metadata": {},
     "output_type": "execute_result"
    }
   ],
   "source": [
    "prime_decomposition(36)"
   ]
  },
  {
   "cell_type": "markdown",
   "id": "760932c8",
   "metadata": {},
   "source": [
    "## Programa una función que solicite por pantalla un número y permita al usuario introducirlo para luego imprimirlo por pantalla.\n",
    "\n",
    "## Usa la función `input` de python."
   ]
  },
  {
   "cell_type": "code",
   "execution_count": 294,
   "id": "00d2def5",
   "metadata": {},
   "outputs": [
    {
     "name": "stdin",
     "output_type": "stream",
     "text": [
      " 1\n"
     ]
    }
   ],
   "source": [
    "x = input()"
   ]
  },
  {
   "cell_type": "code",
   "execution_count": 295,
   "id": "16c88ab9",
   "metadata": {},
   "outputs": [
    {
     "name": "stdout",
     "output_type": "stream",
     "text": [
      "Introduzca un valor:\n"
     ]
    },
    {
     "name": "stdin",
     "output_type": "stream",
     "text": [
      " 2\n"
     ]
    },
    {
     "name": "stdout",
     "output_type": "stream",
     "text": [
      "El numero introducido es 2\n"
     ]
    }
   ],
   "source": [
    "print('Introduzca un valor:')\n",
    "x = int(input())\n",
    "print(\"El numero introducido es\",x)"
   ]
  },
  {
   "cell_type": "code",
   "execution_count": 296,
   "id": "1d131227",
   "metadata": {},
   "outputs": [
    {
     "data": {
      "text/plain": [
       "3"
      ]
     },
     "execution_count": 296,
     "metadata": {},
     "output_type": "execute_result"
    }
   ],
   "source": [
    "1+x"
   ]
  },
  {
   "cell_type": "markdown",
   "id": "bca767ff",
   "metadata": {},
   "source": [
    "## Escribe una función que tenga una contraseña inventada, que le pregunte la contraseña inventada y no le permita continuar al usuario hasta que la haya ingresado correctamente."
   ]
  },
  {
   "cell_type": "code",
   "execution_count": 297,
   "id": "78bf54b4-e752-4189-93db-2ae736701009",
   "metadata": {},
   "outputs": [],
   "source": [
    "def ask_for_pwd():\n",
    "    cont,pwd =False, \"laMejorContr4seña\"\n",
    "    while not cont:\n",
    "        cont=input()==pwd\n",
    "        if not cont:\n",
    "            print(\"contraseña incorrecta\")\n",
    "    print(\"contraseña correcta, continua el programa\")"
   ]
  },
  {
   "cell_type": "code",
   "execution_count": 298,
   "id": "c96f7201-4028-434b-a79d-ba9d38a4f0d6",
   "metadata": {},
   "outputs": [
    {
     "name": "stdin",
     "output_type": "stream",
     "text": [
      " laPeorContr4seña\n"
     ]
    },
    {
     "name": "stdout",
     "output_type": "stream",
     "text": [
      "contraseña incorrecta\n"
     ]
    },
    {
     "name": "stdin",
     "output_type": "stream",
     "text": [
      " laMejorContr4seña\n"
     ]
    },
    {
     "name": "stdout",
     "output_type": "stream",
     "text": [
      "contraseña correcta, continua el programa\n",
      "se salio de la funcion, resto del codigo\n"
     ]
    }
   ],
   "source": [
    "ask_for_pwd()\n",
    "print(\"se salio de la funcion, resto del codigo\")"
   ]
  },
  {
   "cell_type": "markdown",
   "id": "26ac9952",
   "metadata": {},
   "source": [
    "## Modificación la función anterior para que solo permita un número determinado de intentos y le indique al usuario cuántos intentos le quedan."
   ]
  },
  {
   "cell_type": "code",
   "execution_count": 299,
   "id": "e93e9b07",
   "metadata": {},
   "outputs": [],
   "source": [
    "def ask_for_pwd_with_tries(n):\n",
    "    cont,pwd =False, \"laMejorContr4seña\"\n",
    "    while not cont and n>0:\n",
    "        cont=input()==pwd\n",
    "        if not cont:\n",
    "            n-=1;\n",
    "            if n>0:\n",
    "                print(f\"contraseña incorrecta, {n} intento{'s'if n>1 else ''} restante{'s'if n>1 else ''}\")\n",
    "    if n>0:\n",
    "        print(\"contraseña correcta, continua el programa\")\n",
    "    else: print(\"no se ha introducido la contraseña correcta en los intentos permitidos\")"
   ]
  },
  {
   "cell_type": "code",
   "execution_count": 300,
   "id": "93ae3128-3abf-404c-8318-1c123621c34a",
   "metadata": {},
   "outputs": [
    {
     "name": "stdin",
     "output_type": "stream",
     "text": [
      " malisimaContraseña\n"
     ]
    },
    {
     "name": "stdout",
     "output_type": "stream",
     "text": [
      "contraseña incorrecta, 2 intentos restantes\n"
     ]
    },
    {
     "name": "stdin",
     "output_type": "stream",
     "text": [
      " laMejorContr4seña\n"
     ]
    },
    {
     "name": "stdout",
     "output_type": "stream",
     "text": [
      "contraseña correcta, continua el programa\n"
     ]
    }
   ],
   "source": [
    "ask_for_pwd_with_tries(3)"
   ]
  },
  {
   "cell_type": "markdown",
   "id": "c36d6550",
   "metadata": {},
   "source": [
    "## Programa una función que genere un número aleatorio entero en un rango determinado. Y que le permita al usuario introducir números indicando si son mayores o menores hasta que acierte el número."
   ]
  },
  {
   "cell_type": "code",
   "execution_count": 301,
   "id": "105044e0",
   "metadata": {},
   "outputs": [],
   "source": [
    "from random import randint"
   ]
  },
  {
   "cell_type": "code",
   "execution_count": 302,
   "id": "aae534c1",
   "metadata": {},
   "outputs": [
    {
     "data": {
      "text/plain": [
       "7"
      ]
     },
     "execution_count": 302,
     "metadata": {},
     "output_type": "execute_result"
    }
   ],
   "source": [
    "randint(0, 10)"
   ]
  },
  {
   "cell_type": "code",
   "execution_count": 303,
   "id": "8ff11ade",
   "metadata": {},
   "outputs": [],
   "source": [
    "def acierto(n_min=0, n_max=10):\n",
    "    x = randint(n_min, n_max)\n",
    "    fallo = True\n",
    "    while fallo == True:\n",
    "        print('Introduce un numero:')\n",
    "        numero = int(input())\n",
    "        if numero == x:\n",
    "            print('Has acertado')\n",
    "            fallo = False\n",
    "        elif numero < x:\n",
    "            print('Es mayor que ', numero)\n",
    "        else:\n",
    "            print('Es menor que ', numero)"
   ]
  },
  {
   "cell_type": "code",
   "execution_count": 304,
   "id": "c55fbb77",
   "metadata": {},
   "outputs": [
    {
     "name": "stdout",
     "output_type": "stream",
     "text": [
      "Introduce un numero:\n"
     ]
    },
    {
     "name": "stdin",
     "output_type": "stream",
     "text": [
      " 4\n"
     ]
    },
    {
     "name": "stdout",
     "output_type": "stream",
     "text": [
      "Es mayor que  4\n",
      "Introduce un numero:\n"
     ]
    },
    {
     "name": "stdin",
     "output_type": "stream",
     "text": [
      " 7\n"
     ]
    },
    {
     "name": "stdout",
     "output_type": "stream",
     "text": [
      "Es menor que  7\n",
      "Introduce un numero:\n"
     ]
    },
    {
     "name": "stdin",
     "output_type": "stream",
     "text": [
      " 5\n"
     ]
    },
    {
     "name": "stdout",
     "output_type": "stream",
     "text": [
      "Es mayor que  5\n",
      "Introduce un numero:\n"
     ]
    },
    {
     "name": "stdin",
     "output_type": "stream",
     "text": [
      " 6\n"
     ]
    },
    {
     "name": "stdout",
     "output_type": "stream",
     "text": [
      "Has acertado\n"
     ]
    }
   ],
   "source": [
    "acierto()"
   ]
  },
  {
   "cell_type": "markdown",
   "id": "d00c2bda",
   "metadata": {},
   "source": [
    "## Programa una función que implemente el algoritmo de Euclides para calcular el máximo común divisor de dos números $n$ y $m$. Dado por los siguientes pasos:\n",
    "1. Se calcula el resto ($r$) de $m/n$.\n",
    "2. Si $r$ es cero entonces $n$ es el MCD de los valores iniciales.\n",
    "3. Si no, se asigna $m \\leftarrow n$, $n \\leftarrow r$ y se vuelve al primer paso.\n"
   ]
  },
  {
   "cell_type": "code",
   "execution_count": 305,
   "id": "44658142",
   "metadata": {},
   "outputs": [],
   "source": [
    "def gcd(n,m):\n",
    "    r=m%n\n",
    "    return n if r==0 else gcd(r,n)"
   ]
  },
  {
   "cell_type": "code",
   "execution_count": 306,
   "id": "e1fb1618-7b86-4717-b789-6ab84d51f32c",
   "metadata": {},
   "outputs": [
    {
     "data": {
      "text/plain": [
       "2"
      ]
     },
     "execution_count": 306,
     "metadata": {},
     "output_type": "execute_result"
    }
   ],
   "source": [
    "gcd(4,2)"
   ]
  },
  {
   "cell_type": "code",
   "execution_count": 307,
   "id": "df39031d-59fa-4d0a-90a7-b5f57fd7eaa0",
   "metadata": {},
   "outputs": [
    {
     "data": {
      "text/plain": [
       "2"
      ]
     },
     "execution_count": 307,
     "metadata": {},
     "output_type": "execute_result"
    }
   ],
   "source": [
    "gcd(2,4)"
   ]
  },
  {
   "cell_type": "code",
   "execution_count": 308,
   "id": "e12e7383-51b7-45ab-83f5-def57b537dee",
   "metadata": {},
   "outputs": [
    {
     "data": {
      "text/plain": [
       "1"
      ]
     },
     "execution_count": 308,
     "metadata": {},
     "output_type": "execute_result"
    }
   ],
   "source": [
    "gcd(475,99)"
   ]
  },
  {
   "cell_type": "code",
   "execution_count": null,
   "id": "8dc8a5fd-e33d-428e-a8dc-58de185d8579",
   "metadata": {},
   "outputs": [],
   "source": []
  }
 ],
 "metadata": {
  "kernelspec": {
   "display_name": "Python 3 (ipykernel)",
   "language": "python",
   "name": "python3"
  },
  "language_info": {
   "codemirror_mode": {
    "name": "ipython",
    "version": 3
   },
   "file_extension": ".py",
   "mimetype": "text/x-python",
   "name": "python",
   "nbconvert_exporter": "python",
   "pygments_lexer": "ipython3",
   "version": "3.11.5"
  }
 },
 "nbformat": 4,
 "nbformat_minor": 5
}
