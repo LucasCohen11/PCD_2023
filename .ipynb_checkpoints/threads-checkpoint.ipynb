{
 "cells": [
  {
   "cell_type": "markdown",
   "id": "b21905f2-d5c1-43c7-9ef8-d54ed18a4916",
   "metadata": {},
   "source": [
    "# clase 3 de octubre 2023\n",
    "### clase de threads"
   ]
  },
  {
   "cell_type": "code",
   "execution_count": 1,
   "id": "1981bd08-967f-4a9c-96ce-6f7a796795c2",
   "metadata": {},
   "outputs": [],
   "source": [
    "#import thread library\n",
    "import threading as th"
   ]
  },
  {
   "cell_type": "code",
   "execution_count": 2,
   "id": "234f5a58-d328-4a41-86fc-4d0890223e32",
   "metadata": {},
   "outputs": [
    {
     "data": {
      "text/plain": [
       "8"
      ]
     },
     "execution_count": 2,
     "metadata": {},
     "output_type": "execute_result"
    }
   ],
   "source": [
    "th.active_count()"
   ]
  },
  {
   "cell_type": "code",
   "execution_count": 3,
   "id": "5be13b9a-9409-4b97-9ccd-fae0f43b2fb6",
   "metadata": {},
   "outputs": [
    {
     "data": {
      "text/plain": [
       "[<_MainThread(MainThread, started 4303979904)>,\n",
       " <Thread(IOPub, started daemon 6184185856)>,\n",
       " <Heartbeat(Heartbeat, started daemon 6201012224)>,\n",
       " <Thread(Thread-3 (_watch_pipe_fd), started daemon 6218985472)>,\n",
       " <Thread(Thread-4 (_watch_pipe_fd), started daemon 6235811840)>,\n",
       " <ControlThread(Control, started daemon 6252638208)>,\n",
       " <HistorySavingThread(IPythonHistorySavingThread, started 6269464576)>,\n",
       " <ParentPollerUnix(Thread-2, started daemon 6286864384)>]"
      ]
     },
     "execution_count": 3,
     "metadata": {},
     "output_type": "execute_result"
    }
   ],
   "source": [
    "th.enumerate()"
   ]
  },
  {
   "cell_type": "code",
   "execution_count": 4,
   "id": "8fd17ac9-7b53-4430-9af1-09a0255e6f56",
   "metadata": {},
   "outputs": [
    {
     "data": {
      "text/plain": [
       "<_MainThread(MainThread, started 4303979904)>"
      ]
     },
     "execution_count": 4,
     "metadata": {},
     "output_type": "execute_result"
    }
   ],
   "source": [
    "th.current_thread()"
   ]
  },
  {
   "cell_type": "markdown",
   "id": "5883480b-a2e5-42b2-afec-06b11963a263",
   "metadata": {},
   "source": [
    "## quien es el padre?"
   ]
  },
  {
   "cell_type": "code",
   "execution_count": 5,
   "id": "bb8fcf5e-099d-4a7f-956c-6be391e5e3bd",
   "metadata": {},
   "outputs": [],
   "source": [
    "import os"
   ]
  },
  {
   "cell_type": "code",
   "execution_count": 6,
   "id": "46eee9df-7308-4422-8478-7a31dc7ca9f9",
   "metadata": {},
   "outputs": [
    {
     "data": {
      "text/plain": [
       "93224"
      ]
     },
     "execution_count": 6,
     "metadata": {},
     "output_type": "execute_result"
    }
   ],
   "source": [
    "os.getpid()"
   ]
  },
  {
   "cell_type": "code",
   "execution_count": 7,
   "id": "72a6f3c7-b814-4ae5-b92d-4b7cca6f4818",
   "metadata": {},
   "outputs": [
    {
     "ename": "FileNotFoundError",
     "evalue": "No such file or directory: 'Documents/Code/PCD_2023/5_oct_2023.png'",
     "output_type": "error",
     "traceback": [
      "\u001b[0;31m---------------------------------------------------------------------------\u001b[0m",
      "\u001b[0;31mTypeError\u001b[0m                                 Traceback (most recent call last)",
      "File \u001b[0;32m/opt/homebrew/opt/ipython/libexec/lib/python3.11/site-packages/IPython/core/display.py:1045\u001b[0m, in \u001b[0;36mImage._data_and_metadata\u001b[0;34m(self, always_both)\u001b[0m\n\u001b[1;32m   1044\u001b[0m \u001b[38;5;28;01mtry\u001b[39;00m:\n\u001b[0;32m-> 1045\u001b[0m     b64_data \u001b[38;5;241m=\u001b[39m \u001b[43mb2a_base64\u001b[49m\u001b[43m(\u001b[49m\u001b[38;5;28;43mself\u001b[39;49m\u001b[38;5;241;43m.\u001b[39;49m\u001b[43mdata\u001b[49m\u001b[43m,\u001b[49m\u001b[43m \u001b[49m\u001b[43mnewline\u001b[49m\u001b[38;5;241;43m=\u001b[39;49m\u001b[38;5;28;43;01mFalse\u001b[39;49;00m\u001b[43m)\u001b[49m\u001b[38;5;241m.\u001b[39mdecode(\u001b[38;5;124m\"\u001b[39m\u001b[38;5;124mascii\u001b[39m\u001b[38;5;124m\"\u001b[39m)\n\u001b[1;32m   1046\u001b[0m \u001b[38;5;28;01mexcept\u001b[39;00m \u001b[38;5;167;01mTypeError\u001b[39;00m \u001b[38;5;28;01mas\u001b[39;00m e:\n",
      "\u001b[0;31mTypeError\u001b[0m: a bytes-like object is required, not 'str'",
      "\nThe above exception was the direct cause of the following exception:\n",
      "\u001b[0;31mFileNotFoundError\u001b[0m                         Traceback (most recent call last)",
      "File \u001b[0;32m/opt/homebrew/opt/ipython/libexec/lib/python3.11/site-packages/IPython/core/formatters.py:974\u001b[0m, in \u001b[0;36mMimeBundleFormatter.__call__\u001b[0;34m(self, obj, include, exclude)\u001b[0m\n\u001b[1;32m    971\u001b[0m     method \u001b[38;5;241m=\u001b[39m get_real_method(obj, \u001b[38;5;28mself\u001b[39m\u001b[38;5;241m.\u001b[39mprint_method)\n\u001b[1;32m    973\u001b[0m     \u001b[38;5;28;01mif\u001b[39;00m method \u001b[38;5;129;01mis\u001b[39;00m \u001b[38;5;129;01mnot\u001b[39;00m \u001b[38;5;28;01mNone\u001b[39;00m:\n\u001b[0;32m--> 974\u001b[0m         \u001b[38;5;28;01mreturn\u001b[39;00m \u001b[43mmethod\u001b[49m\u001b[43m(\u001b[49m\u001b[43minclude\u001b[49m\u001b[38;5;241;43m=\u001b[39;49m\u001b[43minclude\u001b[49m\u001b[43m,\u001b[49m\u001b[43m \u001b[49m\u001b[43mexclude\u001b[49m\u001b[38;5;241;43m=\u001b[39;49m\u001b[43mexclude\u001b[49m\u001b[43m)\u001b[49m\n\u001b[1;32m    975\u001b[0m     \u001b[38;5;28;01mreturn\u001b[39;00m \u001b[38;5;28;01mNone\u001b[39;00m\n\u001b[1;32m    976\u001b[0m \u001b[38;5;28;01melse\u001b[39;00m:\n",
      "File \u001b[0;32m/opt/homebrew/opt/ipython/libexec/lib/python3.11/site-packages/IPython/core/display.py:1035\u001b[0m, in \u001b[0;36mImage._repr_mimebundle_\u001b[0;34m(self, include, exclude)\u001b[0m\n\u001b[1;32m   1033\u001b[0m \u001b[38;5;28;01mif\u001b[39;00m \u001b[38;5;28mself\u001b[39m\u001b[38;5;241m.\u001b[39membed:\n\u001b[1;32m   1034\u001b[0m     mimetype \u001b[38;5;241m=\u001b[39m \u001b[38;5;28mself\u001b[39m\u001b[38;5;241m.\u001b[39m_mimetype\n\u001b[0;32m-> 1035\u001b[0m     data, metadata \u001b[38;5;241m=\u001b[39m \u001b[38;5;28;43mself\u001b[39;49m\u001b[38;5;241;43m.\u001b[39;49m\u001b[43m_data_and_metadata\u001b[49m\u001b[43m(\u001b[49m\u001b[43malways_both\u001b[49m\u001b[38;5;241;43m=\u001b[39;49m\u001b[38;5;28;43;01mTrue\u001b[39;49;00m\u001b[43m)\u001b[49m\n\u001b[1;32m   1036\u001b[0m     \u001b[38;5;28;01mif\u001b[39;00m metadata:\n\u001b[1;32m   1037\u001b[0m         metadata \u001b[38;5;241m=\u001b[39m {mimetype: metadata}\n",
      "File \u001b[0;32m/opt/homebrew/opt/ipython/libexec/lib/python3.11/site-packages/IPython/core/display.py:1047\u001b[0m, in \u001b[0;36mImage._data_and_metadata\u001b[0;34m(self, always_both)\u001b[0m\n\u001b[1;32m   1045\u001b[0m     b64_data \u001b[38;5;241m=\u001b[39m b2a_base64(\u001b[38;5;28mself\u001b[39m\u001b[38;5;241m.\u001b[39mdata, newline\u001b[38;5;241m=\u001b[39m\u001b[38;5;28;01mFalse\u001b[39;00m)\u001b[38;5;241m.\u001b[39mdecode(\u001b[38;5;124m\"\u001b[39m\u001b[38;5;124mascii\u001b[39m\u001b[38;5;124m\"\u001b[39m)\n\u001b[1;32m   1046\u001b[0m \u001b[38;5;28;01mexcept\u001b[39;00m \u001b[38;5;167;01mTypeError\u001b[39;00m \u001b[38;5;28;01mas\u001b[39;00m e:\n\u001b[0;32m-> 1047\u001b[0m     \u001b[38;5;28;01mraise\u001b[39;00m \u001b[38;5;167;01mFileNotFoundError\u001b[39;00m(\n\u001b[1;32m   1048\u001b[0m         \u001b[38;5;124m\"\u001b[39m\u001b[38;5;124mNo such file or directory: \u001b[39m\u001b[38;5;124m'\u001b[39m\u001b[38;5;132;01m%s\u001b[39;00m\u001b[38;5;124m'\u001b[39m\u001b[38;5;124m\"\u001b[39m \u001b[38;5;241m%\u001b[39m (\u001b[38;5;28mself\u001b[39m\u001b[38;5;241m.\u001b[39mdata)) \u001b[38;5;28;01mfrom\u001b[39;00m \u001b[38;5;21;01me\u001b[39;00m\n\u001b[1;32m   1049\u001b[0m md \u001b[38;5;241m=\u001b[39m {}\n\u001b[1;32m   1050\u001b[0m \u001b[38;5;28;01mif\u001b[39;00m \u001b[38;5;28mself\u001b[39m\u001b[38;5;241m.\u001b[39mmetadata:\n",
      "\u001b[0;31mFileNotFoundError\u001b[0m: No such file or directory: 'Documents/Code/PCD_2023/5_oct_2023.png'"
     ]
    },
    {
     "ename": "FileNotFoundError",
     "evalue": "No such file or directory: 'Documents/Code/PCD_2023/5_oct_2023.png'",
     "output_type": "error",
     "traceback": [
      "\u001b[0;31m---------------------------------------------------------------------------\u001b[0m",
      "\u001b[0;31mTypeError\u001b[0m                                 Traceback (most recent call last)",
      "File \u001b[0;32m/opt/homebrew/opt/ipython/libexec/lib/python3.11/site-packages/IPython/core/display.py:1045\u001b[0m, in \u001b[0;36mImage._data_and_metadata\u001b[0;34m(self, always_both)\u001b[0m\n\u001b[1;32m   1044\u001b[0m \u001b[38;5;28;01mtry\u001b[39;00m:\n\u001b[0;32m-> 1045\u001b[0m     b64_data \u001b[38;5;241m=\u001b[39m \u001b[43mb2a_base64\u001b[49m\u001b[43m(\u001b[49m\u001b[38;5;28;43mself\u001b[39;49m\u001b[38;5;241;43m.\u001b[39;49m\u001b[43mdata\u001b[49m\u001b[43m,\u001b[49m\u001b[43m \u001b[49m\u001b[43mnewline\u001b[49m\u001b[38;5;241;43m=\u001b[39;49m\u001b[38;5;28;43;01mFalse\u001b[39;49;00m\u001b[43m)\u001b[49m\u001b[38;5;241m.\u001b[39mdecode(\u001b[38;5;124m\"\u001b[39m\u001b[38;5;124mascii\u001b[39m\u001b[38;5;124m\"\u001b[39m)\n\u001b[1;32m   1046\u001b[0m \u001b[38;5;28;01mexcept\u001b[39;00m \u001b[38;5;167;01mTypeError\u001b[39;00m \u001b[38;5;28;01mas\u001b[39;00m e:\n",
      "\u001b[0;31mTypeError\u001b[0m: a bytes-like object is required, not 'str'",
      "\nThe above exception was the direct cause of the following exception:\n",
      "\u001b[0;31mFileNotFoundError\u001b[0m                         Traceback (most recent call last)",
      "File \u001b[0;32m/opt/homebrew/opt/ipython/libexec/lib/python3.11/site-packages/IPython/core/formatters.py:344\u001b[0m, in \u001b[0;36mBaseFormatter.__call__\u001b[0;34m(self, obj)\u001b[0m\n\u001b[1;32m    342\u001b[0m     method \u001b[38;5;241m=\u001b[39m get_real_method(obj, \u001b[38;5;28mself\u001b[39m\u001b[38;5;241m.\u001b[39mprint_method)\n\u001b[1;32m    343\u001b[0m     \u001b[38;5;28;01mif\u001b[39;00m method \u001b[38;5;129;01mis\u001b[39;00m \u001b[38;5;129;01mnot\u001b[39;00m \u001b[38;5;28;01mNone\u001b[39;00m:\n\u001b[0;32m--> 344\u001b[0m         \u001b[38;5;28;01mreturn\u001b[39;00m \u001b[43mmethod\u001b[49m\u001b[43m(\u001b[49m\u001b[43m)\u001b[49m\n\u001b[1;32m    345\u001b[0m     \u001b[38;5;28;01mreturn\u001b[39;00m \u001b[38;5;28;01mNone\u001b[39;00m\n\u001b[1;32m    346\u001b[0m \u001b[38;5;28;01melse\u001b[39;00m:\n",
      "File \u001b[0;32m/opt/homebrew/opt/ipython/libexec/lib/python3.11/site-packages/IPython/core/display.py:1067\u001b[0m, in \u001b[0;36mImage._repr_png_\u001b[0;34m(self)\u001b[0m\n\u001b[1;32m   1065\u001b[0m \u001b[38;5;28;01mdef\u001b[39;00m \u001b[38;5;21m_repr_png_\u001b[39m(\u001b[38;5;28mself\u001b[39m):\n\u001b[1;32m   1066\u001b[0m     \u001b[38;5;28;01mif\u001b[39;00m \u001b[38;5;28mself\u001b[39m\u001b[38;5;241m.\u001b[39membed \u001b[38;5;129;01mand\u001b[39;00m \u001b[38;5;28mself\u001b[39m\u001b[38;5;241m.\u001b[39mformat \u001b[38;5;241m==\u001b[39m \u001b[38;5;28mself\u001b[39m\u001b[38;5;241m.\u001b[39m_FMT_PNG:\n\u001b[0;32m-> 1067\u001b[0m         \u001b[38;5;28;01mreturn\u001b[39;00m \u001b[38;5;28;43mself\u001b[39;49m\u001b[38;5;241;43m.\u001b[39;49m\u001b[43m_data_and_metadata\u001b[49m\u001b[43m(\u001b[49m\u001b[43m)\u001b[49m\n",
      "File \u001b[0;32m/opt/homebrew/opt/ipython/libexec/lib/python3.11/site-packages/IPython/core/display.py:1047\u001b[0m, in \u001b[0;36mImage._data_and_metadata\u001b[0;34m(self, always_both)\u001b[0m\n\u001b[1;32m   1045\u001b[0m     b64_data \u001b[38;5;241m=\u001b[39m b2a_base64(\u001b[38;5;28mself\u001b[39m\u001b[38;5;241m.\u001b[39mdata, newline\u001b[38;5;241m=\u001b[39m\u001b[38;5;28;01mFalse\u001b[39;00m)\u001b[38;5;241m.\u001b[39mdecode(\u001b[38;5;124m\"\u001b[39m\u001b[38;5;124mascii\u001b[39m\u001b[38;5;124m\"\u001b[39m)\n\u001b[1;32m   1046\u001b[0m \u001b[38;5;28;01mexcept\u001b[39;00m \u001b[38;5;167;01mTypeError\u001b[39;00m \u001b[38;5;28;01mas\u001b[39;00m e:\n\u001b[0;32m-> 1047\u001b[0m     \u001b[38;5;28;01mraise\u001b[39;00m \u001b[38;5;167;01mFileNotFoundError\u001b[39;00m(\n\u001b[1;32m   1048\u001b[0m         \u001b[38;5;124m\"\u001b[39m\u001b[38;5;124mNo such file or directory: \u001b[39m\u001b[38;5;124m'\u001b[39m\u001b[38;5;132;01m%s\u001b[39;00m\u001b[38;5;124m'\u001b[39m\u001b[38;5;124m\"\u001b[39m \u001b[38;5;241m%\u001b[39m (\u001b[38;5;28mself\u001b[39m\u001b[38;5;241m.\u001b[39mdata)) \u001b[38;5;28;01mfrom\u001b[39;00m \u001b[38;5;21;01me\u001b[39;00m\n\u001b[1;32m   1049\u001b[0m md \u001b[38;5;241m=\u001b[39m {}\n\u001b[1;32m   1050\u001b[0m \u001b[38;5;28;01mif\u001b[39;00m \u001b[38;5;28mself\u001b[39m\u001b[38;5;241m.\u001b[39mmetadata:\n",
      "\u001b[0;31mFileNotFoundError\u001b[0m: No such file or directory: 'Documents/Code/PCD_2023/5_oct_2023.png'"
     ]
    },
    {
     "data": {
      "text/plain": [
       "<IPython.core.display.Image object>"
      ]
     },
     "execution_count": 7,
     "metadata": {},
     "output_type": "execute_result"
    }
   ],
   "source": [
    "from IPython import display as dp\n",
    "dp.Image('5_oct_2023.png')"
   ]
  },
  {
   "cell_type": "markdown",
   "id": "aad6221f-b6ac-4ac0-90b7-b8c62483e9dd",
   "metadata": {},
   "source": [
    "## threads vs processes"
   ]
  },
  {
   "cell_type": "code",
   "execution_count": 8,
   "id": "e3ea9ace-5bfa-483b-8e26-140fc8f9111f",
   "metadata": {
    "jupyter": {
     "source_hidden": true
    }
   },
   "outputs": [],
   "source": [
    "def do_nothing():\n",
    "    while True:\n",
    "        pass"
   ]
  },
  {
   "cell_type": "markdown",
   "id": "36a812b6-9a64-44d0-902f-a3bc8f160bde",
   "metadata": {},
   "source": [
    "### thread example: "
   ]
  },
  {
   "cell_type": "code",
   "execution_count": 9,
   "id": "9abc1572-d4b4-43c7-bc27-50e16864e87b",
   "metadata": {},
   "outputs": [
    {
     "data": {
      "text/plain": [
       "[<_MainThread(MainThread, started 4303979904)>,\n",
       " <Thread(IOPub, started daemon 6184185856)>,\n",
       " <Heartbeat(Heartbeat, started daemon 6201012224)>,\n",
       " <Thread(Thread-3 (_watch_pipe_fd), started daemon 6218985472)>,\n",
       " <Thread(Thread-4 (_watch_pipe_fd), started daemon 6235811840)>,\n",
       " <ControlThread(Control, started daemon 6252638208)>,\n",
       " <HistorySavingThread(IPythonHistorySavingThread, started 6269464576)>,\n",
       " <ParentPollerUnix(Thread-2, started daemon 6286864384)>,\n",
       " <Thread(Thread-5 (do_nothing), started 6303690752)>,\n",
       " <Thread(Thread-6 (do_nothing), started 6320517120)>,\n",
       " <Thread(Thread-7 (do_nothing), started 6337343488)>,\n",
       " <Thread(Thread-8 (do_nothing), started 6354169856)>,\n",
       " <Thread(Thread-9 (do_nothing), started 6370996224)>,\n",
       " <Thread(Thread-10 (do_nothing), started 6387822592)>,\n",
       " <Thread(Thread-11 (do_nothing), started 6404648960)>,\n",
       " <Thread(Thread-12 (do_nothing), started 6421475328)>,\n",
       " <Thread(Thread-13 (do_nothing), started 6438301696)>,\n",
       " <Thread(Thread-14 (do_nothing), started 10754224128)>,\n",
       " <Thread(Thread-15 (do_nothing), started 10771050496)>,\n",
       " <Thread(Thread-16 (do_nothing), started 10787876864)>,\n",
       " <Thread(Thread-17 (do_nothing), started 10804703232)>,\n",
       " <Thread(Thread-18 (do_nothing), started 10821529600)>,\n",
       " <Thread(Thread-19 (do_nothing), started 10838355968)>,\n",
       " <Thread(Thread-20 (do_nothing), started 10855182336)>,\n",
       " <Thread(Thread-21 (do_nothing), started 10872008704)>,\n",
       " <Thread(Thread-22 (do_nothing), started 10888835072)>,\n",
       " <Thread(Thread-23 (do_nothing), started 10905661440)>,\n",
       " <Thread(Thread-24 (do_nothing), started 10922487808)>]"
      ]
     },
     "execution_count": 9,
     "metadata": {},
     "output_type": "execute_result"
    }
   ],
   "source": [
    "for i in range(20):\n",
    "    th.Thread(target=do_nothing).start()\n",
    "\n",
    "th.enumerate()"
   ]
  },
  {
   "cell_type": "code",
   "execution_count": 10,
   "id": "b45b54bd-7e08-4c33-871f-1c1154e7932a",
   "metadata": {},
   "outputs": [],
   "source": [
    "#import core management library\n",
    "import multiprocessing as mp"
   ]
  },
  {
   "cell_type": "markdown",
   "id": "fd693a1b-275d-4a6f-b1f4-71f9751a175b",
   "metadata": {},
   "source": [
    "### process example:"
   ]
  },
  {
   "cell_type": "code",
   "execution_count": null,
   "id": "48798fba-9864-4429-844c-f7619e3f641a",
   "metadata": {},
   "outputs": [],
   "source": [
    "for i in range(10):\n",
    "    mp.Process(target=do_nothing()).start()"
   ]
  },
  {
   "cell_type": "code",
   "execution_count": 12,
   "id": "090e8213-7f21-4cf9-bbbd-2aa78b700afe",
   "metadata": {},
   "outputs": [
    {
     "data": {
      "text/plain": [
       "8"
      ]
     },
     "execution_count": 12,
     "metadata": {},
     "output_type": "execute_result"
    }
   ],
   "source": [
    "mp.cpu_count()"
   ]
  },
  {
   "cell_type": "code",
   "execution_count": 13,
   "id": "49b8b221-1693-4e5f-9d61-350fc6ccbf50",
   "metadata": {},
   "outputs": [
    {
     "data": {
      "text/plain": [
       "['spawn', 'fork', 'forkserver']"
      ]
     },
     "execution_count": 13,
     "metadata": {},
     "output_type": "execute_result"
    }
   ],
   "source": [
    "mp.get_all_start_methods()"
   ]
  },
  {
   "cell_type": "markdown",
   "id": "81b08ead-1753-4ce6-9459-ba8c3f592a13",
   "metadata": {},
   "source": [
    "### cuantos hilos puedo instanciar?\n",
    "según la teoría, el hardware impone el límite, siendo infinitamente escalable\n",
    "pero el interprete establece un límite de recursos utilizables"
   ]
  },
  {
   "cell_type": "code",
   "execution_count": 17,
   "id": "e6c469d1-5b3f-42f3-b949-97511daa6d5c",
   "metadata": {},
   "outputs": [],
   "source": [
    "import platform as pt"
   ]
  },
  {
   "cell_type": "code",
   "execution_count": 23,
   "id": "66ef1bb8-4a8c-4a54-82fb-cd6968e83d12",
   "metadata": {},
   "outputs": [
    {
     "data": {
      "text/plain": [
       "'3.11.5'"
      ]
     },
     "execution_count": 23,
     "metadata": {},
     "output_type": "execute_result"
    }
   ],
   "source": [
    "pt.python_version()"
   ]
  },
  {
   "cell_type": "code",
   "execution_count": null,
   "id": "5b001327-e1e1-4450-9ccb-846a571b8049",
   "metadata": {},
   "outputs": [],
   "source": []
  }
 ],
 "metadata": {
  "kernelspec": {
   "display_name": "Python 3 (ipykernel)",
   "language": "python",
   "name": "python3"
  },
  "language_info": {
   "codemirror_mode": {
    "name": "ipython",
    "version": 3
   },
   "file_extension": ".py",
   "mimetype": "text/x-python",
   "name": "python",
   "nbconvert_exporter": "python",
   "pygments_lexer": "ipython3",
   "version": "3.11.5"
  }
 },
 "nbformat": 4,
 "nbformat_minor": 5
}
