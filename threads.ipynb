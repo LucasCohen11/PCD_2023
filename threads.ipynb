{
 "cells": [
  {
   "cell_type": "markdown",
   "id": "b21905f2-d5c1-43c7-9ef8-d54ed18a4916",
   "metadata": {},
   "source": [
    "# clase 3 de octubre 2023\n",
    "### clase de threads"
   ]
  },
  {
   "cell_type": "code",
   "execution_count": 1,
   "id": "1981bd08-967f-4a9c-96ce-6f7a796795c2",
   "metadata": {},
   "outputs": [],
   "source": [
    "#import thread library\n",
    "import threading as th"
   ]
  },
  {
   "cell_type": "code",
   "execution_count": 2,
   "id": "234f5a58-d328-4a41-86fc-4d0890223e32",
   "metadata": {},
   "outputs": [
    {
     "data": {
      "text/plain": [
       "8"
      ]
     },
     "execution_count": 2,
     "metadata": {},
     "output_type": "execute_result"
    }
   ],
   "source": [
    "th.active_count()"
   ]
  },
  {
   "cell_type": "code",
   "execution_count": 3,
   "id": "5be13b9a-9409-4b97-9ccd-fae0f43b2fb6",
   "metadata": {},
   "outputs": [
    {
     "data": {
      "text/plain": [
       "[<_MainThread(MainThread, started 4303979904)>,\n",
       " <Thread(IOPub, started daemon 6184185856)>,\n",
       " <Heartbeat(Heartbeat, started daemon 6201012224)>,\n",
       " <Thread(Thread-3 (_watch_pipe_fd), started daemon 6218985472)>,\n",
       " <Thread(Thread-4 (_watch_pipe_fd), started daemon 6235811840)>,\n",
       " <ControlThread(Control, started daemon 6252638208)>,\n",
       " <HistorySavingThread(IPythonHistorySavingThread, started 6269464576)>,\n",
       " <ParentPollerUnix(Thread-2, started daemon 6286864384)>]"
      ]
     },
     "execution_count": 3,
     "metadata": {},
     "output_type": "execute_result"
    }
   ],
   "source": [
    "th.enumerate()"
   ]
  },
  {
   "cell_type": "code",
   "execution_count": 4,
   "id": "8fd17ac9-7b53-4430-9af1-09a0255e6f56",
   "metadata": {},
   "outputs": [
    {
     "data": {
      "text/plain": [
       "<_MainThread(MainThread, started 4303979904)>"
      ]
     },
     "execution_count": 4,
     "metadata": {},
     "output_type": "execute_result"
    }
   ],
   "source": [
    "th.current_thread()"
   ]
  },
  {
   "cell_type": "markdown",
   "id": "5883480b-a2e5-42b2-afec-06b11963a263",
   "metadata": {},
   "source": [
    "## quien es el padre?"
   ]
  },
  {
   "cell_type": "code",
   "execution_count": 5,
   "id": "bb8fcf5e-099d-4a7f-956c-6be391e5e3bd",
   "metadata": {},
   "outputs": [],
   "source": [
    "import os"
   ]
  },
  {
   "cell_type": "code",
   "execution_count": 6,
   "id": "46eee9df-7308-4422-8478-7a31dc7ca9f9",
   "metadata": {},
   "outputs": [
    {
     "data": {
      "text/plain": [
       "93224"
      ]
     },
     "execution_count": 6,
     "metadata": {},
     "output_type": "execute_result"
    }
   ],
   "source": [
    "os.getpid()"
   ]
  },
  {
   "cell_type": "code",
   "execution_count": null,
   "id": "72a6f3c7-b814-4ae5-b92d-4b7cca6f4818",
   "metadata": {},
   "outputs": [],
   "source": [
    "from IPython import display as dp\n",
    "dp.Image('5_oct_2023.png')"
   ]
  },
  {
   "cell_type": "markdown",
   "id": "aad6221f-b6ac-4ac0-90b7-b8c62483e9dd",
   "metadata": {},
   "source": [
    "## threads vs processes"
   ]
  },
  {
   "cell_type": "code",
   "execution_count": 8,
   "id": "e3ea9ace-5bfa-483b-8e26-140fc8f9111f",
   "metadata": {
    "jupyter": {
     "source_hidden": true
    }
   },
   "outputs": [],
   "source": [
    "def do_nothing():\n",
    "    while True:\n",
    "        pass"
   ]
  },
  {
   "cell_type": "markdown",
   "id": "36a812b6-9a64-44d0-902f-a3bc8f160bde",
   "metadata": {},
   "source": [
    "### thread example: "
   ]
  },
  {
   "cell_type": "code",
   "execution_count": 9,
   "id": "9abc1572-d4b4-43c7-bc27-50e16864e87b",
   "metadata": {},
   "outputs": [
    {
     "data": {
      "text/plain": [
       "[<_MainThread(MainThread, started 4303979904)>,\n",
       " <Thread(IOPub, started daemon 6184185856)>,\n",
       " <Heartbeat(Heartbeat, started daemon 6201012224)>,\n",
       " <Thread(Thread-3 (_watch_pipe_fd), started daemon 6218985472)>,\n",
       " <Thread(Thread-4 (_watch_pipe_fd), started daemon 6235811840)>,\n",
       " <ControlThread(Control, started daemon 6252638208)>,\n",
       " <HistorySavingThread(IPythonHistorySavingThread, started 6269464576)>,\n",
       " <ParentPollerUnix(Thread-2, started daemon 6286864384)>,\n",
       " <Thread(Thread-5 (do_nothing), started 6303690752)>,\n",
       " <Thread(Thread-6 (do_nothing), started 6320517120)>,\n",
       " <Thread(Thread-7 (do_nothing), started 6337343488)>,\n",
       " <Thread(Thread-8 (do_nothing), started 6354169856)>,\n",
       " <Thread(Thread-9 (do_nothing), started 6370996224)>,\n",
       " <Thread(Thread-10 (do_nothing), started 6387822592)>,\n",
       " <Thread(Thread-11 (do_nothing), started 6404648960)>,\n",
       " <Thread(Thread-12 (do_nothing), started 6421475328)>,\n",
       " <Thread(Thread-13 (do_nothing), started 6438301696)>,\n",
       " <Thread(Thread-14 (do_nothing), started 10754224128)>,\n",
       " <Thread(Thread-15 (do_nothing), started 10771050496)>,\n",
       " <Thread(Thread-16 (do_nothing), started 10787876864)>,\n",
       " <Thread(Thread-17 (do_nothing), started 10804703232)>,\n",
       " <Thread(Thread-18 (do_nothing), started 10821529600)>,\n",
       " <Thread(Thread-19 (do_nothing), started 10838355968)>,\n",
       " <Thread(Thread-20 (do_nothing), started 10855182336)>,\n",
       " <Thread(Thread-21 (do_nothing), started 10872008704)>,\n",
       " <Thread(Thread-22 (do_nothing), started 10888835072)>,\n",
       " <Thread(Thread-23 (do_nothing), started 10905661440)>,\n",
       " <Thread(Thread-24 (do_nothing), started 10922487808)>]"
      ]
     },
     "execution_count": 9,
     "metadata": {},
     "output_type": "execute_result"
    }
   ],
   "source": [
    "for i in range(20):\n",
    "    th.Thread(target=do_nothing).start()\n",
    "\n",
    "th.enumerate()"
   ]
  },
  {
   "cell_type": "code",
   "execution_count": 10,
   "id": "b45b54bd-7e08-4c33-871f-1c1154e7932a",
   "metadata": {},
   "outputs": [],
   "source": [
    "#import core management library\n",
    "import multiprocessing as mp"
   ]
  },
  {
   "cell_type": "markdown",
   "id": "fd693a1b-275d-4a6f-b1f4-71f9751a175b",
   "metadata": {},
   "source": [
    "### process example:"
   ]
  },
  {
   "cell_type": "code",
   "execution_count": null,
   "id": "48798fba-9864-4429-844c-f7619e3f641a",
   "metadata": {},
   "outputs": [],
   "source": [
    "for i in range(10):\n",
    "    mp.Process(target=do_nothing()).start()"
   ]
  },
  {
   "cell_type": "code",
   "execution_count": 12,
   "id": "090e8213-7f21-4cf9-bbbd-2aa78b700afe",
   "metadata": {},
   "outputs": [
    {
     "data": {
      "text/plain": [
       "8"
      ]
     },
     "execution_count": 12,
     "metadata": {},
     "output_type": "execute_result"
    }
   ],
   "source": [
    "mp.cpu_count()"
   ]
  },
  {
   "cell_type": "code",
   "execution_count": 13,
   "id": "49b8b221-1693-4e5f-9d61-350fc6ccbf50",
   "metadata": {},
   "outputs": [
    {
     "data": {
      "text/plain": [
       "['spawn', 'fork', 'forkserver']"
      ]
     },
     "execution_count": 13,
     "metadata": {},
     "output_type": "execute_result"
    }
   ],
   "source": [
    "mp.get_all_start_methods()"
   ]
  },
  {
   "cell_type": "markdown",
   "id": "81b08ead-1753-4ce6-9459-ba8c3f592a13",
   "metadata": {},
   "source": [
    "### cuantos hilos puedo instanciar?\n",
    "según la teoría, el hardware impone el límite, siendo infinitamente escalable\n",
    "pero el interprete establece un límite de recursos utilizables"
   ]
  },
  {
   "cell_type": "code",
   "execution_count": 17,
   "id": "e6c469d1-5b3f-42f3-b949-97511daa6d5c",
   "metadata": {},
   "outputs": [],
   "source": [
    "import platform as pt"
   ]
  },
  {
   "cell_type": "code",
   "execution_count": 23,
   "id": "66ef1bb8-4a8c-4a54-82fb-cd6968e83d12",
   "metadata": {},
   "outputs": [
    {
     "data": {
      "text/plain": [
       "'3.11.5'"
      ]
     },
     "execution_count": 23,
     "metadata": {},
     "output_type": "execute_result"
    }
   ],
   "source": [
    "pt.python_version()"
   ]
  },
  {
   "cell_type": "code",
   "execution_count": null,
   "id": "5b001327-e1e1-4450-9ccb-846a571b8049",
   "metadata": {},
   "outputs": [],
   "source": []
  }
 ],
 "metadata": {
  "kernelspec": {
   "display_name": "Python 3 (ipykernel)",
   "language": "python",
   "name": "python3"
  },
  "language_info": {
   "codemirror_mode": {
    "name": "ipython",
    "version": 3
   },
   "file_extension": ".py",
   "mimetype": "text/x-python",
   "name": "python",
   "nbconvert_exporter": "python",
   "pygments_lexer": "ipython3",
   "version": "3.11.5"
  }
 },
 "nbformat": 4,
 "nbformat_minor": 5
}
